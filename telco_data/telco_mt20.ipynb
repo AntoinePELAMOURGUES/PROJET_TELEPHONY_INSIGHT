{
 "cells": [
  {
   "cell_type": "code",
   "execution_count": 69,
   "metadata": {},
   "outputs": [],
   "source": [
    "import pandas as pd\n",
    "import numpy as np\n",
    "import plotly.graph_objects as go\n",
    "import plotly.express as px\n",
    "from geopy.geocoders import Photon\n",
    "from geopy.extra.rate_limiter import RateLimiter\n",
    "import re"
   ]
  },
  {
   "cell_type": "code",
   "execution_count": 90,
   "metadata": {},
   "outputs": [
    {
     "data": {
      "text/html": [
       "<div>\n",
       "<style scoped>\n",
       "    .dataframe tbody tr th:only-of-type {\n",
       "        vertical-align: middle;\n",
       "    }\n",
       "\n",
       "    .dataframe tbody tr th {\n",
       "        vertical-align: top;\n",
       "    }\n",
       "\n",
       "    .dataframe thead th {\n",
       "        text-align: right;\n",
       "    }\n",
       "</style>\n",
       "<table border=\"1\" class=\"dataframe\">\n",
       "  <thead>\n",
       "    <tr style=\"text-align: right;\">\n",
       "      <th></th>\n",
       "      <th>TYPE</th>\n",
       "      <th>DATE</th>\n",
       "      <th>CIBLE</th>\n",
       "      <th>CORRESPONDANT</th>\n",
       "      <th>DIRECTION</th>\n",
       "      <th>DUREE</th>\n",
       "      <th>IMSI</th>\n",
       "      <th>IMEI</th>\n",
       "      <th>ADRESSE2</th>\n",
       "      <th>CODE POSTAL</th>\n",
       "      <th>VILLE</th>\n",
       "      <th>X</th>\n",
       "      <th>Y</th>\n",
       "    </tr>\n",
       "  </thead>\n",
       "  <tbody>\n",
       "    <tr>\n",
       "      <th>0</th>\n",
       "      <td>DATA_PAQUET</td>\n",
       "      <td>31/08/2024 - 22:29:52 UTC+2</td>\n",
       "      <td>=(\"262693878601\")</td>\n",
       "      <td>NaN</td>\n",
       "      <td>sortant</td>\n",
       "      <td>3600</td>\n",
       "      <td>=(\"647030000326990\")</td>\n",
       "      <td>=(\"356934103953870\")</td>\n",
       "      <td>Chemin Canot</td>\n",
       "      <td>97421</td>\n",
       "      <td>ville inconnue</td>\n",
       "      <td>-21.243958</td>\n",
       "      <td>55.421135</td>\n",
       "    </tr>\n",
       "    <tr>\n",
       "      <th>1</th>\n",
       "      <td>DATA_PAQUET</td>\n",
       "      <td>31/08/2024 - 23:29:52 UTC+2</td>\n",
       "      <td>=(\"262693878601\")</td>\n",
       "      <td>NaN</td>\n",
       "      <td>sortant</td>\n",
       "      <td>3600</td>\n",
       "      <td>=(\"647030000326990\")</td>\n",
       "      <td>=(\"356934103953870\")</td>\n",
       "      <td>Chemin Canot</td>\n",
       "      <td>97421</td>\n",
       "      <td>ville inconnue</td>\n",
       "      <td>-21.243958</td>\n",
       "      <td>55.421135</td>\n",
       "    </tr>\n",
       "    <tr>\n",
       "      <th>2</th>\n",
       "      <td>DATA_PAQUET</td>\n",
       "      <td>01/09/2024 - 00:29:52 UTC+2</td>\n",
       "      <td>=(\"262693878601\")</td>\n",
       "      <td>NaN</td>\n",
       "      <td>sortant</td>\n",
       "      <td>3600</td>\n",
       "      <td>=(\"647030000326990\")</td>\n",
       "      <td>=(\"356934103953870\")</td>\n",
       "      <td>Chemin Canot</td>\n",
       "      <td>97421</td>\n",
       "      <td>ville inconnue</td>\n",
       "      <td>-21.243958</td>\n",
       "      <td>55.421135</td>\n",
       "    </tr>\n",
       "    <tr>\n",
       "      <th>3</th>\n",
       "      <td>DATA_PAQUET</td>\n",
       "      <td>01/09/2024 - 01:29:52 UTC+2</td>\n",
       "      <td>=(\"262693878601\")</td>\n",
       "      <td>NaN</td>\n",
       "      <td>sortant</td>\n",
       "      <td>3600</td>\n",
       "      <td>=(\"647030000326990\")</td>\n",
       "      <td>=(\"356934103953870\")</td>\n",
       "      <td>Chemin Canot</td>\n",
       "      <td>97421</td>\n",
       "      <td>ville inconnue</td>\n",
       "      <td>-21.243958</td>\n",
       "      <td>55.421135</td>\n",
       "    </tr>\n",
       "    <tr>\n",
       "      <th>4</th>\n",
       "      <td>DATA_PAQUET</td>\n",
       "      <td>01/09/2024 - 02:29:52 UTC+2</td>\n",
       "      <td>=(\"262693878601\")</td>\n",
       "      <td>NaN</td>\n",
       "      <td>sortant</td>\n",
       "      <td>3600</td>\n",
       "      <td>=(\"647030000326990\")</td>\n",
       "      <td>=(\"356934103953870\")</td>\n",
       "      <td>Chemin Canot</td>\n",
       "      <td>97421</td>\n",
       "      <td>ville inconnue</td>\n",
       "      <td>-21.243958</td>\n",
       "      <td>55.421135</td>\n",
       "    </tr>\n",
       "  </tbody>\n",
       "</table>\n",
       "</div>"
      ],
      "text/plain": [
       "          TYPE                         DATE              CIBLE CORRESPONDANT  \\\n",
       "0  DATA_PAQUET  31/08/2024 - 22:29:52 UTC+2  =(\"262693878601\")           NaN   \n",
       "1  DATA_PAQUET  31/08/2024 - 23:29:52 UTC+2  =(\"262693878601\")           NaN   \n",
       "2  DATA_PAQUET  01/09/2024 - 00:29:52 UTC+2  =(\"262693878601\")           NaN   \n",
       "3  DATA_PAQUET  01/09/2024 - 01:29:52 UTC+2  =(\"262693878601\")           NaN   \n",
       "4  DATA_PAQUET  01/09/2024 - 02:29:52 UTC+2  =(\"262693878601\")           NaN   \n",
       "\n",
       "  DIRECTION DUREE                  IMSI                  IMEI       ADRESSE2  \\\n",
       "0   sortant  3600  =(\"647030000326990\")  =(\"356934103953870\")   Chemin Canot   \n",
       "1   sortant  3600  =(\"647030000326990\")  =(\"356934103953870\")   Chemin Canot   \n",
       "2   sortant  3600  =(\"647030000326990\")  =(\"356934103953870\")   Chemin Canot   \n",
       "3   sortant  3600  =(\"647030000326990\")  =(\"356934103953870\")   Chemin Canot   \n",
       "4   sortant  3600  =(\"647030000326990\")  =(\"356934103953870\")   Chemin Canot   \n",
       "\n",
       "  CODE POSTAL           VILLE           X          Y  \n",
       "0       97421  ville inconnue  -21.243958  55.421135  \n",
       "1       97421  ville inconnue  -21.243958  55.421135  \n",
       "2       97421  ville inconnue  -21.243958  55.421135  \n",
       "3       97421  ville inconnue  -21.243958  55.421135  \n",
       "4       97421  ville inconnue  -21.243958  55.421135  "
      ]
     },
     "execution_count": 90,
     "metadata": {},
     "output_type": "execute_result"
    }
   ],
   "source": [
    "df = pd.read_csv('mt20_tcoi.csv', sep=';', encoding='latin1', usecols=[\"TYPE\", \"DATE\", \"CIBLE\", \"CORRESPONDANT\", \"DIRECTION\", \"DUREE\", \"IMSI\", \"IMEI\", \"ADRESSE2\", \"CODE POSTAL\", \"VILLE\", \"X\", \"Y\"], dtype= {\"TYPE\": str, \"CIBLE\": str, \"CORRESPONDANT\": str, \"DIRECTION\": str, \"DUREE\": str, \"IMSI\": str, \"IMEI\": str, \"ADRESSE2\": str, \"CODE POSTAL\": str, \"VILLE\": str, \"X\": str, \"Y\": str})\n",
    "df.head()"
   ]
  },
  {
   "cell_type": "code",
   "execution_count": 91,
   "metadata": {},
   "outputs": [
    {
     "data": {
      "text/html": [
       "<div>\n",
       "<style scoped>\n",
       "    .dataframe tbody tr th:only-of-type {\n",
       "        vertical-align: middle;\n",
       "    }\n",
       "\n",
       "    .dataframe tbody tr th {\n",
       "        vertical-align: top;\n",
       "    }\n",
       "\n",
       "    .dataframe thead th {\n",
       "        text-align: right;\n",
       "    }\n",
       "</style>\n",
       "<table border=\"1\" class=\"dataframe\">\n",
       "  <thead>\n",
       "    <tr style=\"text-align: right;\">\n",
       "      <th></th>\n",
       "      <th>TYPE</th>\n",
       "      <th>DATE</th>\n",
       "      <th>CIBLE</th>\n",
       "      <th>CORRESPONDANT</th>\n",
       "      <th>DIRECTION</th>\n",
       "      <th>DUREE</th>\n",
       "      <th>IMSI</th>\n",
       "      <th>IMEI</th>\n",
       "      <th>ADRESSE2</th>\n",
       "      <th>CODE POSTAL</th>\n",
       "      <th>VILLE</th>\n",
       "      <th>X</th>\n",
       "      <th>Y</th>\n",
       "      <th>converted_date</th>\n",
       "    </tr>\n",
       "  </thead>\n",
       "  <tbody>\n",
       "    <tr>\n",
       "      <th>0</th>\n",
       "      <td>DATA_PAQUET</td>\n",
       "      <td>31/08/2024 - 22:29:52 UTC+2</td>\n",
       "      <td>=(\"262693878601\")</td>\n",
       "      <td>NaN</td>\n",
       "      <td>sortant</td>\n",
       "      <td>3600</td>\n",
       "      <td>=(\"647030000326990\")</td>\n",
       "      <td>=(\"356934103953870\")</td>\n",
       "      <td>Chemin Canot</td>\n",
       "      <td>97421</td>\n",
       "      <td>ville inconnue</td>\n",
       "      <td>-21.243958</td>\n",
       "      <td>55.421135</td>\n",
       "      <td>2024-09-01 00:29:52</td>\n",
       "    </tr>\n",
       "    <tr>\n",
       "      <th>1</th>\n",
       "      <td>DATA_PAQUET</td>\n",
       "      <td>31/08/2024 - 23:29:52 UTC+2</td>\n",
       "      <td>=(\"262693878601\")</td>\n",
       "      <td>NaN</td>\n",
       "      <td>sortant</td>\n",
       "      <td>3600</td>\n",
       "      <td>=(\"647030000326990\")</td>\n",
       "      <td>=(\"356934103953870\")</td>\n",
       "      <td>Chemin Canot</td>\n",
       "      <td>97421</td>\n",
       "      <td>ville inconnue</td>\n",
       "      <td>-21.243958</td>\n",
       "      <td>55.421135</td>\n",
       "      <td>2024-09-01 01:29:52</td>\n",
       "    </tr>\n",
       "    <tr>\n",
       "      <th>2</th>\n",
       "      <td>DATA_PAQUET</td>\n",
       "      <td>01/09/2024 - 00:29:52 UTC+2</td>\n",
       "      <td>=(\"262693878601\")</td>\n",
       "      <td>NaN</td>\n",
       "      <td>sortant</td>\n",
       "      <td>3600</td>\n",
       "      <td>=(\"647030000326990\")</td>\n",
       "      <td>=(\"356934103953870\")</td>\n",
       "      <td>Chemin Canot</td>\n",
       "      <td>97421</td>\n",
       "      <td>ville inconnue</td>\n",
       "      <td>-21.243958</td>\n",
       "      <td>55.421135</td>\n",
       "      <td>2024-09-01 02:29:52</td>\n",
       "    </tr>\n",
       "    <tr>\n",
       "      <th>3</th>\n",
       "      <td>DATA_PAQUET</td>\n",
       "      <td>01/09/2024 - 01:29:52 UTC+2</td>\n",
       "      <td>=(\"262693878601\")</td>\n",
       "      <td>NaN</td>\n",
       "      <td>sortant</td>\n",
       "      <td>3600</td>\n",
       "      <td>=(\"647030000326990\")</td>\n",
       "      <td>=(\"356934103953870\")</td>\n",
       "      <td>Chemin Canot</td>\n",
       "      <td>97421</td>\n",
       "      <td>ville inconnue</td>\n",
       "      <td>-21.243958</td>\n",
       "      <td>55.421135</td>\n",
       "      <td>2024-09-01 03:29:52</td>\n",
       "    </tr>\n",
       "    <tr>\n",
       "      <th>4</th>\n",
       "      <td>DATA_PAQUET</td>\n",
       "      <td>01/09/2024 - 02:29:52 UTC+2</td>\n",
       "      <td>=(\"262693878601\")</td>\n",
       "      <td>NaN</td>\n",
       "      <td>sortant</td>\n",
       "      <td>3600</td>\n",
       "      <td>=(\"647030000326990\")</td>\n",
       "      <td>=(\"356934103953870\")</td>\n",
       "      <td>Chemin Canot</td>\n",
       "      <td>97421</td>\n",
       "      <td>ville inconnue</td>\n",
       "      <td>-21.243958</td>\n",
       "      <td>55.421135</td>\n",
       "      <td>2024-09-01 04:29:52</td>\n",
       "    </tr>\n",
       "  </tbody>\n",
       "</table>\n",
       "</div>"
      ],
      "text/plain": [
       "          TYPE                         DATE              CIBLE CORRESPONDANT  \\\n",
       "0  DATA_PAQUET  31/08/2024 - 22:29:52 UTC+2  =(\"262693878601\")           NaN   \n",
       "1  DATA_PAQUET  31/08/2024 - 23:29:52 UTC+2  =(\"262693878601\")           NaN   \n",
       "2  DATA_PAQUET  01/09/2024 - 00:29:52 UTC+2  =(\"262693878601\")           NaN   \n",
       "3  DATA_PAQUET  01/09/2024 - 01:29:52 UTC+2  =(\"262693878601\")           NaN   \n",
       "4  DATA_PAQUET  01/09/2024 - 02:29:52 UTC+2  =(\"262693878601\")           NaN   \n",
       "\n",
       "  DIRECTION DUREE                  IMSI                  IMEI       ADRESSE2  \\\n",
       "0   sortant  3600  =(\"647030000326990\")  =(\"356934103953870\")   Chemin Canot   \n",
       "1   sortant  3600  =(\"647030000326990\")  =(\"356934103953870\")   Chemin Canot   \n",
       "2   sortant  3600  =(\"647030000326990\")  =(\"356934103953870\")   Chemin Canot   \n",
       "3   sortant  3600  =(\"647030000326990\")  =(\"356934103953870\")   Chemin Canot   \n",
       "4   sortant  3600  =(\"647030000326990\")  =(\"356934103953870\")   Chemin Canot   \n",
       "\n",
       "  CODE POSTAL           VILLE           X          Y      converted_date  \n",
       "0       97421  ville inconnue  -21.243958  55.421135 2024-09-01 00:29:52  \n",
       "1       97421  ville inconnue  -21.243958  55.421135 2024-09-01 01:29:52  \n",
       "2       97421  ville inconnue  -21.243958  55.421135 2024-09-01 02:29:52  \n",
       "3       97421  ville inconnue  -21.243958  55.421135 2024-09-01 03:29:52  \n",
       "4       97421  ville inconnue  -21.243958  55.421135 2024-09-01 04:29:52  "
      ]
     },
     "execution_count": 91,
     "metadata": {},
     "output_type": "execute_result"
    }
   ],
   "source": [
    "# Fonction pour convertir les dates\n",
    "def convert_date(date_str):\n",
    "    # Extraire le fuseau horaire avec une expression régulière\n",
    "    match = re.search(r'UTC([+-]\\d)', date_str)\n",
    "    if match:\n",
    "        utc_offset = int(match.group(1))  # Récupérer le décalage horaire\n",
    "    else:\n",
    "        utc_offset = 0  # Valeur par défaut si aucun fuseau horaire n'est trouvé\n",
    "\n",
    "    # Retirer le fuseau horaire et convertir en datetime\n",
    "    date_without_tz = date_str.split(' UTC')[0]  # Retirer ' UTC+X'\n",
    "    dt = pd.to_datetime(date_without_tz, format='%d/%m/%Y - %H:%M:%S')\n",
    "\n",
    "    # Ajuster le fuseau horaire à UTC+4\n",
    "    dt = dt + pd.Timedelta(hours=(4 - utc_offset))  # Ajustement basé sur l'offset\n",
    "\n",
    "    return dt\n",
    "\n",
    "# Appliquer la fonction pour convertir les dates\n",
    "df['converted_date'] = df['DATE'].apply(convert_date)\n",
    "\n",
    "# Afficher le DataFrame avec les dates converties\n",
    "df.head()"
   ]
  },
  {
   "cell_type": "code",
   "execution_count": 92,
   "metadata": {},
   "outputs": [],
   "source": [
    "# Formater la date au format DD-MM-YYYY HH:MM:SS\n",
    "df['formatted_date'] = df['converted_date'].dt.strftime('%d-%m-%Y %H:%M:%S')"
   ]
  },
  {
   "cell_type": "code",
   "execution_count": 93,
   "metadata": {},
   "outputs": [
    {
     "data": {
      "text/html": [
       "<div>\n",
       "<style scoped>\n",
       "    .dataframe tbody tr th:only-of-type {\n",
       "        vertical-align: middle;\n",
       "    }\n",
       "\n",
       "    .dataframe tbody tr th {\n",
       "        vertical-align: top;\n",
       "    }\n",
       "\n",
       "    .dataframe thead th {\n",
       "        text-align: right;\n",
       "    }\n",
       "</style>\n",
       "<table border=\"1\" class=\"dataframe\">\n",
       "  <thead>\n",
       "    <tr style=\"text-align: right;\">\n",
       "      <th></th>\n",
       "      <th>TYPE</th>\n",
       "      <th>DATE</th>\n",
       "      <th>CIBLE</th>\n",
       "      <th>CORRESPONDANT</th>\n",
       "      <th>DIRECTION</th>\n",
       "      <th>DUREE</th>\n",
       "      <th>IMSI</th>\n",
       "      <th>IMEI</th>\n",
       "      <th>ADRESSE2</th>\n",
       "      <th>CODE POSTAL</th>\n",
       "      <th>VILLE</th>\n",
       "      <th>X</th>\n",
       "      <th>Y</th>\n",
       "      <th>converted_date</th>\n",
       "      <th>formatted_date</th>\n",
       "    </tr>\n",
       "  </thead>\n",
       "  <tbody>\n",
       "    <tr>\n",
       "      <th>0</th>\n",
       "      <td>DATA_PAQUET</td>\n",
       "      <td>31/08/2024 - 22:29:52 UTC+2</td>\n",
       "      <td>=(\"262693878601\")</td>\n",
       "      <td>NaN</td>\n",
       "      <td>sortant</td>\n",
       "      <td>3600</td>\n",
       "      <td>=(\"647030000326990\")</td>\n",
       "      <td>=(\"356934103953870\")</td>\n",
       "      <td>Chemin Canot</td>\n",
       "      <td>97421</td>\n",
       "      <td>ville inconnue</td>\n",
       "      <td>-21.243958</td>\n",
       "      <td>55.421135</td>\n",
       "      <td>2024-09-01 00:29:52</td>\n",
       "      <td>01-09-2024 00:29:52</td>\n",
       "    </tr>\n",
       "    <tr>\n",
       "      <th>1</th>\n",
       "      <td>DATA_PAQUET</td>\n",
       "      <td>31/08/2024 - 23:29:52 UTC+2</td>\n",
       "      <td>=(\"262693878601\")</td>\n",
       "      <td>NaN</td>\n",
       "      <td>sortant</td>\n",
       "      <td>3600</td>\n",
       "      <td>=(\"647030000326990\")</td>\n",
       "      <td>=(\"356934103953870\")</td>\n",
       "      <td>Chemin Canot</td>\n",
       "      <td>97421</td>\n",
       "      <td>ville inconnue</td>\n",
       "      <td>-21.243958</td>\n",
       "      <td>55.421135</td>\n",
       "      <td>2024-09-01 01:29:52</td>\n",
       "      <td>01-09-2024 01:29:52</td>\n",
       "    </tr>\n",
       "    <tr>\n",
       "      <th>2</th>\n",
       "      <td>DATA_PAQUET</td>\n",
       "      <td>01/09/2024 - 00:29:52 UTC+2</td>\n",
       "      <td>=(\"262693878601\")</td>\n",
       "      <td>NaN</td>\n",
       "      <td>sortant</td>\n",
       "      <td>3600</td>\n",
       "      <td>=(\"647030000326990\")</td>\n",
       "      <td>=(\"356934103953870\")</td>\n",
       "      <td>Chemin Canot</td>\n",
       "      <td>97421</td>\n",
       "      <td>ville inconnue</td>\n",
       "      <td>-21.243958</td>\n",
       "      <td>55.421135</td>\n",
       "      <td>2024-09-01 02:29:52</td>\n",
       "      <td>01-09-2024 02:29:52</td>\n",
       "    </tr>\n",
       "    <tr>\n",
       "      <th>3</th>\n",
       "      <td>DATA_PAQUET</td>\n",
       "      <td>01/09/2024 - 01:29:52 UTC+2</td>\n",
       "      <td>=(\"262693878601\")</td>\n",
       "      <td>NaN</td>\n",
       "      <td>sortant</td>\n",
       "      <td>3600</td>\n",
       "      <td>=(\"647030000326990\")</td>\n",
       "      <td>=(\"356934103953870\")</td>\n",
       "      <td>Chemin Canot</td>\n",
       "      <td>97421</td>\n",
       "      <td>ville inconnue</td>\n",
       "      <td>-21.243958</td>\n",
       "      <td>55.421135</td>\n",
       "      <td>2024-09-01 03:29:52</td>\n",
       "      <td>01-09-2024 03:29:52</td>\n",
       "    </tr>\n",
       "    <tr>\n",
       "      <th>4</th>\n",
       "      <td>DATA_PAQUET</td>\n",
       "      <td>01/09/2024 - 02:29:52 UTC+2</td>\n",
       "      <td>=(\"262693878601\")</td>\n",
       "      <td>NaN</td>\n",
       "      <td>sortant</td>\n",
       "      <td>3600</td>\n",
       "      <td>=(\"647030000326990\")</td>\n",
       "      <td>=(\"356934103953870\")</td>\n",
       "      <td>Chemin Canot</td>\n",
       "      <td>97421</td>\n",
       "      <td>ville inconnue</td>\n",
       "      <td>-21.243958</td>\n",
       "      <td>55.421135</td>\n",
       "      <td>2024-09-01 04:29:52</td>\n",
       "      <td>01-09-2024 04:29:52</td>\n",
       "    </tr>\n",
       "  </tbody>\n",
       "</table>\n",
       "</div>"
      ],
      "text/plain": [
       "          TYPE                         DATE              CIBLE CORRESPONDANT  \\\n",
       "0  DATA_PAQUET  31/08/2024 - 22:29:52 UTC+2  =(\"262693878601\")           NaN   \n",
       "1  DATA_PAQUET  31/08/2024 - 23:29:52 UTC+2  =(\"262693878601\")           NaN   \n",
       "2  DATA_PAQUET  01/09/2024 - 00:29:52 UTC+2  =(\"262693878601\")           NaN   \n",
       "3  DATA_PAQUET  01/09/2024 - 01:29:52 UTC+2  =(\"262693878601\")           NaN   \n",
       "4  DATA_PAQUET  01/09/2024 - 02:29:52 UTC+2  =(\"262693878601\")           NaN   \n",
       "\n",
       "  DIRECTION DUREE                  IMSI                  IMEI       ADRESSE2  \\\n",
       "0   sortant  3600  =(\"647030000326990\")  =(\"356934103953870\")   Chemin Canot   \n",
       "1   sortant  3600  =(\"647030000326990\")  =(\"356934103953870\")   Chemin Canot   \n",
       "2   sortant  3600  =(\"647030000326990\")  =(\"356934103953870\")   Chemin Canot   \n",
       "3   sortant  3600  =(\"647030000326990\")  =(\"356934103953870\")   Chemin Canot   \n",
       "4   sortant  3600  =(\"647030000326990\")  =(\"356934103953870\")   Chemin Canot   \n",
       "\n",
       "  CODE POSTAL           VILLE           X          Y      converted_date  \\\n",
       "0       97421  ville inconnue  -21.243958  55.421135 2024-09-01 00:29:52   \n",
       "1       97421  ville inconnue  -21.243958  55.421135 2024-09-01 01:29:52   \n",
       "2       97421  ville inconnue  -21.243958  55.421135 2024-09-01 02:29:52   \n",
       "3       97421  ville inconnue  -21.243958  55.421135 2024-09-01 03:29:52   \n",
       "4       97421  ville inconnue  -21.243958  55.421135 2024-09-01 04:29:52   \n",
       "\n",
       "        formatted_date  \n",
       "0  01-09-2024 00:29:52  \n",
       "1  01-09-2024 01:29:52  \n",
       "2  01-09-2024 02:29:52  \n",
       "3  01-09-2024 03:29:52  \n",
       "4  01-09-2024 04:29:52  "
      ]
     },
     "execution_count": 93,
     "metadata": {},
     "output_type": "execute_result"
    }
   ],
   "source": [
    "df.head()"
   ]
  },
  {
   "cell_type": "code",
   "execution_count": 94,
   "metadata": {},
   "outputs": [],
   "source": [
    "df[\"CORRESPONDANT\"] = df[\"CORRESPONDANT\"].fillna(\"Data\")\n",
    "df[\"DUREE\"] = df[\"DUREE\"].fillna(\"0\")\n",
    "df['IMEI'] = df['IMEI'].fillna(\"Non précisé\")\n"
   ]
  },
  {
   "cell_type": "code",
   "execution_count": 95,
   "metadata": {},
   "outputs": [
    {
     "name": "stdout",
     "output_type": "stream",
     "text": [
      "TYPE                 0\n",
      "DATE                 0\n",
      "CIBLE                0\n",
      "CORRESPONDANT        0\n",
      "DIRECTION            0\n",
      "DUREE                0\n",
      "IMSI                 0\n",
      "IMEI                 0\n",
      "ADRESSE2          1052\n",
      "CODE POSTAL       1052\n",
      "VILLE             1052\n",
      "X                 1052\n",
      "Y                 1052\n",
      "converted_date       0\n",
      "formatted_date       0\n",
      "dtype: int64\n"
     ]
    }
   ],
   "source": [
    "print(df.isna().sum())"
   ]
  },
  {
   "cell_type": "code",
   "execution_count": 96,
   "metadata": {},
   "outputs": [
    {
     "data": {
      "text/html": [
       "<div>\n",
       "<style scoped>\n",
       "    .dataframe tbody tr th:only-of-type {\n",
       "        vertical-align: middle;\n",
       "    }\n",
       "\n",
       "    .dataframe tbody tr th {\n",
       "        vertical-align: top;\n",
       "    }\n",
       "\n",
       "    .dataframe thead th {\n",
       "        text-align: right;\n",
       "    }\n",
       "</style>\n",
       "<table border=\"1\" class=\"dataframe\">\n",
       "  <thead>\n",
       "    <tr style=\"text-align: right;\">\n",
       "      <th></th>\n",
       "      <th>TYPE</th>\n",
       "      <th>DATE</th>\n",
       "      <th>CIBLE</th>\n",
       "      <th>CORRESPONDANT</th>\n",
       "      <th>DIRECTION</th>\n",
       "      <th>DUREE</th>\n",
       "      <th>IMSI</th>\n",
       "      <th>IMEI</th>\n",
       "      <th>ADRESSE2</th>\n",
       "      <th>CODE POSTAL</th>\n",
       "      <th>VILLE</th>\n",
       "      <th>X</th>\n",
       "      <th>Y</th>\n",
       "      <th>converted_date</th>\n",
       "      <th>formatted_date</th>\n",
       "    </tr>\n",
       "  </thead>\n",
       "  <tbody>\n",
       "    <tr>\n",
       "      <th>0</th>\n",
       "      <td>DATA_PAQUET</td>\n",
       "      <td>31/08/2024 - 22:29:52 UTC+2</td>\n",
       "      <td>=(\"262693878601\")</td>\n",
       "      <td>Data</td>\n",
       "      <td>sortant</td>\n",
       "      <td>3600</td>\n",
       "      <td>=(\"647030000326990\")</td>\n",
       "      <td>=(\"356934103953870\")</td>\n",
       "      <td>Chemin Canot</td>\n",
       "      <td>97421</td>\n",
       "      <td>ville inconnue</td>\n",
       "      <td>-21.243958</td>\n",
       "      <td>55.421135</td>\n",
       "      <td>2024-09-01 00:29:52</td>\n",
       "      <td>01-09-2024 00:29:52</td>\n",
       "    </tr>\n",
       "    <tr>\n",
       "      <th>1</th>\n",
       "      <td>DATA_PAQUET</td>\n",
       "      <td>31/08/2024 - 23:29:52 UTC+2</td>\n",
       "      <td>=(\"262693878601\")</td>\n",
       "      <td>Data</td>\n",
       "      <td>sortant</td>\n",
       "      <td>3600</td>\n",
       "      <td>=(\"647030000326990\")</td>\n",
       "      <td>=(\"356934103953870\")</td>\n",
       "      <td>Chemin Canot</td>\n",
       "      <td>97421</td>\n",
       "      <td>ville inconnue</td>\n",
       "      <td>-21.243958</td>\n",
       "      <td>55.421135</td>\n",
       "      <td>2024-09-01 01:29:52</td>\n",
       "      <td>01-09-2024 01:29:52</td>\n",
       "    </tr>\n",
       "    <tr>\n",
       "      <th>2</th>\n",
       "      <td>DATA_PAQUET</td>\n",
       "      <td>01/09/2024 - 00:29:52 UTC+2</td>\n",
       "      <td>=(\"262693878601\")</td>\n",
       "      <td>Data</td>\n",
       "      <td>sortant</td>\n",
       "      <td>3600</td>\n",
       "      <td>=(\"647030000326990\")</td>\n",
       "      <td>=(\"356934103953870\")</td>\n",
       "      <td>Chemin Canot</td>\n",
       "      <td>97421</td>\n",
       "      <td>ville inconnue</td>\n",
       "      <td>-21.243958</td>\n",
       "      <td>55.421135</td>\n",
       "      <td>2024-09-01 02:29:52</td>\n",
       "      <td>01-09-2024 02:29:52</td>\n",
       "    </tr>\n",
       "    <tr>\n",
       "      <th>3</th>\n",
       "      <td>DATA_PAQUET</td>\n",
       "      <td>01/09/2024 - 01:29:52 UTC+2</td>\n",
       "      <td>=(\"262693878601\")</td>\n",
       "      <td>Data</td>\n",
       "      <td>sortant</td>\n",
       "      <td>3600</td>\n",
       "      <td>=(\"647030000326990\")</td>\n",
       "      <td>=(\"356934103953870\")</td>\n",
       "      <td>Chemin Canot</td>\n",
       "      <td>97421</td>\n",
       "      <td>ville inconnue</td>\n",
       "      <td>-21.243958</td>\n",
       "      <td>55.421135</td>\n",
       "      <td>2024-09-01 03:29:52</td>\n",
       "      <td>01-09-2024 03:29:52</td>\n",
       "    </tr>\n",
       "    <tr>\n",
       "      <th>4</th>\n",
       "      <td>DATA_PAQUET</td>\n",
       "      <td>01/09/2024 - 02:29:52 UTC+2</td>\n",
       "      <td>=(\"262693878601\")</td>\n",
       "      <td>Data</td>\n",
       "      <td>sortant</td>\n",
       "      <td>3600</td>\n",
       "      <td>=(\"647030000326990\")</td>\n",
       "      <td>=(\"356934103953870\")</td>\n",
       "      <td>Chemin Canot</td>\n",
       "      <td>97421</td>\n",
       "      <td>ville inconnue</td>\n",
       "      <td>-21.243958</td>\n",
       "      <td>55.421135</td>\n",
       "      <td>2024-09-01 04:29:52</td>\n",
       "      <td>01-09-2024 04:29:52</td>\n",
       "    </tr>\n",
       "  </tbody>\n",
       "</table>\n",
       "</div>"
      ],
      "text/plain": [
       "          TYPE                         DATE              CIBLE CORRESPONDANT  \\\n",
       "0  DATA_PAQUET  31/08/2024 - 22:29:52 UTC+2  =(\"262693878601\")          Data   \n",
       "1  DATA_PAQUET  31/08/2024 - 23:29:52 UTC+2  =(\"262693878601\")          Data   \n",
       "2  DATA_PAQUET  01/09/2024 - 00:29:52 UTC+2  =(\"262693878601\")          Data   \n",
       "3  DATA_PAQUET  01/09/2024 - 01:29:52 UTC+2  =(\"262693878601\")          Data   \n",
       "4  DATA_PAQUET  01/09/2024 - 02:29:52 UTC+2  =(\"262693878601\")          Data   \n",
       "\n",
       "  DIRECTION DUREE                  IMSI                  IMEI       ADRESSE2  \\\n",
       "0   sortant  3600  =(\"647030000326990\")  =(\"356934103953870\")   Chemin Canot   \n",
       "1   sortant  3600  =(\"647030000326990\")  =(\"356934103953870\")   Chemin Canot   \n",
       "2   sortant  3600  =(\"647030000326990\")  =(\"356934103953870\")   Chemin Canot   \n",
       "3   sortant  3600  =(\"647030000326990\")  =(\"356934103953870\")   Chemin Canot   \n",
       "4   sortant  3600  =(\"647030000326990\")  =(\"356934103953870\")   Chemin Canot   \n",
       "\n",
       "  CODE POSTAL           VILLE           X          Y      converted_date  \\\n",
       "0       97421  ville inconnue  -21.243958  55.421135 2024-09-01 00:29:52   \n",
       "1       97421  ville inconnue  -21.243958  55.421135 2024-09-01 01:29:52   \n",
       "2       97421  ville inconnue  -21.243958  55.421135 2024-09-01 02:29:52   \n",
       "3       97421  ville inconnue  -21.243958  55.421135 2024-09-01 03:29:52   \n",
       "4       97421  ville inconnue  -21.243958  55.421135 2024-09-01 04:29:52   \n",
       "\n",
       "        formatted_date  \n",
       "0  01-09-2024 00:29:52  \n",
       "1  01-09-2024 01:29:52  \n",
       "2  01-09-2024 02:29:52  \n",
       "3  01-09-2024 03:29:52  \n",
       "4  01-09-2024 04:29:52  "
      ]
     },
     "execution_count": 96,
     "metadata": {},
     "output_type": "execute_result"
    }
   ],
   "source": [
    "df.head()"
   ]
  },
  {
   "cell_type": "code",
   "execution_count": 97,
   "metadata": {},
   "outputs": [],
   "source": [
    "# Fonction pour nettoyer les chaînes\n",
    "def clean_number(number_str):\n",
    "    # Utiliser une expression régulière pour supprimer le préfixe et le suffixe\n",
    "    return re.sub(r'^\\=\\(\"\\s*|\\s*\"\\)$', '', number_str)"
   ]
  },
  {
   "cell_type": "code",
   "execution_count": 98,
   "metadata": {},
   "outputs": [
    {
     "data": {
      "text/html": [
       "<div>\n",
       "<style scoped>\n",
       "    .dataframe tbody tr th:only-of-type {\n",
       "        vertical-align: middle;\n",
       "    }\n",
       "\n",
       "    .dataframe tbody tr th {\n",
       "        vertical-align: top;\n",
       "    }\n",
       "\n",
       "    .dataframe thead th {\n",
       "        text-align: right;\n",
       "    }\n",
       "</style>\n",
       "<table border=\"1\" class=\"dataframe\">\n",
       "  <thead>\n",
       "    <tr style=\"text-align: right;\">\n",
       "      <th></th>\n",
       "      <th>TYPE</th>\n",
       "      <th>DATE</th>\n",
       "      <th>CIBLE</th>\n",
       "      <th>CORRESPONDANT</th>\n",
       "      <th>DIRECTION</th>\n",
       "      <th>DUREE</th>\n",
       "      <th>IMSI</th>\n",
       "      <th>IMEI</th>\n",
       "      <th>ADRESSE2</th>\n",
       "      <th>CODE POSTAL</th>\n",
       "      <th>VILLE</th>\n",
       "      <th>X</th>\n",
       "      <th>Y</th>\n",
       "      <th>converted_date</th>\n",
       "      <th>formatted_date</th>\n",
       "    </tr>\n",
       "  </thead>\n",
       "  <tbody>\n",
       "    <tr>\n",
       "      <th>0</th>\n",
       "      <td>DATA_PAQUET</td>\n",
       "      <td>31/08/2024 - 22:29:52 UTC+2</td>\n",
       "      <td>262693878601</td>\n",
       "      <td>Data</td>\n",
       "      <td>sortant</td>\n",
       "      <td>3600</td>\n",
       "      <td>=(\"647030000326990\")</td>\n",
       "      <td>=(\"356934103953870\")</td>\n",
       "      <td>Chemin Canot</td>\n",
       "      <td>97421</td>\n",
       "      <td>ville inconnue</td>\n",
       "      <td>-21.243958</td>\n",
       "      <td>55.421135</td>\n",
       "      <td>2024-09-01 00:29:52</td>\n",
       "      <td>01-09-2024 00:29:52</td>\n",
       "    </tr>\n",
       "    <tr>\n",
       "      <th>1</th>\n",
       "      <td>DATA_PAQUET</td>\n",
       "      <td>31/08/2024 - 23:29:52 UTC+2</td>\n",
       "      <td>262693878601</td>\n",
       "      <td>Data</td>\n",
       "      <td>sortant</td>\n",
       "      <td>3600</td>\n",
       "      <td>=(\"647030000326990\")</td>\n",
       "      <td>=(\"356934103953870\")</td>\n",
       "      <td>Chemin Canot</td>\n",
       "      <td>97421</td>\n",
       "      <td>ville inconnue</td>\n",
       "      <td>-21.243958</td>\n",
       "      <td>55.421135</td>\n",
       "      <td>2024-09-01 01:29:52</td>\n",
       "      <td>01-09-2024 01:29:52</td>\n",
       "    </tr>\n",
       "    <tr>\n",
       "      <th>2</th>\n",
       "      <td>DATA_PAQUET</td>\n",
       "      <td>01/09/2024 - 00:29:52 UTC+2</td>\n",
       "      <td>262693878601</td>\n",
       "      <td>Data</td>\n",
       "      <td>sortant</td>\n",
       "      <td>3600</td>\n",
       "      <td>=(\"647030000326990\")</td>\n",
       "      <td>=(\"356934103953870\")</td>\n",
       "      <td>Chemin Canot</td>\n",
       "      <td>97421</td>\n",
       "      <td>ville inconnue</td>\n",
       "      <td>-21.243958</td>\n",
       "      <td>55.421135</td>\n",
       "      <td>2024-09-01 02:29:52</td>\n",
       "      <td>01-09-2024 02:29:52</td>\n",
       "    </tr>\n",
       "    <tr>\n",
       "      <th>3</th>\n",
       "      <td>DATA_PAQUET</td>\n",
       "      <td>01/09/2024 - 01:29:52 UTC+2</td>\n",
       "      <td>262693878601</td>\n",
       "      <td>Data</td>\n",
       "      <td>sortant</td>\n",
       "      <td>3600</td>\n",
       "      <td>=(\"647030000326990\")</td>\n",
       "      <td>=(\"356934103953870\")</td>\n",
       "      <td>Chemin Canot</td>\n",
       "      <td>97421</td>\n",
       "      <td>ville inconnue</td>\n",
       "      <td>-21.243958</td>\n",
       "      <td>55.421135</td>\n",
       "      <td>2024-09-01 03:29:52</td>\n",
       "      <td>01-09-2024 03:29:52</td>\n",
       "    </tr>\n",
       "    <tr>\n",
       "      <th>4</th>\n",
       "      <td>DATA_PAQUET</td>\n",
       "      <td>01/09/2024 - 02:29:52 UTC+2</td>\n",
       "      <td>262693878601</td>\n",
       "      <td>Data</td>\n",
       "      <td>sortant</td>\n",
       "      <td>3600</td>\n",
       "      <td>=(\"647030000326990\")</td>\n",
       "      <td>=(\"356934103953870\")</td>\n",
       "      <td>Chemin Canot</td>\n",
       "      <td>97421</td>\n",
       "      <td>ville inconnue</td>\n",
       "      <td>-21.243958</td>\n",
       "      <td>55.421135</td>\n",
       "      <td>2024-09-01 04:29:52</td>\n",
       "      <td>01-09-2024 04:29:52</td>\n",
       "    </tr>\n",
       "  </tbody>\n",
       "</table>\n",
       "</div>"
      ],
      "text/plain": [
       "          TYPE                         DATE         CIBLE CORRESPONDANT  \\\n",
       "0  DATA_PAQUET  31/08/2024 - 22:29:52 UTC+2  262693878601          Data   \n",
       "1  DATA_PAQUET  31/08/2024 - 23:29:52 UTC+2  262693878601          Data   \n",
       "2  DATA_PAQUET  01/09/2024 - 00:29:52 UTC+2  262693878601          Data   \n",
       "3  DATA_PAQUET  01/09/2024 - 01:29:52 UTC+2  262693878601          Data   \n",
       "4  DATA_PAQUET  01/09/2024 - 02:29:52 UTC+2  262693878601          Data   \n",
       "\n",
       "  DIRECTION DUREE                  IMSI                  IMEI       ADRESSE2  \\\n",
       "0   sortant  3600  =(\"647030000326990\")  =(\"356934103953870\")   Chemin Canot   \n",
       "1   sortant  3600  =(\"647030000326990\")  =(\"356934103953870\")   Chemin Canot   \n",
       "2   sortant  3600  =(\"647030000326990\")  =(\"356934103953870\")   Chemin Canot   \n",
       "3   sortant  3600  =(\"647030000326990\")  =(\"356934103953870\")   Chemin Canot   \n",
       "4   sortant  3600  =(\"647030000326990\")  =(\"356934103953870\")   Chemin Canot   \n",
       "\n",
       "  CODE POSTAL           VILLE           X          Y      converted_date  \\\n",
       "0       97421  ville inconnue  -21.243958  55.421135 2024-09-01 00:29:52   \n",
       "1       97421  ville inconnue  -21.243958  55.421135 2024-09-01 01:29:52   \n",
       "2       97421  ville inconnue  -21.243958  55.421135 2024-09-01 02:29:52   \n",
       "3       97421  ville inconnue  -21.243958  55.421135 2024-09-01 03:29:52   \n",
       "4       97421  ville inconnue  -21.243958  55.421135 2024-09-01 04:29:52   \n",
       "\n",
       "        formatted_date  \n",
       "0  01-09-2024 00:29:52  \n",
       "1  01-09-2024 01:29:52  \n",
       "2  01-09-2024 02:29:52  \n",
       "3  01-09-2024 03:29:52  \n",
       "4  01-09-2024 04:29:52  "
      ]
     },
     "execution_count": 98,
     "metadata": {},
     "output_type": "execute_result"
    }
   ],
   "source": [
    "df['CORRESPONDANT'] = df['CORRESPONDANT'].apply(clean_number)\n",
    "df['CIBLE'] = df['CIBLE'].apply(clean_number)\n",
    "df.head()"
   ]
  },
  {
   "cell_type": "code",
   "execution_count": 99,
   "metadata": {},
   "outputs": [
    {
     "data": {
      "text/html": [
       "<div>\n",
       "<style scoped>\n",
       "    .dataframe tbody tr th:only-of-type {\n",
       "        vertical-align: middle;\n",
       "    }\n",
       "\n",
       "    .dataframe tbody tr th {\n",
       "        vertical-align: top;\n",
       "    }\n",
       "\n",
       "    .dataframe thead th {\n",
       "        text-align: right;\n",
       "    }\n",
       "</style>\n",
       "<table border=\"1\" class=\"dataframe\">\n",
       "  <thead>\n",
       "    <tr style=\"text-align: right;\">\n",
       "      <th></th>\n",
       "      <th>TYPE</th>\n",
       "      <th>DATE</th>\n",
       "      <th>CIBLE</th>\n",
       "      <th>CORRESPONDANT</th>\n",
       "      <th>DIRECTION</th>\n",
       "      <th>DUREE</th>\n",
       "      <th>IMSI</th>\n",
       "      <th>IMEI</th>\n",
       "      <th>ADRESSE2</th>\n",
       "      <th>CODE POSTAL</th>\n",
       "      <th>VILLE</th>\n",
       "      <th>X</th>\n",
       "      <th>Y</th>\n",
       "      <th>converted_date</th>\n",
       "      <th>formatted_date</th>\n",
       "    </tr>\n",
       "  </thead>\n",
       "  <tbody>\n",
       "    <tr>\n",
       "      <th>0</th>\n",
       "      <td>DATA_PAQUET</td>\n",
       "      <td>31/08/2024 - 22:29:52 UTC+2</td>\n",
       "      <td>262693878601</td>\n",
       "      <td>Data</td>\n",
       "      <td>sortant</td>\n",
       "      <td>3600</td>\n",
       "      <td>647030000326990</td>\n",
       "      <td>356934103953870</td>\n",
       "      <td>Chemin Canot</td>\n",
       "      <td>97421</td>\n",
       "      <td>ville inconnue</td>\n",
       "      <td>-21.243958</td>\n",
       "      <td>55.421135</td>\n",
       "      <td>2024-09-01 00:29:52</td>\n",
       "      <td>01-09-2024 00:29:52</td>\n",
       "    </tr>\n",
       "    <tr>\n",
       "      <th>1</th>\n",
       "      <td>DATA_PAQUET</td>\n",
       "      <td>31/08/2024 - 23:29:52 UTC+2</td>\n",
       "      <td>262693878601</td>\n",
       "      <td>Data</td>\n",
       "      <td>sortant</td>\n",
       "      <td>3600</td>\n",
       "      <td>647030000326990</td>\n",
       "      <td>356934103953870</td>\n",
       "      <td>Chemin Canot</td>\n",
       "      <td>97421</td>\n",
       "      <td>ville inconnue</td>\n",
       "      <td>-21.243958</td>\n",
       "      <td>55.421135</td>\n",
       "      <td>2024-09-01 01:29:52</td>\n",
       "      <td>01-09-2024 01:29:52</td>\n",
       "    </tr>\n",
       "    <tr>\n",
       "      <th>2</th>\n",
       "      <td>DATA_PAQUET</td>\n",
       "      <td>01/09/2024 - 00:29:52 UTC+2</td>\n",
       "      <td>262693878601</td>\n",
       "      <td>Data</td>\n",
       "      <td>sortant</td>\n",
       "      <td>3600</td>\n",
       "      <td>647030000326990</td>\n",
       "      <td>356934103953870</td>\n",
       "      <td>Chemin Canot</td>\n",
       "      <td>97421</td>\n",
       "      <td>ville inconnue</td>\n",
       "      <td>-21.243958</td>\n",
       "      <td>55.421135</td>\n",
       "      <td>2024-09-01 02:29:52</td>\n",
       "      <td>01-09-2024 02:29:52</td>\n",
       "    </tr>\n",
       "    <tr>\n",
       "      <th>3</th>\n",
       "      <td>DATA_PAQUET</td>\n",
       "      <td>01/09/2024 - 01:29:52 UTC+2</td>\n",
       "      <td>262693878601</td>\n",
       "      <td>Data</td>\n",
       "      <td>sortant</td>\n",
       "      <td>3600</td>\n",
       "      <td>647030000326990</td>\n",
       "      <td>356934103953870</td>\n",
       "      <td>Chemin Canot</td>\n",
       "      <td>97421</td>\n",
       "      <td>ville inconnue</td>\n",
       "      <td>-21.243958</td>\n",
       "      <td>55.421135</td>\n",
       "      <td>2024-09-01 03:29:52</td>\n",
       "      <td>01-09-2024 03:29:52</td>\n",
       "    </tr>\n",
       "    <tr>\n",
       "      <th>4</th>\n",
       "      <td>DATA_PAQUET</td>\n",
       "      <td>01/09/2024 - 02:29:52 UTC+2</td>\n",
       "      <td>262693878601</td>\n",
       "      <td>Data</td>\n",
       "      <td>sortant</td>\n",
       "      <td>3600</td>\n",
       "      <td>647030000326990</td>\n",
       "      <td>356934103953870</td>\n",
       "      <td>Chemin Canot</td>\n",
       "      <td>97421</td>\n",
       "      <td>ville inconnue</td>\n",
       "      <td>-21.243958</td>\n",
       "      <td>55.421135</td>\n",
       "      <td>2024-09-01 04:29:52</td>\n",
       "      <td>01-09-2024 04:29:52</td>\n",
       "    </tr>\n",
       "  </tbody>\n",
       "</table>\n",
       "</div>"
      ],
      "text/plain": [
       "          TYPE                         DATE         CIBLE CORRESPONDANT  \\\n",
       "0  DATA_PAQUET  31/08/2024 - 22:29:52 UTC+2  262693878601          Data   \n",
       "1  DATA_PAQUET  31/08/2024 - 23:29:52 UTC+2  262693878601          Data   \n",
       "2  DATA_PAQUET  01/09/2024 - 00:29:52 UTC+2  262693878601          Data   \n",
       "3  DATA_PAQUET  01/09/2024 - 01:29:52 UTC+2  262693878601          Data   \n",
       "4  DATA_PAQUET  01/09/2024 - 02:29:52 UTC+2  262693878601          Data   \n",
       "\n",
       "  DIRECTION DUREE             IMSI             IMEI       ADRESSE2  \\\n",
       "0   sortant  3600  647030000326990  356934103953870   Chemin Canot   \n",
       "1   sortant  3600  647030000326990  356934103953870   Chemin Canot   \n",
       "2   sortant  3600  647030000326990  356934103953870   Chemin Canot   \n",
       "3   sortant  3600  647030000326990  356934103953870   Chemin Canot   \n",
       "4   sortant  3600  647030000326990  356934103953870   Chemin Canot   \n",
       "\n",
       "  CODE POSTAL           VILLE           X          Y      converted_date  \\\n",
       "0       97421  ville inconnue  -21.243958  55.421135 2024-09-01 00:29:52   \n",
       "1       97421  ville inconnue  -21.243958  55.421135 2024-09-01 01:29:52   \n",
       "2       97421  ville inconnue  -21.243958  55.421135 2024-09-01 02:29:52   \n",
       "3       97421  ville inconnue  -21.243958  55.421135 2024-09-01 03:29:52   \n",
       "4       97421  ville inconnue  -21.243958  55.421135 2024-09-01 04:29:52   \n",
       "\n",
       "        formatted_date  \n",
       "0  01-09-2024 00:29:52  \n",
       "1  01-09-2024 01:29:52  \n",
       "2  01-09-2024 02:29:52  \n",
       "3  01-09-2024 03:29:52  \n",
       "4  01-09-2024 04:29:52  "
      ]
     },
     "execution_count": 99,
     "metadata": {},
     "output_type": "execute_result"
    }
   ],
   "source": [
    "df[\"IMEI\"] = df[\"IMEI\"].apply(clean_number)\n",
    "df['IMSI'] = df['IMSI'].apply(clean_number)\n",
    "df.head()"
   ]
  },
  {
   "cell_type": "code",
   "execution_count": 100,
   "metadata": {},
   "outputs": [],
   "source": [
    "reunion_postal_codes = {\n",
    "    \"97400\": \"Saint-Denis\",\n",
    "    \"97410\": \"Saint-Pierre\",\n",
    "    \"97411\": \"Bois de Nèfles\",\n",
    "    \"97412\": \"Bras Panon\",\n",
    "    \"97413\": \"Cilaos\",\n",
    "    \"97414\": \"Entre Deux\",\n",
    "    \"97416\": \"La Chaloupe\",\n",
    "    \"97417\": \"Saint-Bernard\",\n",
    "    \"97418\": \"La Plaine des Cafres\",\n",
    "    \"97419\": \"La Possession\",\n",
    "    \"97420\": \"Le Port\",\n",
    "    \"97421\": \"La Rivière Saint-Louis\",\n",
    "    \"97422\": \"La Saline\",\n",
    "    \"97423\": \"Le Guillaume\",\n",
    "    \"97424\": \"Piton Saint-Leu\",\n",
    "    \"97425\": \"Les Avirons\",\n",
    "    \"97426\": \"Les Trois Bassins\",\n",
    "    \"97427\": \"L'Étang-Salé\",\n",
    "    \"97428\": \"La Nouvelle\",\n",
    "    \"97429\": \"Petite-Île\",\n",
    "    \"97430\": \"Le Tampon\",\n",
    "    \"97431\": \"La Plaine des Palmistes\",\n",
    "    \"97432\": \"La Ravine des Cabris\",\n",
    "    \"97433\": \"Salazie - Hell-bourg\",\n",
    "    \"97434\": \"Saint-Gilles-les-Bains\",\n",
    "    \"97435\": \"Bernica\",\n",
    "    \"97436\": \"Saint-Leu\",\n",
    "    \"97437\": \"Sainte-Anne\",\n",
    "    \"97438\": \"Sainte-Marie\",\n",
    "    \"97439\": \"Sainte-Rose\",\n",
    "    \"97440\": \"Saint-André\",\n",
    "    \"97441\": \"Sainte-Suzanne\",\n",
    "    \"97442\": \"Basse Vallée\",\n",
    "    \"97450\": \"Saint-Louis\",\n",
    "    \"97460\": \"Saint-Paul\",\n",
    "    \"97470\": \"Saint-Benoît\",\n",
    "}"
   ]
  },
  {
   "cell_type": "code",
   "execution_count": 101,
   "metadata": {},
   "outputs": [
    {
     "data": {
      "text/html": [
       "<div>\n",
       "<style scoped>\n",
       "    .dataframe tbody tr th:only-of-type {\n",
       "        vertical-align: middle;\n",
       "    }\n",
       "\n",
       "    .dataframe tbody tr th {\n",
       "        vertical-align: top;\n",
       "    }\n",
       "\n",
       "    .dataframe thead th {\n",
       "        text-align: right;\n",
       "    }\n",
       "</style>\n",
       "<table border=\"1\" class=\"dataframe\">\n",
       "  <thead>\n",
       "    <tr style=\"text-align: right;\">\n",
       "      <th></th>\n",
       "      <th>TYPE</th>\n",
       "      <th>DATE</th>\n",
       "      <th>CIBLE</th>\n",
       "      <th>CORRESPONDANT</th>\n",
       "      <th>DIRECTION</th>\n",
       "      <th>DUREE</th>\n",
       "      <th>IMSI</th>\n",
       "      <th>IMEI</th>\n",
       "      <th>ADRESSE2</th>\n",
       "      <th>CODE POSTAL</th>\n",
       "      <th>VILLE</th>\n",
       "      <th>X</th>\n",
       "      <th>Y</th>\n",
       "      <th>converted_date</th>\n",
       "      <th>formatted_date</th>\n",
       "    </tr>\n",
       "  </thead>\n",
       "  <tbody>\n",
       "    <tr>\n",
       "      <th>0</th>\n",
       "      <td>DATA_PAQUET</td>\n",
       "      <td>31/08/2024 - 22:29:52 UTC+2</td>\n",
       "      <td>262693878601</td>\n",
       "      <td>Data</td>\n",
       "      <td>sortant</td>\n",
       "      <td>3600</td>\n",
       "      <td>647030000326990</td>\n",
       "      <td>356934103953870</td>\n",
       "      <td>Chemin Canot</td>\n",
       "      <td>97421</td>\n",
       "      <td>LA RIVIÈRE SAINT LOUIS</td>\n",
       "      <td>-21.243958</td>\n",
       "      <td>55.421135</td>\n",
       "      <td>2024-09-01 00:29:52</td>\n",
       "      <td>01-09-2024 00:29:52</td>\n",
       "    </tr>\n",
       "    <tr>\n",
       "      <th>1</th>\n",
       "      <td>DATA_PAQUET</td>\n",
       "      <td>31/08/2024 - 23:29:52 UTC+2</td>\n",
       "      <td>262693878601</td>\n",
       "      <td>Data</td>\n",
       "      <td>sortant</td>\n",
       "      <td>3600</td>\n",
       "      <td>647030000326990</td>\n",
       "      <td>356934103953870</td>\n",
       "      <td>Chemin Canot</td>\n",
       "      <td>97421</td>\n",
       "      <td>LA RIVIÈRE SAINT LOUIS</td>\n",
       "      <td>-21.243958</td>\n",
       "      <td>55.421135</td>\n",
       "      <td>2024-09-01 01:29:52</td>\n",
       "      <td>01-09-2024 01:29:52</td>\n",
       "    </tr>\n",
       "    <tr>\n",
       "      <th>2</th>\n",
       "      <td>DATA_PAQUET</td>\n",
       "      <td>01/09/2024 - 00:29:52 UTC+2</td>\n",
       "      <td>262693878601</td>\n",
       "      <td>Data</td>\n",
       "      <td>sortant</td>\n",
       "      <td>3600</td>\n",
       "      <td>647030000326990</td>\n",
       "      <td>356934103953870</td>\n",
       "      <td>Chemin Canot</td>\n",
       "      <td>97421</td>\n",
       "      <td>LA RIVIÈRE SAINT LOUIS</td>\n",
       "      <td>-21.243958</td>\n",
       "      <td>55.421135</td>\n",
       "      <td>2024-09-01 02:29:52</td>\n",
       "      <td>01-09-2024 02:29:52</td>\n",
       "    </tr>\n",
       "    <tr>\n",
       "      <th>3</th>\n",
       "      <td>DATA_PAQUET</td>\n",
       "      <td>01/09/2024 - 01:29:52 UTC+2</td>\n",
       "      <td>262693878601</td>\n",
       "      <td>Data</td>\n",
       "      <td>sortant</td>\n",
       "      <td>3600</td>\n",
       "      <td>647030000326990</td>\n",
       "      <td>356934103953870</td>\n",
       "      <td>Chemin Canot</td>\n",
       "      <td>97421</td>\n",
       "      <td>LA RIVIÈRE SAINT LOUIS</td>\n",
       "      <td>-21.243958</td>\n",
       "      <td>55.421135</td>\n",
       "      <td>2024-09-01 03:29:52</td>\n",
       "      <td>01-09-2024 03:29:52</td>\n",
       "    </tr>\n",
       "    <tr>\n",
       "      <th>4</th>\n",
       "      <td>DATA_PAQUET</td>\n",
       "      <td>01/09/2024 - 02:29:52 UTC+2</td>\n",
       "      <td>262693878601</td>\n",
       "      <td>Data</td>\n",
       "      <td>sortant</td>\n",
       "      <td>3600</td>\n",
       "      <td>647030000326990</td>\n",
       "      <td>356934103953870</td>\n",
       "      <td>Chemin Canot</td>\n",
       "      <td>97421</td>\n",
       "      <td>LA RIVIÈRE SAINT LOUIS</td>\n",
       "      <td>-21.243958</td>\n",
       "      <td>55.421135</td>\n",
       "      <td>2024-09-01 04:29:52</td>\n",
       "      <td>01-09-2024 04:29:52</td>\n",
       "    </tr>\n",
       "  </tbody>\n",
       "</table>\n",
       "</div>"
      ],
      "text/plain": [
       "          TYPE                         DATE         CIBLE CORRESPONDANT  \\\n",
       "0  DATA_PAQUET  31/08/2024 - 22:29:52 UTC+2  262693878601          Data   \n",
       "1  DATA_PAQUET  31/08/2024 - 23:29:52 UTC+2  262693878601          Data   \n",
       "2  DATA_PAQUET  01/09/2024 - 00:29:52 UTC+2  262693878601          Data   \n",
       "3  DATA_PAQUET  01/09/2024 - 01:29:52 UTC+2  262693878601          Data   \n",
       "4  DATA_PAQUET  01/09/2024 - 02:29:52 UTC+2  262693878601          Data   \n",
       "\n",
       "  DIRECTION DUREE             IMSI             IMEI       ADRESSE2  \\\n",
       "0   sortant  3600  647030000326990  356934103953870   Chemin Canot   \n",
       "1   sortant  3600  647030000326990  356934103953870   Chemin Canot   \n",
       "2   sortant  3600  647030000326990  356934103953870   Chemin Canot   \n",
       "3   sortant  3600  647030000326990  356934103953870   Chemin Canot   \n",
       "4   sortant  3600  647030000326990  356934103953870   Chemin Canot   \n",
       "\n",
       "  CODE POSTAL                   VILLE           X          Y  \\\n",
       "0       97421  LA RIVIÈRE SAINT LOUIS  -21.243958  55.421135   \n",
       "1       97421  LA RIVIÈRE SAINT LOUIS  -21.243958  55.421135   \n",
       "2       97421  LA RIVIÈRE SAINT LOUIS  -21.243958  55.421135   \n",
       "3       97421  LA RIVIÈRE SAINT LOUIS  -21.243958  55.421135   \n",
       "4       97421  LA RIVIÈRE SAINT LOUIS  -21.243958  55.421135   \n",
       "\n",
       "       converted_date       formatted_date  \n",
       "0 2024-09-01 00:29:52  01-09-2024 00:29:52  \n",
       "1 2024-09-01 01:29:52  01-09-2024 01:29:52  \n",
       "2 2024-09-01 02:29:52  01-09-2024 02:29:52  \n",
       "3 2024-09-01 03:29:52  01-09-2024 03:29:52  \n",
       "4 2024-09-01 04:29:52  01-09-2024 04:29:52  "
      ]
     },
     "execution_count": 101,
     "metadata": {},
     "output_type": "execute_result"
    }
   ],
   "source": [
    "def replace_unknown_ville(row):\n",
    "    if row['VILLE'] == 'ville inconnue':\n",
    "        return reunion_postal_codes.get(row['CODE POSTAL'], 'ville inconnue')  # Remplace par la ville correspondante ou garde 'ville inconnue'\n",
    "    return row['VILLE']\n",
    "\n",
    "# Appliquer la fonction à la colonne 'ville'\n",
    "df['VILLE'] = df.apply(replace_unknown_ville, axis=1)\n",
    "df['VILLE']= df['VILLE'].str.replace(\"-\", \" \")\n",
    "df['VILLE']= df['VILLE'].str.replace(\"SAINT\", \"ST\")\n",
    "df['VILLE']= df['VILLE'].str.replace(\"SAINTE\", \"STE\")\n",
    "df['VILLE']= df['VILLE'].str.replace(\"L'\", \"\")\n",
    "df['VILLE'] = df['VILLE'].str.upper()\n",
    "\n",
    "# Afficher le DataFrame avec les villes mises à jour\n",
    "df.head()"
   ]
  },
  {
   "cell_type": "code",
   "execution_count": 102,
   "metadata": {},
   "outputs": [
    {
     "data": {
      "text/html": [
       "<div>\n",
       "<style scoped>\n",
       "    .dataframe tbody tr th:only-of-type {\n",
       "        vertical-align: middle;\n",
       "    }\n",
       "\n",
       "    .dataframe tbody tr th {\n",
       "        vertical-align: top;\n",
       "    }\n",
       "\n",
       "    .dataframe thead th {\n",
       "        text-align: right;\n",
       "    }\n",
       "</style>\n",
       "<table border=\"1\" class=\"dataframe\">\n",
       "  <thead>\n",
       "    <tr style=\"text-align: right;\">\n",
       "      <th></th>\n",
       "      <th>TYPE</th>\n",
       "      <th>DATE</th>\n",
       "      <th>CIBLE</th>\n",
       "      <th>CORRESPONDANT</th>\n",
       "      <th>DIRECTION</th>\n",
       "      <th>DUREE</th>\n",
       "      <th>IMSI</th>\n",
       "      <th>IMEI</th>\n",
       "      <th>ADRESSE2</th>\n",
       "      <th>CODE POSTAL</th>\n",
       "      <th>VILLE</th>\n",
       "      <th>X</th>\n",
       "      <th>Y</th>\n",
       "      <th>converted_date</th>\n",
       "      <th>formatted_date</th>\n",
       "      <th>Adresse</th>\n",
       "    </tr>\n",
       "  </thead>\n",
       "  <tbody>\n",
       "    <tr>\n",
       "      <th>0</th>\n",
       "      <td>DATA_PAQUET</td>\n",
       "      <td>31/08/2024 - 22:29:52 UTC+2</td>\n",
       "      <td>262693878601</td>\n",
       "      <td>Data</td>\n",
       "      <td>sortant</td>\n",
       "      <td>3600</td>\n",
       "      <td>647030000326990</td>\n",
       "      <td>356934103953870</td>\n",
       "      <td>Chemin Canot</td>\n",
       "      <td>97421</td>\n",
       "      <td>LA RIVIÈRE SAINT LOUIS</td>\n",
       "      <td>-21.243958</td>\n",
       "      <td>55.421135</td>\n",
       "      <td>2024-09-01 00:29:52</td>\n",
       "      <td>01-09-2024 00:29:52</td>\n",
       "      <td>CHEMIN CANOT, 97421 LA RIVIÈRE SAINT LOUIS</td>\n",
       "    </tr>\n",
       "    <tr>\n",
       "      <th>1</th>\n",
       "      <td>DATA_PAQUET</td>\n",
       "      <td>31/08/2024 - 23:29:52 UTC+2</td>\n",
       "      <td>262693878601</td>\n",
       "      <td>Data</td>\n",
       "      <td>sortant</td>\n",
       "      <td>3600</td>\n",
       "      <td>647030000326990</td>\n",
       "      <td>356934103953870</td>\n",
       "      <td>Chemin Canot</td>\n",
       "      <td>97421</td>\n",
       "      <td>LA RIVIÈRE SAINT LOUIS</td>\n",
       "      <td>-21.243958</td>\n",
       "      <td>55.421135</td>\n",
       "      <td>2024-09-01 01:29:52</td>\n",
       "      <td>01-09-2024 01:29:52</td>\n",
       "      <td>CHEMIN CANOT, 97421 LA RIVIÈRE SAINT LOUIS</td>\n",
       "    </tr>\n",
       "    <tr>\n",
       "      <th>2</th>\n",
       "      <td>DATA_PAQUET</td>\n",
       "      <td>01/09/2024 - 00:29:52 UTC+2</td>\n",
       "      <td>262693878601</td>\n",
       "      <td>Data</td>\n",
       "      <td>sortant</td>\n",
       "      <td>3600</td>\n",
       "      <td>647030000326990</td>\n",
       "      <td>356934103953870</td>\n",
       "      <td>Chemin Canot</td>\n",
       "      <td>97421</td>\n",
       "      <td>LA RIVIÈRE SAINT LOUIS</td>\n",
       "      <td>-21.243958</td>\n",
       "      <td>55.421135</td>\n",
       "      <td>2024-09-01 02:29:52</td>\n",
       "      <td>01-09-2024 02:29:52</td>\n",
       "      <td>CHEMIN CANOT, 97421 LA RIVIÈRE SAINT LOUIS</td>\n",
       "    </tr>\n",
       "    <tr>\n",
       "      <th>3</th>\n",
       "      <td>DATA_PAQUET</td>\n",
       "      <td>01/09/2024 - 01:29:52 UTC+2</td>\n",
       "      <td>262693878601</td>\n",
       "      <td>Data</td>\n",
       "      <td>sortant</td>\n",
       "      <td>3600</td>\n",
       "      <td>647030000326990</td>\n",
       "      <td>356934103953870</td>\n",
       "      <td>Chemin Canot</td>\n",
       "      <td>97421</td>\n",
       "      <td>LA RIVIÈRE SAINT LOUIS</td>\n",
       "      <td>-21.243958</td>\n",
       "      <td>55.421135</td>\n",
       "      <td>2024-09-01 03:29:52</td>\n",
       "      <td>01-09-2024 03:29:52</td>\n",
       "      <td>CHEMIN CANOT, 97421 LA RIVIÈRE SAINT LOUIS</td>\n",
       "    </tr>\n",
       "    <tr>\n",
       "      <th>4</th>\n",
       "      <td>DATA_PAQUET</td>\n",
       "      <td>01/09/2024 - 02:29:52 UTC+2</td>\n",
       "      <td>262693878601</td>\n",
       "      <td>Data</td>\n",
       "      <td>sortant</td>\n",
       "      <td>3600</td>\n",
       "      <td>647030000326990</td>\n",
       "      <td>356934103953870</td>\n",
       "      <td>Chemin Canot</td>\n",
       "      <td>97421</td>\n",
       "      <td>LA RIVIÈRE SAINT LOUIS</td>\n",
       "      <td>-21.243958</td>\n",
       "      <td>55.421135</td>\n",
       "      <td>2024-09-01 04:29:52</td>\n",
       "      <td>01-09-2024 04:29:52</td>\n",
       "      <td>CHEMIN CANOT, 97421 LA RIVIÈRE SAINT LOUIS</td>\n",
       "    </tr>\n",
       "  </tbody>\n",
       "</table>\n",
       "</div>"
      ],
      "text/plain": [
       "          TYPE                         DATE         CIBLE CORRESPONDANT  \\\n",
       "0  DATA_PAQUET  31/08/2024 - 22:29:52 UTC+2  262693878601          Data   \n",
       "1  DATA_PAQUET  31/08/2024 - 23:29:52 UTC+2  262693878601          Data   \n",
       "2  DATA_PAQUET  01/09/2024 - 00:29:52 UTC+2  262693878601          Data   \n",
       "3  DATA_PAQUET  01/09/2024 - 01:29:52 UTC+2  262693878601          Data   \n",
       "4  DATA_PAQUET  01/09/2024 - 02:29:52 UTC+2  262693878601          Data   \n",
       "\n",
       "  DIRECTION DUREE             IMSI             IMEI       ADRESSE2  \\\n",
       "0   sortant  3600  647030000326990  356934103953870   Chemin Canot   \n",
       "1   sortant  3600  647030000326990  356934103953870   Chemin Canot   \n",
       "2   sortant  3600  647030000326990  356934103953870   Chemin Canot   \n",
       "3   sortant  3600  647030000326990  356934103953870   Chemin Canot   \n",
       "4   sortant  3600  647030000326990  356934103953870   Chemin Canot   \n",
       "\n",
       "  CODE POSTAL                   VILLE           X          Y  \\\n",
       "0       97421  LA RIVIÈRE SAINT LOUIS  -21.243958  55.421135   \n",
       "1       97421  LA RIVIÈRE SAINT LOUIS  -21.243958  55.421135   \n",
       "2       97421  LA RIVIÈRE SAINT LOUIS  -21.243958  55.421135   \n",
       "3       97421  LA RIVIÈRE SAINT LOUIS  -21.243958  55.421135   \n",
       "4       97421  LA RIVIÈRE SAINT LOUIS  -21.243958  55.421135   \n",
       "\n",
       "       converted_date       formatted_date  \\\n",
       "0 2024-09-01 00:29:52  01-09-2024 00:29:52   \n",
       "1 2024-09-01 01:29:52  01-09-2024 01:29:52   \n",
       "2 2024-09-01 02:29:52  01-09-2024 02:29:52   \n",
       "3 2024-09-01 03:29:52  01-09-2024 03:29:52   \n",
       "4 2024-09-01 04:29:52  01-09-2024 04:29:52   \n",
       "\n",
       "                                       Adresse  \n",
       "0   CHEMIN CANOT, 97421 LA RIVIÈRE SAINT LOUIS  \n",
       "1   CHEMIN CANOT, 97421 LA RIVIÈRE SAINT LOUIS  \n",
       "2   CHEMIN CANOT, 97421 LA RIVIÈRE SAINT LOUIS  \n",
       "3   CHEMIN CANOT, 97421 LA RIVIÈRE SAINT LOUIS  \n",
       "4   CHEMIN CANOT, 97421 LA RIVIÈRE SAINT LOUIS  "
      ]
     },
     "execution_count": 102,
     "metadata": {},
     "output_type": "execute_result"
    }
   ],
   "source": [
    "df[\"Adresse\"] = df[\"ADRESSE2\"] + \", \" + df[\"CODE POSTAL\"] + \" \" + df[\"VILLE\"]\n",
    "df['Adresse'] = df['Adresse'].str.upper()\n",
    "df.head()"
   ]
  },
  {
   "cell_type": "code",
   "execution_count": 103,
   "metadata": {},
   "outputs": [],
   "source": [
    "df = df.rename(columns={\"TYPE\": \"Type d'appel\", \"CORRESPONDANT\": \"Correspondant\", \"CIBLE\": \"Abonné\", \"DIRECTION\": \"Direction\", \"DUREE\": \"Durée\", \"VILLE\": \"Ville\", \"X\": \"Latitude\", \"Y\": \"Longitude\", \"formatted_date\": \"Date\"})"
   ]
  },
  {
   "cell_type": "code",
   "execution_count": 104,
   "metadata": {},
   "outputs": [
    {
     "data": {
      "text/html": [
       "<div>\n",
       "<style scoped>\n",
       "    .dataframe tbody tr th:only-of-type {\n",
       "        vertical-align: middle;\n",
       "    }\n",
       "\n",
       "    .dataframe tbody tr th {\n",
       "        vertical-align: top;\n",
       "    }\n",
       "\n",
       "    .dataframe thead th {\n",
       "        text-align: right;\n",
       "    }\n",
       "</style>\n",
       "<table border=\"1\" class=\"dataframe\">\n",
       "  <thead>\n",
       "    <tr style=\"text-align: right;\">\n",
       "      <th></th>\n",
       "      <th>Type d'appel</th>\n",
       "      <th>DATE</th>\n",
       "      <th>Abonné</th>\n",
       "      <th>Correspondant</th>\n",
       "      <th>Direction</th>\n",
       "      <th>Durée</th>\n",
       "      <th>IMSI</th>\n",
       "      <th>IMEI</th>\n",
       "      <th>ADRESSE2</th>\n",
       "      <th>CODE POSTAL</th>\n",
       "      <th>Ville</th>\n",
       "      <th>Latitude</th>\n",
       "      <th>Longitude</th>\n",
       "      <th>converted_date</th>\n",
       "      <th>Date</th>\n",
       "      <th>Adresse</th>\n",
       "    </tr>\n",
       "  </thead>\n",
       "  <tbody>\n",
       "    <tr>\n",
       "      <th>0</th>\n",
       "      <td>DATA_PAQUET</td>\n",
       "      <td>31/08/2024 - 22:29:52 UTC+2</td>\n",
       "      <td>262693878601</td>\n",
       "      <td>Data</td>\n",
       "      <td>sortant</td>\n",
       "      <td>3600</td>\n",
       "      <td>647030000326990</td>\n",
       "      <td>356934103953870</td>\n",
       "      <td>Chemin Canot</td>\n",
       "      <td>97421</td>\n",
       "      <td>LA RIVIÈRE SAINT LOUIS</td>\n",
       "      <td>-21.243958</td>\n",
       "      <td>55.421135</td>\n",
       "      <td>2024-09-01 00:29:52</td>\n",
       "      <td>01-09-2024 00:29:52</td>\n",
       "      <td>CHEMIN CANOT, 97421 LA RIVIÈRE SAINT LOUIS</td>\n",
       "    </tr>\n",
       "    <tr>\n",
       "      <th>1</th>\n",
       "      <td>DATA_PAQUET</td>\n",
       "      <td>31/08/2024 - 23:29:52 UTC+2</td>\n",
       "      <td>262693878601</td>\n",
       "      <td>Data</td>\n",
       "      <td>sortant</td>\n",
       "      <td>3600</td>\n",
       "      <td>647030000326990</td>\n",
       "      <td>356934103953870</td>\n",
       "      <td>Chemin Canot</td>\n",
       "      <td>97421</td>\n",
       "      <td>LA RIVIÈRE SAINT LOUIS</td>\n",
       "      <td>-21.243958</td>\n",
       "      <td>55.421135</td>\n",
       "      <td>2024-09-01 01:29:52</td>\n",
       "      <td>01-09-2024 01:29:52</td>\n",
       "      <td>CHEMIN CANOT, 97421 LA RIVIÈRE SAINT LOUIS</td>\n",
       "    </tr>\n",
       "  </tbody>\n",
       "</table>\n",
       "</div>"
      ],
      "text/plain": [
       "  Type d'appel                         DATE        Abonné Correspondant  \\\n",
       "0  DATA_PAQUET  31/08/2024 - 22:29:52 UTC+2  262693878601          Data   \n",
       "1  DATA_PAQUET  31/08/2024 - 23:29:52 UTC+2  262693878601          Data   \n",
       "\n",
       "  Direction Durée             IMSI             IMEI       ADRESSE2  \\\n",
       "0   sortant  3600  647030000326990  356934103953870   Chemin Canot   \n",
       "1   sortant  3600  647030000326990  356934103953870   Chemin Canot   \n",
       "\n",
       "  CODE POSTAL                   Ville    Latitude  Longitude  \\\n",
       "0       97421  LA RIVIÈRE SAINT LOUIS  -21.243958  55.421135   \n",
       "1       97421  LA RIVIÈRE SAINT LOUIS  -21.243958  55.421135   \n",
       "\n",
       "       converted_date                 Date  \\\n",
       "0 2024-09-01 00:29:52  01-09-2024 00:29:52   \n",
       "1 2024-09-01 01:29:52  01-09-2024 01:29:52   \n",
       "\n",
       "                                       Adresse  \n",
       "0   CHEMIN CANOT, 97421 LA RIVIÈRE SAINT LOUIS  \n",
       "1   CHEMIN CANOT, 97421 LA RIVIÈRE SAINT LOUIS  "
      ]
     },
     "execution_count": 104,
     "metadata": {},
     "output_type": "execute_result"
    }
   ],
   "source": [
    "df.head(2)"
   ]
  },
  {
   "cell_type": "code",
   "execution_count": 105,
   "metadata": {},
   "outputs": [],
   "source": [
    "# Extraire l'année, le mois et le jour de la semaine\n",
    "df['Années'] = df['converted_date'].dt.year\n",
    "df['Mois'] = df['converted_date'].dt.month\n",
    "df['Jour de la semaine'] = df['converted_date'].dt.day_name()\n",
    "\n",
    "# Mapper les jours de la semaine en français\n",
    "jours_semaine_fr = {\n",
    "    'Monday': 'Lundi',\n",
    "    'Tuesday': 'Mardi',\n",
    "    'Wednesday': 'Mercredi',\n",
    "    'Thursday': 'Jeudi',\n",
    "    'Friday': 'Vendredi',\n",
    "    'Saturday': 'Samedi',\n",
    "    'Sunday': 'Dimanche'\n",
    "}\n",
    "\n",
    "# Mapper les mois en français\n",
    "mois_fr = {\n",
    "    1: 'Janvier',\n",
    "    2: 'Février',\n",
    "    3: 'Mars',\n",
    "    4: 'Avril',\n",
    "    5: 'Mai',\n",
    "    6: 'Juin',\n",
    "    7: 'Juillet',\n",
    "    8: 'Août',\n",
    "    9: 'Septembre',\n",
    "    10: 'Octobre',\n",
    "    11: 'Novembre',\n",
    "    12: 'Décembre'\n",
    "}\n",
    "\n",
    "# Remplacer les numéros de mois par leur équivalent en français\n",
    "df['Mois'] = df['Mois'].map(mois_fr)\n",
    "# Remplacer les noms des jours par leur équivalent en français\n",
    "df['Jour de la semaine'] = df['Jour de la semaine'].map(jours_semaine_fr)"
   ]
  },
  {
   "cell_type": "code",
   "execution_count": 106,
   "metadata": {},
   "outputs": [
    {
     "data": {
      "text/html": [
       "<div>\n",
       "<style scoped>\n",
       "    .dataframe tbody tr th:only-of-type {\n",
       "        vertical-align: middle;\n",
       "    }\n",
       "\n",
       "    .dataframe tbody tr th {\n",
       "        vertical-align: top;\n",
       "    }\n",
       "\n",
       "    .dataframe thead th {\n",
       "        text-align: right;\n",
       "    }\n",
       "</style>\n",
       "<table border=\"1\" class=\"dataframe\">\n",
       "  <thead>\n",
       "    <tr style=\"text-align: right;\">\n",
       "      <th></th>\n",
       "      <th>Type d'appel</th>\n",
       "      <th>DATE</th>\n",
       "      <th>Abonné</th>\n",
       "      <th>Correspondant</th>\n",
       "      <th>Direction</th>\n",
       "      <th>Durée</th>\n",
       "      <th>IMSI</th>\n",
       "      <th>IMEI</th>\n",
       "      <th>ADRESSE2</th>\n",
       "      <th>CODE POSTAL</th>\n",
       "      <th>Ville</th>\n",
       "      <th>Latitude</th>\n",
       "      <th>Longitude</th>\n",
       "      <th>converted_date</th>\n",
       "      <th>Date</th>\n",
       "      <th>Adresse</th>\n",
       "      <th>Années</th>\n",
       "      <th>Mois</th>\n",
       "      <th>Jour de la semaine</th>\n",
       "    </tr>\n",
       "  </thead>\n",
       "  <tbody>\n",
       "    <tr>\n",
       "      <th>0</th>\n",
       "      <td>DATA_PAQUET</td>\n",
       "      <td>31/08/2024 - 22:29:52 UTC+2</td>\n",
       "      <td>262693878601</td>\n",
       "      <td>Data</td>\n",
       "      <td>sortant</td>\n",
       "      <td>3600</td>\n",
       "      <td>647030000326990</td>\n",
       "      <td>356934103953870</td>\n",
       "      <td>Chemin Canot</td>\n",
       "      <td>97421</td>\n",
       "      <td>LA RIVIÈRE SAINT LOUIS</td>\n",
       "      <td>-21.243958</td>\n",
       "      <td>55.421135</td>\n",
       "      <td>2024-09-01 00:29:52</td>\n",
       "      <td>01-09-2024 00:29:52</td>\n",
       "      <td>CHEMIN CANOT, 97421 LA RIVIÈRE SAINT LOUIS</td>\n",
       "      <td>2024</td>\n",
       "      <td>Septembre</td>\n",
       "      <td>Dimanche</td>\n",
       "    </tr>\n",
       "  </tbody>\n",
       "</table>\n",
       "</div>"
      ],
      "text/plain": [
       "  Type d'appel                         DATE        Abonné Correspondant  \\\n",
       "0  DATA_PAQUET  31/08/2024 - 22:29:52 UTC+2  262693878601          Data   \n",
       "\n",
       "  Direction Durée             IMSI             IMEI       ADRESSE2  \\\n",
       "0   sortant  3600  647030000326990  356934103953870   Chemin Canot   \n",
       "\n",
       "  CODE POSTAL                   Ville    Latitude  Longitude  \\\n",
       "0       97421  LA RIVIÈRE SAINT LOUIS  -21.243958  55.421135   \n",
       "\n",
       "       converted_date                 Date  \\\n",
       "0 2024-09-01 00:29:52  01-09-2024 00:29:52   \n",
       "\n",
       "                                       Adresse  Années       Mois  \\\n",
       "0   CHEMIN CANOT, 97421 LA RIVIÈRE SAINT LOUIS    2024  Septembre   \n",
       "\n",
       "  Jour de la semaine  \n",
       "0           Dimanche  "
      ]
     },
     "execution_count": 106,
     "metadata": {},
     "output_type": "execute_result"
    }
   ],
   "source": [
    "df.head(1)"
   ]
  },
  {
   "cell_type": "code",
   "execution_count": 107,
   "metadata": {},
   "outputs": [
    {
     "data": {
      "text/html": [
       "<div>\n",
       "<style scoped>\n",
       "    .dataframe tbody tr th:only-of-type {\n",
       "        vertical-align: middle;\n",
       "    }\n",
       "\n",
       "    .dataframe tbody tr th {\n",
       "        vertical-align: top;\n",
       "    }\n",
       "\n",
       "    .dataframe thead th {\n",
       "        text-align: right;\n",
       "    }\n",
       "</style>\n",
       "<table border=\"1\" class=\"dataframe\">\n",
       "  <thead>\n",
       "    <tr style=\"text-align: right;\">\n",
       "      <th></th>\n",
       "      <th>Adresse</th>\n",
       "      <th>Longitude</th>\n",
       "      <th>Latitude</th>\n",
       "      <th>Count</th>\n",
       "      <th>Percentage</th>\n",
       "    </tr>\n",
       "  </thead>\n",
       "  <tbody>\n",
       "    <tr>\n",
       "      <th>0</th>\n",
       "      <td>1, RUE FLEUR JAUNE LA FENETRE, 97421 ST LOUIS</td>\n",
       "      <td>55.433600</td>\n",
       "      <td>-21.185600</td>\n",
       "      <td>3</td>\n",
       "      <td>0.118483</td>\n",
       "    </tr>\n",
       "    <tr>\n",
       "      <th>1</th>\n",
       "      <td>25A ALLEE CANNES BONBON, 97450 SAINT LOUIS</td>\n",
       "      <td>55.435055</td>\n",
       "      <td>-21.285473</td>\n",
       "      <td>87</td>\n",
       "      <td>3.436019</td>\n",
       "    </tr>\n",
       "    <tr>\n",
       "      <th>2</th>\n",
       "      <td>BATIMENT A LA CHAINE - RUE DES BONS ENFANTS, ...</td>\n",
       "      <td>55.466600</td>\n",
       "      <td>-21.336000</td>\n",
       "      <td>8</td>\n",
       "      <td>0.315956</td>\n",
       "    </tr>\n",
       "    <tr>\n",
       "      <th>3</th>\n",
       "      <td>CENTRE COMMERCIAL DU PORTAIL, 97436 ST LEU</td>\n",
       "      <td>55.300600</td>\n",
       "      <td>-21.218200</td>\n",
       "      <td>2</td>\n",
       "      <td>0.078989</td>\n",
       "    </tr>\n",
       "    <tr>\n",
       "      <th>4</th>\n",
       "      <td>CHEMIN BELLECOMBE, 97425 LES AVIRONS</td>\n",
       "      <td>55.336300</td>\n",
       "      <td>-21.232300</td>\n",
       "      <td>1</td>\n",
       "      <td>0.039494</td>\n",
       "    </tr>\n",
       "  </tbody>\n",
       "</table>\n",
       "</div>"
      ],
      "text/plain": [
       "                                             Adresse  Longitude   Latitude  \\\n",
       "0      1, RUE FLEUR JAUNE LA FENETRE, 97421 ST LOUIS  55.433600 -21.185600   \n",
       "1         25A ALLEE CANNES BONBON, 97450 SAINT LOUIS  55.435055 -21.285473   \n",
       "2   BATIMENT A LA CHAINE - RUE DES BONS ENFANTS, ...  55.466600 -21.336000   \n",
       "3         CENTRE COMMERCIAL DU PORTAIL, 97436 ST LEU  55.300600 -21.218200   \n",
       "4               CHEMIN BELLECOMBE, 97425 LES AVIRONS  55.336300 -21.232300   \n",
       "\n",
       "   Count  Percentage  \n",
       "0      3    0.118483  \n",
       "1     87    3.436019  \n",
       "2      8    0.315956  \n",
       "3      2    0.078989  \n",
       "4      1    0.039494  "
      ]
     },
     "execution_count": 107,
     "metadata": {},
     "output_type": "execute_result"
    }
   ],
   "source": [
    "address_df = df[['Adresse', 'Longitude', 'Latitude']]\n",
    "\n",
    "# Compter le nombre d'adresses groupées\n",
    "address_count = address_df.groupby(['Adresse', 'Longitude', 'Latitude']).size().reset_index(name='Count')\n",
    "\n",
    "# Calculer le total des occurrences\n",
    "total_count = address_count['Count'].sum()\n",
    "\n",
    "# Calculer le pourcentage pour chaque adresse\n",
    "address_count['Percentage'] = (address_count['Count'] / total_count) * 100\n",
    "\n",
    "address_count = address_count.dropna(axis=0)\n",
    "\n",
    "address_count['Longitude'] = address_count['Longitude'].astype(float)\n",
    "\n",
    "address_count['Latitude'] = address_count['Latitude'].astype(float)\n",
    "\n",
    "address_count = address_count.dropna(axis=0)\n",
    "\n",
    "address_count.head()"
   ]
  },
  {
   "cell_type": "code",
   "execution_count": 110,
   "metadata": {},
   "outputs": [],
   "source": [
    "fig = px.scatter_map(address_count, lat=\"Latitude\", lon=\"Longitude\", color=\"Percentage\", size=\"Count\", hover_name=\"Adresse\",\n",
    "                    color_continuous_scale=px.colors.sequential.Bluered, size_max=15, zoom=10,\n",
    "                    map_style=\"carto-positron\")"
   ]
  },
  {
   "cell_type": "code",
   "execution_count": 111,
   "metadata": {},
   "outputs": [
    {
     "data": {
      "application/vnd.plotly.v1+json": {
       "config": {
        "plotlyServerURL": "https://plot.ly"
       },
       "data": [
        {
         "hovertemplate": "<b>%{hovertext}</b><br><br>Count=%{marker.size}<br>Latitude=%{lat}<br>Longitude=%{lon}<br>Percentage=%{marker.color}<extra></extra>",
         "hovertext": [
          " 1, RUE FLEUR JAUNE LA FENETRE, 97421 ST LOUIS",
          " 25A ALLEE CANNES BONBON, 97450 SAINT LOUIS",
          " BATIMENT A LA CHAINE - RUE DES BONS ENFANTS, 97410 ST PIERRE",
          " CENTRE COMMERCIAL DU PORTAIL, 97436 ST LEU",
          " CHEMIN BELLECOMBE, 97425 LES AVIRONS",
          " CHEMIN CANOT, 97421 LA RIVIÈRE SAINT LOUIS",
          " CHEMIN CITERNE, 97416 ST LEU",
          " CHEMIN DE L AERODROME, 97410 ST PIERRE",
          " CHEMIN DU PÈRE TABAILLET LIEU-DIT LA POINTE, 97416 PITON ST LEU",
          " GROS PITON, 97427 ETANG SALE",
          " LA SALINE LES HAUTS, 97460 ST PAUL",
          " LE RUISSEAU TERRE ROUGE, 97421 ST LOUIS",
          " LE TAPAGE, 97421 ST LOUIS",
          " PLAINE DES MAKES, 97450 ST LOUIS",
          " ROUTE DES TAMARINS - CAP LAHOUSSAIE, 97460 ST PAUL",
          " ROUTE DES TAMARINS, 97426 TROIS BASSINS",
          " ROUTE LIGNE PARADIS - BOIS D'OLIVES, 97410 ST PIERRE",
          " ROUTE NATIONALE - LE GOL, 97421 ST LOUIS",
          " RUE DES AMIS, 97450 SAINT LOUIS",
          " RUE DES SALINS, 97460 ST PAUL",
          " RUELLE DES ZATTES, 97416 ST LEU",
          " TERRAIN AGRICOLE , BT 53 - 9005 CHEMIN POUVIN , T, 97418 LE TAMPON",
          "142 RUE LECONTE DELISLE, 97450 SAINT LOUIS",
          "17 RUE DE JACARANDAS, 97421 ST LOUIS",
          "2 ROUTE NATIONALE - TERRE ROUGE, 97410 ST PIERRE",
          "2 RUE CHEMIN SAVIGNAN, 97450 ST LOUIS",
          "3 SAINT PAUL, 97420 LE PORT",
          "4 ALLEE DES LYS TERRE SAINTE, 97410 ST PIERRE",
          "4 RUE DE L ETANG, 97450 ST LOUIS",
          "50 RUE HENRI LAPIERRE RES. GOYAVES MARRONS, 97421 ST LOUIS",
          "56 RUE BOTTARD - ROUTE DU THEATRE, 97435 ST GILLES LES BAINS",
          "67 RUE HENRI CORNU, 97460 ST PAUL"
         ],
         "lat": [
          -21.1856,
          -21.285473,
          -21.336,
          -21.2182,
          -21.2323,
          -21.243958,
          -21.2062,
          -21.3113,
          -21.2141,
          -21.2636,
          -21.0872,
          -21.261822,
          -21.2303,
          -21.2117,
          -21.0339,
          -21.116,
          -21.3059,
          -21.2807,
          -21.284348,
          -21.0078,
          -21.1759,
          -21.2567,
          -21.26898,
          -21.2609,
          -21.3482,
          -21.2708,
          -20.944227,
          -21.3423,
          -21.291231,
          -21.2861,
          -21.049,
          -20.9619
         ],
         "legendgroup": "",
         "lon": [
          55.4336,
          55.435055,
          55.4666,
          55.3006,
          55.3363,
          55.421135,
          55.3544,
          55.430622,
          55.3076,
          55.3431,
          55.2669,
          55.4237,
          55.4516,
          55.4058,
          55.2506,
          55.2762,
          55.4628,
          55.3979,
          55.4088,
          55.2764,
          55.2885,
          55.5012,
          55.41408,
          55.4397,
          55.5016,
          55.4446,
          55.28936,
          55.4867,
          55.401997,
          55.4169,
          55.2335,
          55.2993
         ],
         "marker": {
          "color": [
           0.11848341232227488,
           3.4360189573459716,
           0.315955766192733,
           0.07898894154818326,
           0.03949447077409163,
           0.5134281200631912,
           0.03949447077409163,
           0.07898894154818326,
           0.03949447077409163,
           0.03949447077409163,
           0.03949447077409163,
           9.676145339652448,
           0.4344391785150079,
           0.11848341232227488,
           0.35545023696682465,
           0.35545023696682465,
           0.03949447077409163,
           0.4344391785150079,
           0.5529225908372828,
           7.701421800947868,
           0.2764612954186414,
           0.23696682464454977,
           63.62559241706162,
           0.1579778830963665,
           0.11848341232227488,
           3.0015797788309637,
           0.23696682464454977,
           0.03949447077409163,
           0.35545023696682465,
           7.464454976303317,
           0.03949447077409163,
           0.03949447077409163
          ],
          "coloraxis": "coloraxis",
          "size": [
           3,
           87,
           8,
           2,
           1,
           13,
           1,
           2,
           1,
           1,
           1,
           245,
           11,
           3,
           9,
           9,
           1,
           11,
           14,
           195,
           7,
           6,
           1611,
           4,
           3,
           76,
           6,
           1,
           9,
           189,
           1,
           1
          ],
          "sizemode": "area",
          "sizeref": 7.16
         },
         "mode": "markers",
         "name": "",
         "showlegend": false,
         "subplot": "map",
         "type": "scattermap"
        }
       ],
       "layout": {
        "coloraxis": {
         "colorbar": {
          "title": {
           "text": "Percentage"
          }
         },
         "colorscale": [
          [
           0,
           "rgb(0,0,255)"
          ],
          [
           1,
           "rgb(255,0,0)"
          ]
         ]
        },
        "legend": {
         "itemsizing": "constant",
         "tracegroupgap": 0
        },
        "map": {
         "center": {
          "lat": -21.211644968749997,
          "lon": 55.380223406249996
         },
         "domain": {
          "x": [
           0,
           1
          ],
          "y": [
           0,
           1
          ]
         },
         "style": "carto-positron",
         "zoom": 10
        },
        "mapbox": {
         "center": {
          "lat": -21.211644968749997,
          "lon": 55.380223406249996
         },
         "style": "carto-positron",
         "zoom": 10
        },
        "margin": {
         "t": 60
        },
        "template": {
         "data": {
          "bar": [
           {
            "error_x": {
             "color": "#2a3f5f"
            },
            "error_y": {
             "color": "#2a3f5f"
            },
            "marker": {
             "line": {
              "color": "#E5ECF6",
              "width": 0.5
             },
             "pattern": {
              "fillmode": "overlay",
              "size": 10,
              "solidity": 0.2
             }
            },
            "type": "bar"
           }
          ],
          "barpolar": [
           {
            "marker": {
             "line": {
              "color": "#E5ECF6",
              "width": 0.5
             },
             "pattern": {
              "fillmode": "overlay",
              "size": 10,
              "solidity": 0.2
             }
            },
            "type": "barpolar"
           }
          ],
          "carpet": [
           {
            "aaxis": {
             "endlinecolor": "#2a3f5f",
             "gridcolor": "white",
             "linecolor": "white",
             "minorgridcolor": "white",
             "startlinecolor": "#2a3f5f"
            },
            "baxis": {
             "endlinecolor": "#2a3f5f",
             "gridcolor": "white",
             "linecolor": "white",
             "minorgridcolor": "white",
             "startlinecolor": "#2a3f5f"
            },
            "type": "carpet"
           }
          ],
          "choropleth": [
           {
            "colorbar": {
             "outlinewidth": 0,
             "ticks": ""
            },
            "type": "choropleth"
           }
          ],
          "contour": [
           {
            "colorbar": {
             "outlinewidth": 0,
             "ticks": ""
            },
            "colorscale": [
             [
              0,
              "#0d0887"
             ],
             [
              0.1111111111111111,
              "#46039f"
             ],
             [
              0.2222222222222222,
              "#7201a8"
             ],
             [
              0.3333333333333333,
              "#9c179e"
             ],
             [
              0.4444444444444444,
              "#bd3786"
             ],
             [
              0.5555555555555556,
              "#d8576b"
             ],
             [
              0.6666666666666666,
              "#ed7953"
             ],
             [
              0.7777777777777778,
              "#fb9f3a"
             ],
             [
              0.8888888888888888,
              "#fdca26"
             ],
             [
              1,
              "#f0f921"
             ]
            ],
            "type": "contour"
           }
          ],
          "contourcarpet": [
           {
            "colorbar": {
             "outlinewidth": 0,
             "ticks": ""
            },
            "type": "contourcarpet"
           }
          ],
          "heatmap": [
           {
            "colorbar": {
             "outlinewidth": 0,
             "ticks": ""
            },
            "colorscale": [
             [
              0,
              "#0d0887"
             ],
             [
              0.1111111111111111,
              "#46039f"
             ],
             [
              0.2222222222222222,
              "#7201a8"
             ],
             [
              0.3333333333333333,
              "#9c179e"
             ],
             [
              0.4444444444444444,
              "#bd3786"
             ],
             [
              0.5555555555555556,
              "#d8576b"
             ],
             [
              0.6666666666666666,
              "#ed7953"
             ],
             [
              0.7777777777777778,
              "#fb9f3a"
             ],
             [
              0.8888888888888888,
              "#fdca26"
             ],
             [
              1,
              "#f0f921"
             ]
            ],
            "type": "heatmap"
           }
          ],
          "heatmapgl": [
           {
            "colorbar": {
             "outlinewidth": 0,
             "ticks": ""
            },
            "colorscale": [
             [
              0,
              "#0d0887"
             ],
             [
              0.1111111111111111,
              "#46039f"
             ],
             [
              0.2222222222222222,
              "#7201a8"
             ],
             [
              0.3333333333333333,
              "#9c179e"
             ],
             [
              0.4444444444444444,
              "#bd3786"
             ],
             [
              0.5555555555555556,
              "#d8576b"
             ],
             [
              0.6666666666666666,
              "#ed7953"
             ],
             [
              0.7777777777777778,
              "#fb9f3a"
             ],
             [
              0.8888888888888888,
              "#fdca26"
             ],
             [
              1,
              "#f0f921"
             ]
            ],
            "type": "heatmapgl"
           }
          ],
          "histogram": [
           {
            "marker": {
             "pattern": {
              "fillmode": "overlay",
              "size": 10,
              "solidity": 0.2
             }
            },
            "type": "histogram"
           }
          ],
          "histogram2d": [
           {
            "colorbar": {
             "outlinewidth": 0,
             "ticks": ""
            },
            "colorscale": [
             [
              0,
              "#0d0887"
             ],
             [
              0.1111111111111111,
              "#46039f"
             ],
             [
              0.2222222222222222,
              "#7201a8"
             ],
             [
              0.3333333333333333,
              "#9c179e"
             ],
             [
              0.4444444444444444,
              "#bd3786"
             ],
             [
              0.5555555555555556,
              "#d8576b"
             ],
             [
              0.6666666666666666,
              "#ed7953"
             ],
             [
              0.7777777777777778,
              "#fb9f3a"
             ],
             [
              0.8888888888888888,
              "#fdca26"
             ],
             [
              1,
              "#f0f921"
             ]
            ],
            "type": "histogram2d"
           }
          ],
          "histogram2dcontour": [
           {
            "colorbar": {
             "outlinewidth": 0,
             "ticks": ""
            },
            "colorscale": [
             [
              0,
              "#0d0887"
             ],
             [
              0.1111111111111111,
              "#46039f"
             ],
             [
              0.2222222222222222,
              "#7201a8"
             ],
             [
              0.3333333333333333,
              "#9c179e"
             ],
             [
              0.4444444444444444,
              "#bd3786"
             ],
             [
              0.5555555555555556,
              "#d8576b"
             ],
             [
              0.6666666666666666,
              "#ed7953"
             ],
             [
              0.7777777777777778,
              "#fb9f3a"
             ],
             [
              0.8888888888888888,
              "#fdca26"
             ],
             [
              1,
              "#f0f921"
             ]
            ],
            "type": "histogram2dcontour"
           }
          ],
          "mesh3d": [
           {
            "colorbar": {
             "outlinewidth": 0,
             "ticks": ""
            },
            "type": "mesh3d"
           }
          ],
          "parcoords": [
           {
            "line": {
             "colorbar": {
              "outlinewidth": 0,
              "ticks": ""
             }
            },
            "type": "parcoords"
           }
          ],
          "pie": [
           {
            "automargin": true,
            "type": "pie"
           }
          ],
          "scatter": [
           {
            "fillpattern": {
             "fillmode": "overlay",
             "size": 10,
             "solidity": 0.2
            },
            "type": "scatter"
           }
          ],
          "scatter3d": [
           {
            "line": {
             "colorbar": {
              "outlinewidth": 0,
              "ticks": ""
             }
            },
            "marker": {
             "colorbar": {
              "outlinewidth": 0,
              "ticks": ""
             }
            },
            "type": "scatter3d"
           }
          ],
          "scattercarpet": [
           {
            "marker": {
             "colorbar": {
              "outlinewidth": 0,
              "ticks": ""
             }
            },
            "type": "scattercarpet"
           }
          ],
          "scattergeo": [
           {
            "marker": {
             "colorbar": {
              "outlinewidth": 0,
              "ticks": ""
             }
            },
            "type": "scattergeo"
           }
          ],
          "scattergl": [
           {
            "marker": {
             "colorbar": {
              "outlinewidth": 0,
              "ticks": ""
             }
            },
            "type": "scattergl"
           }
          ],
          "scattermapbox": [
           {
            "marker": {
             "colorbar": {
              "outlinewidth": 0,
              "ticks": ""
             }
            },
            "type": "scattermapbox"
           }
          ],
          "scatterpolar": [
           {
            "marker": {
             "colorbar": {
              "outlinewidth": 0,
              "ticks": ""
             }
            },
            "type": "scatterpolar"
           }
          ],
          "scatterpolargl": [
           {
            "marker": {
             "colorbar": {
              "outlinewidth": 0,
              "ticks": ""
             }
            },
            "type": "scatterpolargl"
           }
          ],
          "scatterternary": [
           {
            "marker": {
             "colorbar": {
              "outlinewidth": 0,
              "ticks": ""
             }
            },
            "type": "scatterternary"
           }
          ],
          "surface": [
           {
            "colorbar": {
             "outlinewidth": 0,
             "ticks": ""
            },
            "colorscale": [
             [
              0,
              "#0d0887"
             ],
             [
              0.1111111111111111,
              "#46039f"
             ],
             [
              0.2222222222222222,
              "#7201a8"
             ],
             [
              0.3333333333333333,
              "#9c179e"
             ],
             [
              0.4444444444444444,
              "#bd3786"
             ],
             [
              0.5555555555555556,
              "#d8576b"
             ],
             [
              0.6666666666666666,
              "#ed7953"
             ],
             [
              0.7777777777777778,
              "#fb9f3a"
             ],
             [
              0.8888888888888888,
              "#fdca26"
             ],
             [
              1,
              "#f0f921"
             ]
            ],
            "type": "surface"
           }
          ],
          "table": [
           {
            "cells": {
             "fill": {
              "color": "#EBF0F8"
             },
             "line": {
              "color": "white"
             }
            },
            "header": {
             "fill": {
              "color": "#C8D4E3"
             },
             "line": {
              "color": "white"
             }
            },
            "type": "table"
           }
          ]
         },
         "layout": {
          "annotationdefaults": {
           "arrowcolor": "#2a3f5f",
           "arrowhead": 0,
           "arrowwidth": 1
          },
          "autotypenumbers": "strict",
          "coloraxis": {
           "colorbar": {
            "outlinewidth": 0,
            "ticks": ""
           }
          },
          "colorscale": {
           "diverging": [
            [
             0,
             "#8e0152"
            ],
            [
             0.1,
             "#c51b7d"
            ],
            [
             0.2,
             "#de77ae"
            ],
            [
             0.3,
             "#f1b6da"
            ],
            [
             0.4,
             "#fde0ef"
            ],
            [
             0.5,
             "#f7f7f7"
            ],
            [
             0.6,
             "#e6f5d0"
            ],
            [
             0.7,
             "#b8e186"
            ],
            [
             0.8,
             "#7fbc41"
            ],
            [
             0.9,
             "#4d9221"
            ],
            [
             1,
             "#276419"
            ]
           ],
           "sequential": [
            [
             0,
             "#0d0887"
            ],
            [
             0.1111111111111111,
             "#46039f"
            ],
            [
             0.2222222222222222,
             "#7201a8"
            ],
            [
             0.3333333333333333,
             "#9c179e"
            ],
            [
             0.4444444444444444,
             "#bd3786"
            ],
            [
             0.5555555555555556,
             "#d8576b"
            ],
            [
             0.6666666666666666,
             "#ed7953"
            ],
            [
             0.7777777777777778,
             "#fb9f3a"
            ],
            [
             0.8888888888888888,
             "#fdca26"
            ],
            [
             1,
             "#f0f921"
            ]
           ],
           "sequentialminus": [
            [
             0,
             "#0d0887"
            ],
            [
             0.1111111111111111,
             "#46039f"
            ],
            [
             0.2222222222222222,
             "#7201a8"
            ],
            [
             0.3333333333333333,
             "#9c179e"
            ],
            [
             0.4444444444444444,
             "#bd3786"
            ],
            [
             0.5555555555555556,
             "#d8576b"
            ],
            [
             0.6666666666666666,
             "#ed7953"
            ],
            [
             0.7777777777777778,
             "#fb9f3a"
            ],
            [
             0.8888888888888888,
             "#fdca26"
            ],
            [
             1,
             "#f0f921"
            ]
           ]
          },
          "colorway": [
           "#636efa",
           "#EF553B",
           "#00cc96",
           "#ab63fa",
           "#FFA15A",
           "#19d3f3",
           "#FF6692",
           "#B6E880",
           "#FF97FF",
           "#FECB52"
          ],
          "font": {
           "color": "#2a3f5f"
          },
          "geo": {
           "bgcolor": "white",
           "lakecolor": "white",
           "landcolor": "#E5ECF6",
           "showlakes": true,
           "showland": true,
           "subunitcolor": "white"
          },
          "hoverlabel": {
           "align": "left"
          },
          "hovermode": "closest",
          "mapbox": {
           "style": "light"
          },
          "paper_bgcolor": "white",
          "plot_bgcolor": "#E5ECF6",
          "polar": {
           "angularaxis": {
            "gridcolor": "white",
            "linecolor": "white",
            "ticks": ""
           },
           "bgcolor": "#E5ECF6",
           "radialaxis": {
            "gridcolor": "white",
            "linecolor": "white",
            "ticks": ""
           }
          },
          "scene": {
           "xaxis": {
            "backgroundcolor": "#E5ECF6",
            "gridcolor": "white",
            "gridwidth": 2,
            "linecolor": "white",
            "showbackground": true,
            "ticks": "",
            "zerolinecolor": "white"
           },
           "yaxis": {
            "backgroundcolor": "#E5ECF6",
            "gridcolor": "white",
            "gridwidth": 2,
            "linecolor": "white",
            "showbackground": true,
            "ticks": "",
            "zerolinecolor": "white"
           },
           "zaxis": {
            "backgroundcolor": "#E5ECF6",
            "gridcolor": "white",
            "gridwidth": 2,
            "linecolor": "white",
            "showbackground": true,
            "ticks": "",
            "zerolinecolor": "white"
           }
          },
          "shapedefaults": {
           "line": {
            "color": "#2a3f5f"
           }
          },
          "ternary": {
           "aaxis": {
            "gridcolor": "white",
            "linecolor": "white",
            "ticks": ""
           },
           "baxis": {
            "gridcolor": "white",
            "linecolor": "white",
            "ticks": ""
           },
           "bgcolor": "#E5ECF6",
           "caxis": {
            "gridcolor": "white",
            "linecolor": "white",
            "ticks": ""
           }
          },
          "title": {
           "x": 0.05
          },
          "xaxis": {
           "automargin": true,
           "gridcolor": "white",
           "linecolor": "white",
           "ticks": "",
           "title": {
            "standoff": 15
           },
           "zerolinecolor": "white",
           "zerolinewidth": 2
          },
          "yaxis": {
           "automargin": true,
           "gridcolor": "white",
           "linecolor": "white",
           "ticks": "",
           "title": {
            "standoff": 15
           },
           "zerolinecolor": "white",
           "zerolinewidth": 2
          }
         }
        }
       }
      },
      "text/html": [
       "<div>                            <div id=\"edf241fc-d80d-46ce-80f4-99ce78644623\" class=\"plotly-graph-div\" style=\"height:525px; width:100%;\"></div>            <script type=\"text/javascript\">                require([\"plotly\"], function(Plotly) {                    window.PLOTLYENV=window.PLOTLYENV || {};                                    if (document.getElementById(\"edf241fc-d80d-46ce-80f4-99ce78644623\")) {                    Plotly.newPlot(                        \"edf241fc-d80d-46ce-80f4-99ce78644623\",                        [{\"hovertemplate\":\"\\u003cb\\u003e%{hovertext}\\u003c\\u002fb\\u003e\\u003cbr\\u003e\\u003cbr\\u003eCount=%{marker.size}\\u003cbr\\u003eLatitude=%{lat}\\u003cbr\\u003eLongitude=%{lon}\\u003cbr\\u003ePercentage=%{marker.color}\\u003cextra\\u003e\\u003c\\u002fextra\\u003e\",\"hovertext\":[\" 1, RUE FLEUR JAUNE LA FENETRE, 97421 ST LOUIS\",\" 25A ALLEE CANNES BONBON, 97450 SAINT LOUIS\",\" BATIMENT A LA CHAINE - RUE DES BONS ENFANTS, 97410 ST PIERRE\",\" CENTRE COMMERCIAL DU PORTAIL, 97436 ST LEU\",\" CHEMIN BELLECOMBE, 97425 LES AVIRONS\",\" CHEMIN CANOT, 97421 LA RIVI\\u00c8RE SAINT LOUIS\",\" CHEMIN CITERNE, 97416 ST LEU\",\" CHEMIN DE L AERODROME, 97410 ST PIERRE\",\" CHEMIN DU P\\u00c8RE TABAILLET LIEU-DIT LA POINTE, 97416 PITON ST LEU\",\" GROS PITON, 97427 ETANG SALE\",\" LA SALINE LES HAUTS, 97460 ST PAUL\",\" LE RUISSEAU TERRE ROUGE, 97421 ST LOUIS\",\" LE TAPAGE, 97421 ST LOUIS\",\" PLAINE DES MAKES, 97450 ST LOUIS\",\" ROUTE DES TAMARINS - CAP LAHOUSSAIE, 97460 ST PAUL\",\" ROUTE DES TAMARINS, 97426 TROIS BASSINS\",\" ROUTE LIGNE PARADIS - BOIS D'OLIVES, 97410 ST PIERRE\",\" ROUTE NATIONALE - LE GOL, 97421 ST LOUIS\",\" RUE DES AMIS, 97450 SAINT LOUIS\",\" RUE DES SALINS, 97460 ST PAUL\",\" RUELLE DES ZATTES, 97416 ST LEU\",\" TERRAIN AGRICOLE , BT 53 - 9005 CHEMIN POUVIN , T, 97418 LE TAMPON\",\"142 RUE LECONTE DELISLE, 97450 SAINT LOUIS\",\"17 RUE DE JACARANDAS, 97421 ST LOUIS\",\"2 ROUTE NATIONALE - TERRE ROUGE, 97410 ST PIERRE\",\"2 RUE CHEMIN SAVIGNAN, 97450 ST LOUIS\",\"3 SAINT PAUL, 97420 LE PORT\",\"4 ALLEE DES LYS TERRE SAINTE, 97410 ST PIERRE\",\"4 RUE DE L ETANG, 97450 ST LOUIS\",\"50 RUE HENRI LAPIERRE RES. GOYAVES MARRONS, 97421 ST LOUIS\",\"56 RUE BOTTARD - ROUTE DU THEATRE, 97435 ST GILLES LES BAINS\",\"67 RUE HENRI CORNU, 97460 ST PAUL\"],\"lat\":[-21.1856,-21.285473,-21.336,-21.2182,-21.2323,-21.243958,-21.2062,-21.3113,-21.2141,-21.2636,-21.0872,-21.261822,-21.2303,-21.2117,-21.0339,-21.116,-21.3059,-21.2807,-21.284348,-21.0078,-21.1759,-21.2567,-21.26898,-21.2609,-21.3482,-21.2708,-20.944227,-21.3423,-21.291231,-21.2861,-21.049,-20.9619],\"legendgroup\":\"\",\"lon\":[55.4336,55.435055,55.4666,55.3006,55.3363,55.421135,55.3544,55.430622,55.3076,55.3431,55.2669,55.4237,55.4516,55.4058,55.2506,55.2762,55.4628,55.3979,55.4088,55.2764,55.2885,55.5012,55.41408,55.4397,55.5016,55.4446,55.28936,55.4867,55.401997,55.4169,55.2335,55.2993],\"marker\":{\"color\":[0.11848341232227488,3.4360189573459716,0.315955766192733,0.07898894154818326,0.03949447077409163,0.5134281200631912,0.03949447077409163,0.07898894154818326,0.03949447077409163,0.03949447077409163,0.03949447077409163,9.676145339652448,0.4344391785150079,0.11848341232227488,0.35545023696682465,0.35545023696682465,0.03949447077409163,0.4344391785150079,0.5529225908372828,7.701421800947868,0.2764612954186414,0.23696682464454977,63.62559241706162,0.1579778830963665,0.11848341232227488,3.0015797788309637,0.23696682464454977,0.03949447077409163,0.35545023696682465,7.464454976303317,0.03949447077409163,0.03949447077409163],\"coloraxis\":\"coloraxis\",\"size\":[3,87,8,2,1,13,1,2,1,1,1,245,11,3,9,9,1,11,14,195,7,6,1611,4,3,76,6,1,9,189,1,1],\"sizemode\":\"area\",\"sizeref\":7.16},\"mode\":\"markers\",\"name\":\"\",\"showlegend\":false,\"subplot\":\"map\",\"type\":\"scattermap\"}],                        {\"template\":{\"data\":{\"histogram2dcontour\":[{\"type\":\"histogram2dcontour\",\"colorbar\":{\"outlinewidth\":0,\"ticks\":\"\"},\"colorscale\":[[0.0,\"#0d0887\"],[0.1111111111111111,\"#46039f\"],[0.2222222222222222,\"#7201a8\"],[0.3333333333333333,\"#9c179e\"],[0.4444444444444444,\"#bd3786\"],[0.5555555555555556,\"#d8576b\"],[0.6666666666666666,\"#ed7953\"],[0.7777777777777778,\"#fb9f3a\"],[0.8888888888888888,\"#fdca26\"],[1.0,\"#f0f921\"]]}],\"choropleth\":[{\"type\":\"choropleth\",\"colorbar\":{\"outlinewidth\":0,\"ticks\":\"\"}}],\"histogram2d\":[{\"type\":\"histogram2d\",\"colorbar\":{\"outlinewidth\":0,\"ticks\":\"\"},\"colorscale\":[[0.0,\"#0d0887\"],[0.1111111111111111,\"#46039f\"],[0.2222222222222222,\"#7201a8\"],[0.3333333333333333,\"#9c179e\"],[0.4444444444444444,\"#bd3786\"],[0.5555555555555556,\"#d8576b\"],[0.6666666666666666,\"#ed7953\"],[0.7777777777777778,\"#fb9f3a\"],[0.8888888888888888,\"#fdca26\"],[1.0,\"#f0f921\"]]}],\"heatmap\":[{\"type\":\"heatmap\",\"colorbar\":{\"outlinewidth\":0,\"ticks\":\"\"},\"colorscale\":[[0.0,\"#0d0887\"],[0.1111111111111111,\"#46039f\"],[0.2222222222222222,\"#7201a8\"],[0.3333333333333333,\"#9c179e\"],[0.4444444444444444,\"#bd3786\"],[0.5555555555555556,\"#d8576b\"],[0.6666666666666666,\"#ed7953\"],[0.7777777777777778,\"#fb9f3a\"],[0.8888888888888888,\"#fdca26\"],[1.0,\"#f0f921\"]]}],\"heatmapgl\":[{\"type\":\"heatmapgl\",\"colorbar\":{\"outlinewidth\":0,\"ticks\":\"\"},\"colorscale\":[[0.0,\"#0d0887\"],[0.1111111111111111,\"#46039f\"],[0.2222222222222222,\"#7201a8\"],[0.3333333333333333,\"#9c179e\"],[0.4444444444444444,\"#bd3786\"],[0.5555555555555556,\"#d8576b\"],[0.6666666666666666,\"#ed7953\"],[0.7777777777777778,\"#fb9f3a\"],[0.8888888888888888,\"#fdca26\"],[1.0,\"#f0f921\"]]}],\"contourcarpet\":[{\"type\":\"contourcarpet\",\"colorbar\":{\"outlinewidth\":0,\"ticks\":\"\"}}],\"contour\":[{\"type\":\"contour\",\"colorbar\":{\"outlinewidth\":0,\"ticks\":\"\"},\"colorscale\":[[0.0,\"#0d0887\"],[0.1111111111111111,\"#46039f\"],[0.2222222222222222,\"#7201a8\"],[0.3333333333333333,\"#9c179e\"],[0.4444444444444444,\"#bd3786\"],[0.5555555555555556,\"#d8576b\"],[0.6666666666666666,\"#ed7953\"],[0.7777777777777778,\"#fb9f3a\"],[0.8888888888888888,\"#fdca26\"],[1.0,\"#f0f921\"]]}],\"surface\":[{\"type\":\"surface\",\"colorbar\":{\"outlinewidth\":0,\"ticks\":\"\"},\"colorscale\":[[0.0,\"#0d0887\"],[0.1111111111111111,\"#46039f\"],[0.2222222222222222,\"#7201a8\"],[0.3333333333333333,\"#9c179e\"],[0.4444444444444444,\"#bd3786\"],[0.5555555555555556,\"#d8576b\"],[0.6666666666666666,\"#ed7953\"],[0.7777777777777778,\"#fb9f3a\"],[0.8888888888888888,\"#fdca26\"],[1.0,\"#f0f921\"]]}],\"mesh3d\":[{\"type\":\"mesh3d\",\"colorbar\":{\"outlinewidth\":0,\"ticks\":\"\"}}],\"scatter\":[{\"fillpattern\":{\"fillmode\":\"overlay\",\"size\":10,\"solidity\":0.2},\"type\":\"scatter\"}],\"parcoords\":[{\"type\":\"parcoords\",\"line\":{\"colorbar\":{\"outlinewidth\":0,\"ticks\":\"\"}}}],\"scatterpolargl\":[{\"type\":\"scatterpolargl\",\"marker\":{\"colorbar\":{\"outlinewidth\":0,\"ticks\":\"\"}}}],\"bar\":[{\"error_x\":{\"color\":\"#2a3f5f\"},\"error_y\":{\"color\":\"#2a3f5f\"},\"marker\":{\"line\":{\"color\":\"#E5ECF6\",\"width\":0.5},\"pattern\":{\"fillmode\":\"overlay\",\"size\":10,\"solidity\":0.2}},\"type\":\"bar\"}],\"scattergeo\":[{\"type\":\"scattergeo\",\"marker\":{\"colorbar\":{\"outlinewidth\":0,\"ticks\":\"\"}}}],\"scatterpolar\":[{\"type\":\"scatterpolar\",\"marker\":{\"colorbar\":{\"outlinewidth\":0,\"ticks\":\"\"}}}],\"histogram\":[{\"marker\":{\"pattern\":{\"fillmode\":\"overlay\",\"size\":10,\"solidity\":0.2}},\"type\":\"histogram\"}],\"scattergl\":[{\"type\":\"scattergl\",\"marker\":{\"colorbar\":{\"outlinewidth\":0,\"ticks\":\"\"}}}],\"scatter3d\":[{\"type\":\"scatter3d\",\"line\":{\"colorbar\":{\"outlinewidth\":0,\"ticks\":\"\"}},\"marker\":{\"colorbar\":{\"outlinewidth\":0,\"ticks\":\"\"}}}],\"scattermapbox\":[{\"type\":\"scattermapbox\",\"marker\":{\"colorbar\":{\"outlinewidth\":0,\"ticks\":\"\"}}}],\"scatterternary\":[{\"type\":\"scatterternary\",\"marker\":{\"colorbar\":{\"outlinewidth\":0,\"ticks\":\"\"}}}],\"scattercarpet\":[{\"type\":\"scattercarpet\",\"marker\":{\"colorbar\":{\"outlinewidth\":0,\"ticks\":\"\"}}}],\"carpet\":[{\"aaxis\":{\"endlinecolor\":\"#2a3f5f\",\"gridcolor\":\"white\",\"linecolor\":\"white\",\"minorgridcolor\":\"white\",\"startlinecolor\":\"#2a3f5f\"},\"baxis\":{\"endlinecolor\":\"#2a3f5f\",\"gridcolor\":\"white\",\"linecolor\":\"white\",\"minorgridcolor\":\"white\",\"startlinecolor\":\"#2a3f5f\"},\"type\":\"carpet\"}],\"table\":[{\"cells\":{\"fill\":{\"color\":\"#EBF0F8\"},\"line\":{\"color\":\"white\"}},\"header\":{\"fill\":{\"color\":\"#C8D4E3\"},\"line\":{\"color\":\"white\"}},\"type\":\"table\"}],\"barpolar\":[{\"marker\":{\"line\":{\"color\":\"#E5ECF6\",\"width\":0.5},\"pattern\":{\"fillmode\":\"overlay\",\"size\":10,\"solidity\":0.2}},\"type\":\"barpolar\"}],\"pie\":[{\"automargin\":true,\"type\":\"pie\"}]},\"layout\":{\"autotypenumbers\":\"strict\",\"colorway\":[\"#636efa\",\"#EF553B\",\"#00cc96\",\"#ab63fa\",\"#FFA15A\",\"#19d3f3\",\"#FF6692\",\"#B6E880\",\"#FF97FF\",\"#FECB52\"],\"font\":{\"color\":\"#2a3f5f\"},\"hovermode\":\"closest\",\"hoverlabel\":{\"align\":\"left\"},\"paper_bgcolor\":\"white\",\"plot_bgcolor\":\"#E5ECF6\",\"polar\":{\"bgcolor\":\"#E5ECF6\",\"angularaxis\":{\"gridcolor\":\"white\",\"linecolor\":\"white\",\"ticks\":\"\"},\"radialaxis\":{\"gridcolor\":\"white\",\"linecolor\":\"white\",\"ticks\":\"\"}},\"ternary\":{\"bgcolor\":\"#E5ECF6\",\"aaxis\":{\"gridcolor\":\"white\",\"linecolor\":\"white\",\"ticks\":\"\"},\"baxis\":{\"gridcolor\":\"white\",\"linecolor\":\"white\",\"ticks\":\"\"},\"caxis\":{\"gridcolor\":\"white\",\"linecolor\":\"white\",\"ticks\":\"\"}},\"coloraxis\":{\"colorbar\":{\"outlinewidth\":0,\"ticks\":\"\"}},\"colorscale\":{\"sequential\":[[0.0,\"#0d0887\"],[0.1111111111111111,\"#46039f\"],[0.2222222222222222,\"#7201a8\"],[0.3333333333333333,\"#9c179e\"],[0.4444444444444444,\"#bd3786\"],[0.5555555555555556,\"#d8576b\"],[0.6666666666666666,\"#ed7953\"],[0.7777777777777778,\"#fb9f3a\"],[0.8888888888888888,\"#fdca26\"],[1.0,\"#f0f921\"]],\"sequentialminus\":[[0.0,\"#0d0887\"],[0.1111111111111111,\"#46039f\"],[0.2222222222222222,\"#7201a8\"],[0.3333333333333333,\"#9c179e\"],[0.4444444444444444,\"#bd3786\"],[0.5555555555555556,\"#d8576b\"],[0.6666666666666666,\"#ed7953\"],[0.7777777777777778,\"#fb9f3a\"],[0.8888888888888888,\"#fdca26\"],[1.0,\"#f0f921\"]],\"diverging\":[[0,\"#8e0152\"],[0.1,\"#c51b7d\"],[0.2,\"#de77ae\"],[0.3,\"#f1b6da\"],[0.4,\"#fde0ef\"],[0.5,\"#f7f7f7\"],[0.6,\"#e6f5d0\"],[0.7,\"#b8e186\"],[0.8,\"#7fbc41\"],[0.9,\"#4d9221\"],[1,\"#276419\"]]},\"xaxis\":{\"gridcolor\":\"white\",\"linecolor\":\"white\",\"ticks\":\"\",\"title\":{\"standoff\":15},\"zerolinecolor\":\"white\",\"automargin\":true,\"zerolinewidth\":2},\"yaxis\":{\"gridcolor\":\"white\",\"linecolor\":\"white\",\"ticks\":\"\",\"title\":{\"standoff\":15},\"zerolinecolor\":\"white\",\"automargin\":true,\"zerolinewidth\":2},\"scene\":{\"xaxis\":{\"backgroundcolor\":\"#E5ECF6\",\"gridcolor\":\"white\",\"linecolor\":\"white\",\"showbackground\":true,\"ticks\":\"\",\"zerolinecolor\":\"white\",\"gridwidth\":2},\"yaxis\":{\"backgroundcolor\":\"#E5ECF6\",\"gridcolor\":\"white\",\"linecolor\":\"white\",\"showbackground\":true,\"ticks\":\"\",\"zerolinecolor\":\"white\",\"gridwidth\":2},\"zaxis\":{\"backgroundcolor\":\"#E5ECF6\",\"gridcolor\":\"white\",\"linecolor\":\"white\",\"showbackground\":true,\"ticks\":\"\",\"zerolinecolor\":\"white\",\"gridwidth\":2}},\"shapedefaults\":{\"line\":{\"color\":\"#2a3f5f\"}},\"annotationdefaults\":{\"arrowcolor\":\"#2a3f5f\",\"arrowhead\":0,\"arrowwidth\":1},\"geo\":{\"bgcolor\":\"white\",\"landcolor\":\"#E5ECF6\",\"subunitcolor\":\"white\",\"showland\":true,\"showlakes\":true,\"lakecolor\":\"white\"},\"title\":{\"x\":0.05},\"mapbox\":{\"style\":\"light\"}}},\"map\":{\"domain\":{\"x\":[0.0,1.0],\"y\":[0.0,1.0]},\"center\":{\"lat\":-21.211644968749997,\"lon\":55.380223406249996},\"zoom\":10,\"style\":\"carto-positron\"},\"coloraxis\":{\"colorbar\":{\"title\":{\"text\":\"Percentage\"}},\"colorscale\":[[0.0,\"rgb(0,0,255)\"],[1.0,\"rgb(255,0,0)\"]]},\"legend\":{\"tracegroupgap\":0,\"itemsizing\":\"constant\"},\"margin\":{\"t\":60},\"mapbox\":{\"center\":{\"lat\":-21.211644968749997,\"lon\":55.380223406249996},\"zoom\":10,\"style\":\"carto-positron\"}},                        {\"responsive\": true}                    ).then(function(){\n",
       "                            \n",
       "var gd = document.getElementById('edf241fc-d80d-46ce-80f4-99ce78644623');\n",
       "var x = new MutationObserver(function (mutations, observer) {{\n",
       "        var display = window.getComputedStyle(gd).display;\n",
       "        if (!display || display === 'none') {{\n",
       "            console.log([gd, 'removed!']);\n",
       "            Plotly.purge(gd);\n",
       "            observer.disconnect();\n",
       "        }}\n",
       "}});\n",
       "\n",
       "// Listen for the removal of the full notebook cells\n",
       "var notebookContainer = gd.closest('#notebook-container');\n",
       "if (notebookContainer) {{\n",
       "    x.observe(notebookContainer, {childList: true});\n",
       "}}\n",
       "\n",
       "// Listen for the clearing of the current output cell\n",
       "var outputEl = gd.closest('.output');\n",
       "if (outputEl) {{\n",
       "    x.observe(outputEl, {childList: true});\n",
       "}}\n",
       "\n",
       "                        })                };                });            </script>        </div>"
      ]
     },
     "metadata": {},
     "output_type": "display_data"
    }
   ],
   "source": [
    "fig.show()"
   ]
  },
  {
   "cell_type": "code",
   "execution_count": 112,
   "metadata": {},
   "outputs": [
    {
     "data": {
      "text/html": [
       "<div>\n",
       "<style scoped>\n",
       "    .dataframe tbody tr th:only-of-type {\n",
       "        vertical-align: middle;\n",
       "    }\n",
       "\n",
       "    .dataframe tbody tr th {\n",
       "        vertical-align: top;\n",
       "    }\n",
       "\n",
       "    .dataframe thead th {\n",
       "        text-align: right;\n",
       "    }\n",
       "</style>\n",
       "<table border=\"1\" class=\"dataframe\">\n",
       "  <thead>\n",
       "    <tr style=\"text-align: right;\">\n",
       "      <th></th>\n",
       "      <th>Adresse</th>\n",
       "      <th>count</th>\n",
       "    </tr>\n",
       "  </thead>\n",
       "  <tbody>\n",
       "    <tr>\n",
       "      <th>0</th>\n",
       "      <td>142 RUE LECONTE DELISLE, 97450 SAINT LOUIS</td>\n",
       "      <td>1611</td>\n",
       "    </tr>\n",
       "    <tr>\n",
       "      <th>1</th>\n",
       "      <td>LE RUISSEAU TERRE ROUGE, 97421 ST LOUIS</td>\n",
       "      <td>245</td>\n",
       "    </tr>\n",
       "    <tr>\n",
       "      <th>2</th>\n",
       "      <td>RUE DES SALINS, 97460 ST PAUL</td>\n",
       "      <td>195</td>\n",
       "    </tr>\n",
       "    <tr>\n",
       "      <th>3</th>\n",
       "      <td>50 RUE HENRI LAPIERRE RES. GOYAVES MARRONS, 97...</td>\n",
       "      <td>189</td>\n",
       "    </tr>\n",
       "    <tr>\n",
       "      <th>4</th>\n",
       "      <td>25A ALLEE CANNES BONBON, 97450 SAINT LOUIS</td>\n",
       "      <td>87</td>\n",
       "    </tr>\n",
       "  </tbody>\n",
       "</table>\n",
       "</div>"
      ],
      "text/plain": [
       "                                             Adresse  count\n",
       "0         142 RUE LECONTE DELISLE, 97450 SAINT LOUIS   1611\n",
       "1            LE RUISSEAU TERRE ROUGE, 97421 ST LOUIS    245\n",
       "2                      RUE DES SALINS, 97460 ST PAUL    195\n",
       "3  50 RUE HENRI LAPIERRE RES. GOYAVES MARRONS, 97...    189\n",
       "4         25A ALLEE CANNES BONBON, 97450 SAINT LOUIS     87"
      ]
     },
     "execution_count": 112,
     "metadata": {},
     "output_type": "execute_result"
    }
   ],
   "source": [
    "adresse_counts = df['Adresse'].value_counts().reset_index()\n",
    "\n",
    "adresse_counts.head()"
   ]
  },
  {
   "cell_type": "code",
   "execution_count": null,
   "metadata": {},
   "outputs": [],
   "source": []
  }
 ],
 "metadata": {
  "kernelspec": {
   "display_name": "telephony",
   "language": "python",
   "name": "python3"
  },
  "language_info": {
   "codemirror_mode": {
    "name": "ipython",
    "version": 3
   },
   "file_extension": ".py",
   "mimetype": "text/x-python",
   "name": "python",
   "nbconvert_exporter": "python",
   "pygments_lexer": "ipython3",
   "version": "3.9.21"
  }
 },
 "nbformat": 4,
 "nbformat_minor": 2
}
