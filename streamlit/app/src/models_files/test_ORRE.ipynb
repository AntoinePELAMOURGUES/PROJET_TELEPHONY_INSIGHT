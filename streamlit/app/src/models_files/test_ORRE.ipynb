{
 "cells": [
  {
   "cell_type": "code",
   "execution_count": 10,
   "metadata": {},
   "outputs": [],
   "source": [
    "import pandas as pd\n",
    "import numpy as np\n",
    "import re\n",
    "import plotly.graph_objects as go\n",
    "import plotly.express as px\n",
    "from pyproj import Proj, Transformer\n",
    "import requests"
   ]
  },
  {
   "cell_type": "code",
   "execution_count": 1,
   "metadata": {},
   "outputs": [],
   "source": [
    "import pandas as pd\n",
    "import numpy as np\n",
    "import re\n",
    "\n",
    "\n",
    "def transform_date(df, columns: str):\n",
    "    df[columns] = pd.to_datetime(df[columns])\n",
    "    # Extraire l'année, le mois et le jour de la semaine\n",
    "    df['Années'] = df[columns].dt.year\n",
    "    df['Mois'] = df[columns].dt.month\n",
    "    df['Heure'] = df[columns].dt.hour\n",
    "    df['Jour de la semaine'] = df[columns].dt.day_name()\n",
    "    # Mapper les jours de la semaine en français\n",
    "    jours_semaine_fr = {\n",
    "        'Monday': 'LUNDI',\n",
    "        'Tuesday': 'MARDI',\n",
    "        'Wednesday': 'MERCREDI',\n",
    "        'Thursday': 'JEUDI',\n",
    "        'Friday': 'VENDREDI',\n",
    "        'Saturday': 'SAMEDI',\n",
    "        'Sunday': 'DIMANCHE'\n",
    "    }\n",
    "    # Mapper les mois en français\n",
    "    mois_fr = {\n",
    "        1: 'JANVIER',\n",
    "        2: 'FEVRIER',\n",
    "        3: 'MARS',\n",
    "        4: 'AVRIL',\n",
    "        5: 'MAI',\n",
    "        6: 'JUIN',\n",
    "        7: 'JUILLET',\n",
    "        8: 'AOUT',\n",
    "        9: 'SEPTEMBRE',\n",
    "        10: 'OCTOBRE',\n",
    "        11: 'NOVEMBRE',\n",
    "        12: 'DECEMBRE'\n",
    "    }\n",
    "    # Remplacer les numéros de mois par leur équivalent en français\n",
    "    df['Mois'] = df['Mois'].map(mois_fr)\n",
    "    # Remplacer les noms des jours par leur équivalent en français\n",
    "    df['Jour de la semaine'] = df['Jour de la semaine'].map(jours_semaine_fr)\n",
    "    return df\n",
    "\n",
    "def clean_cell_number(df, columns:str):\n",
    "    df[columns] = df[columns].astype(str)\n",
    "    df[columns] = df[columns].str.split(',').str[0]\n",
    "    df[columns] = df[columns].replace(r'^0693', '262693', regex=True)\n",
    "    df[columns] = df[columns].replace(r'^0692', '262692', regex=True)\n",
    "    df[columns] = df[columns].replace(r'^06', '336', regex=True)\n",
    "    df[columns] = df[columns].replace(r'^07', '337', regex=True)\n",
    "    df[columns] = df[columns].replace(r'^02', '2622', regex=True)\n",
    "    return df\n",
    "\n",
    "def reset_accent(chaine):\n",
    "    accent_fr = {\n",
    "    'é': 'e', 'è': 'e', 'ê': 'e', 'ë': 'e',\n",
    "    'à': 'a', 'â': 'a', 'ä': 'a',\n",
    "    'ç': 'c',\n",
    "    'î': 'i', 'ï': 'i',\n",
    "    'ô': 'o', 'ö': 'o',\n",
    "    'ù': 'u', 'û': 'u', 'ü': 'u',\n",
    "    'ÿ': 'y',\n",
    "    # Ajout des majuscules\n",
    "    'É': 'E', 'È': 'E', 'Ê': 'E', 'Ë': 'E',\n",
    "    'À': 'A', 'Â': 'A', 'Ä': 'A',\n",
    "    'Ç': 'C',\n",
    "    'Î': 'I', 'Ï': 'I',\n",
    "    'Ô': 'O', 'Ö': 'O',\n",
    "    'Ù': 'U', 'Û': 'U', 'Ü': 'U'\n",
    "}\n",
    "    for accent, sans_accent in accent_fr.items():\n",
    "        chaine = chaine.replace(accent, sans_accent)\n",
    "    return chaine\n",
    "\n",
    "\n",
    "def clean_city(df, columns: str):\n",
    "    df[columns] = df[columns].astype(str)\n",
    "    df = df.rename(columns={columns: 'VILLE'})\n",
    "    df['VILLE']= df['VILLE'].str.upper()\n",
    "    df['VILLE']= df['VILLE'].str.replace(\"-\", \" \")\n",
    "    df['VILLE']= df['VILLE'].str.replace(\"SAINT\", \"ST\")\n",
    "    df['VILLE']= df['VILLE'].str.replace(\"SAINTE\", \"STE\")\n",
    "    df['VILLE']= df['VILLE'].str.replace(\"L'\", \"\")\n",
    "    df['VILLE'] = df['VILLE'].apply(reset_accent)\n",
    "    df['VILLE'] = df['VILLE'].str.replace(r'\\s+', ' ', regex=True).str.strip()\n",
    "    return df\n",
    "\n",
    "\n",
    "def convert_date(date_str):\n",
    "    # Extraire le fuseau horaire avec une expression régulière\n",
    "    match = re.search(r'UTC([+-]\\d)', date_str)\n",
    "    if match:\n",
    "        utc_offset = int(match.group(1))  # Récupérer le décalage horaire\n",
    "    else:\n",
    "        utc_offset = 0  # Valeur par défaut si aucun fuseau horaire n'est trouvé\n",
    "    # Retirer le fuseau horaire et convertir en datetime\n",
    "    date_without_tz = date_str.split(' UTC')[0]  # Retirer ' UTC+X'\n",
    "    dt = pd.to_datetime(date_without_tz, format='%d/%m/%Y - %H:%M:%S')\n",
    "    # Ajuster le fuseau horaire à UTC+4\n",
    "    dt = dt + pd.Timedelta(hours=(4 - utc_offset))  # Ajustement basé sur l'offset\n",
    "    return dt\n",
    "\n",
    "# Fonction pour nettoyer les chaînes\n",
    "def clean_number(number_str):\n",
    "    # Utiliser une expression régulière pour supprimer le préfixe et le suffixe\n",
    "    return re.sub(r'^\\=\\(\"\\s*|\\s*\"\\)$', '', number_str)\n",
    "\n",
    "def replace_unknown_ville(row):\n",
    "    reunion_postal_codes = {\n",
    "    \"97400\": \"ST DENIS\",\n",
    "    \"97410\": \"ST PIERRE\",\n",
    "    \"97411\": \"BOIS DE NEFLES\",\n",
    "    \"97412\": \"BRAS PANON\",\n",
    "    \"97413\": \"CILAOS\",\n",
    "    \"97414\": \"ENTRE DEUX\",\n",
    "    \"97416\": \"LA CHALOUPE\",\n",
    "    \"97417\": \"ST BERNARD\",\n",
    "    \"97418\": \"LA PLAINE DES CAFRES\",\n",
    "    \"97419\": \"LA POSSESSION\",\n",
    "    \"97420\": \"LE PORT\",\n",
    "    \"97421\": \"LA RIVIERE ST LOUIS\",\n",
    "    \"97422\": \"LA SALINE\",\n",
    "    \"97423\": \"LE GUILLAUME\",\n",
    "    \"97424\": \"PITON ST LEU\",\n",
    "    \"97425\": \"LES AVRIONS\",\n",
    "    \"97426\": \"LES TROIS BASSINS\",\n",
    "    \"97427\": \"L'ETANG SALE\",\n",
    "    \"97428\": \"LA NOUVELLE\",\n",
    "    \"97429\": \"PETITE ILE\",\n",
    "    \"97430\": \"LE TAMPON\",\n",
    "    \"97431\": \"LA PLAINE DES PALMISTES\",\n",
    "    \"97432\": \"LA RAVINE DES CABRIS\",\n",
    "    \"97433\": \"SALAZIE - HELL BOURG\",\n",
    "    \"97434\": \"ST GILLES LES BAINS\",\n",
    "    \"97435\": \"BERNICA\",\n",
    "    \"97436\": \"ST LEU\",\n",
    "    \"97437\": \"STE ANNE\",\n",
    "    \"97438\": \"STE MARIE\",\n",
    "    \"97439\": \"STE ROSE\",\n",
    "    \"97440\": \"ST ANDRE\",\n",
    "    \"97441\": \"STE SUZANNE\",\n",
    "    \"97442\": \"BASSE VALLEE\",\n",
    "    \"97450\": \"ST LOUIS\",\n",
    "    \"97460\": \"ST PAUL\",\n",
    "    \"97470\": \"ST BENOIT\"\n",
    "}\n",
    "    if row['VILLE'] == 'ville inconnue':\n",
    "        return reunion_postal_codes.get(row['CODE POSTAL'], 'ville inconnue')  # Remplace par la ville correspondante ou garde 'ville inconnue'\n",
    "    return row['VILLE']\n",
    "\n",
    "\n",
    "def extract_city(address):\n",
    "    if isinstance(address, str):  # Vérifie si l'adresse est une chaîne\n",
    "        # Regex pour capturer la ville après le code postal (5 chiffres)\n",
    "        match = re.search(r'\\d{5}\\s+(.*)', address)\n",
    "        if match:\n",
    "            return match.group(1).strip()  # Retourne la ville sans espaces superflus\n",
    "    return None  # Retourne None si aucune correspondance n'est trouvée ou si l'adresse n'est pas une chaîne\n"
   ]
  },
  {
   "cell_type": "code",
   "execution_count": 12,
   "metadata": {},
   "outputs": [],
   "source": [
    "import pandas as pd\n",
    "\n",
    "\n",
    "def preprocess_data(file1):\n",
    "    # Liste des colonnes attendues\n",
    "    expected_columns = [\n",
    "        \"Date de début d'appel\",\n",
    "        \"MSISDN Abonné\",\n",
    "        \"Correspondant\",\n",
    "        \"Type de communication\",\n",
    "        \"Durée / Nbr SMS\",\n",
    "        \"Adresse du relais\",\n",
    "        \"IMEI abonné\",\n",
    "        \"IMSI abonné\"\n",
    "    ]\n",
    "    # Lire à nouveau avec usecols\n",
    "    df = pd.read_csv(file1, header=1, sep=';', encoding='latin1', dtype={\"MSISDN Abonné\": str, \"Correspondant\": str, \"IMEI abonné\": str, \"IMSI abonné\": str, \"Durée / Nbr SMS\": str})\n",
    "    available_columns = df.columns.tolist()\n",
    "    # Filtrer les colonnes attendues qui sont disponibles\n",
    "    filtered_columns = list(set(expected_columns) & set(available_columns))\n",
    "    df = df[filtered_columns]\n",
    "    rename_dict = {\n",
    "        \"Date de début d'appel\": \"DATE\",\n",
    "        \"MSISDN Abonné\": \"ABONNE\",\n",
    "        \"Type de communication\": \"TYPE D'APPEL\",\n",
    "        \"Durée / Nbr SMS\": \"DUREE\",\n",
    "        \"Adresse du relais\": \"ADRESSE\",\n",
    "        \"IMEI abonné\": \"IMEI\",\n",
    "        \"IMSI abonné\": \"IMSI\",\n",
    "        \"Correspondant\": \"CORRESPONDANT\"\n",
    "    }\n",
    "    # Renommer uniquement les colonnes présentes dans le DataFrame\n",
    "    df.rename(columns={k: v for k, v in rename_dict.items() if k in df.columns}, inplace=True)\n",
    "    if 'DATE' in df.columns:\n",
    "        df = transform_date(df, 'DATE')\n",
    "    if \"TYPE D'APPEL\" in df.columns:\n",
    "        df[\"TYPE D'APPEL\"] = df[\"TYPE D'APPEL\"].astype(str)\n",
    "        df[\"TYPE D'APPEL\"] = df[\"TYPE D'APPEL\"].str.upper()\n",
    "        df[\"TYPE D'APPEL\"] = df[\"TYPE D'APPEL\"].apply(reset_accent)\n",
    "    if 'IMEI' in df.columns:\n",
    "        df['IMEI'] = df['IMEI'].fillna(\"INDETERMINE\")\n",
    "        df['IMEI'] = df['IMEI'].astype(str)\n",
    "        df[\"IMEI\"] = df[\"IMEI\"].apply(clean_number)\n",
    "    if 'IMSI' in df.columns:\n",
    "        df['IMSI'] = df['IMSI'].fillna(\"INDETERMINE\")\n",
    "        df[\"IMSI\"] = df[\"IMSI\"].astype('str')\n",
    "        df['IMSI'] = df['IMSI'].apply(clean_number)\n",
    "    if 'ABONNE' in df.columns:\n",
    "        df['ABONNE'] = df['ABONNE'].fillna('')\n",
    "        df['ABONNE'] = df['ABONNE'].apply(clean_number)\n",
    "        df = clean_cell_number(df, 'ABONNE')\n",
    "    if 'CORRESPONDANT' in df.columns:\n",
    "        df['CORRESPONDANT'] = df['CORRESPONDANT'].fillna(\"DATA\")\n",
    "        df['CORRESPONDANT'] = df['CORRESPONDANT'].astype(str)\n",
    "        df['CORRESPONDANT'] = df['CORRESPONDANT'].apply(clean_number)\n",
    "        df = clean_cell_number(df, 'CORRESPONDANT')\n",
    "    if 'ADRESSE' in df.columns:\n",
    "        df['ADRESSE'] = df['ADRESSE'].fillna(\"INDETERMINE\")\n",
    "        df['ADRESSE'] = df['ADRESSE'].astype(str)\n",
    "        df['ADRESSE'] = df['ADRESSE'].str.upper()\n",
    "        df['ADRESSE'] = df['ADRESSE'].apply(reset_accent)\n",
    "        # Appliquer la fonction pour créer une nouvelle colonne 'Ville'\n",
    "        df['VILLE'] = df['ADRESSE'].apply(extract_city)\n",
    "        df = clean_city(df, columns='VILLE')\n",
    "    df.fillna(\"INDETERMINE\", inplace=True)\n",
    "    final_rename_dict = {\n",
    "        \"Années\": \"ANNEE\", \"Mois\": \"MOIS\", \"Heure\": \"HEURE\", \"Jour de la semaine\": \"JOUR DE LA SEMAINE\"}\n",
    "    df.rename(columns={k: v for k, v in final_rename_dict.items() if k in df.columns}, inplace=True)\n",
    "\n",
    "    return df"
   ]
  },
  {
   "cell_type": "code",
   "execution_count": 13,
   "metadata": {},
   "outputs": [
    {
     "data": {
      "text/html": [
       "<div>\n",
       "<style scoped>\n",
       "    .dataframe tbody tr th:only-of-type {\n",
       "        vertical-align: middle;\n",
       "    }\n",
       "\n",
       "    .dataframe tbody tr th {\n",
       "        vertical-align: top;\n",
       "    }\n",
       "\n",
       "    .dataframe thead th {\n",
       "        text-align: right;\n",
       "    }\n",
       "</style>\n",
       "<table border=\"1\" class=\"dataframe\">\n",
       "  <thead>\n",
       "    <tr style=\"text-align: right;\">\n",
       "      <th></th>\n",
       "      <th>DATE</th>\n",
       "      <th>TYPE D'APPEL</th>\n",
       "      <th>CORRESPONDANT</th>\n",
       "      <th>DUREE</th>\n",
       "      <th>IMEI</th>\n",
       "      <th>ADRESSE</th>\n",
       "      <th>IMSI</th>\n",
       "      <th>ABONNE</th>\n",
       "      <th>ANNEE</th>\n",
       "      <th>MOIS</th>\n",
       "      <th>HEURE</th>\n",
       "      <th>JOUR DE LA SEMAINE</th>\n",
       "      <th>VILLE</th>\n",
       "    </tr>\n",
       "  </thead>\n",
       "  <tbody>\n",
       "    <tr>\n",
       "      <th>0</th>\n",
       "      <td>2024-12-05 17:33:49</td>\n",
       "      <td>DATA</td>\n",
       "      <td>DATA</td>\n",
       "      <td>0</td>\n",
       "      <td>356415750069700</td>\n",
       "      <td>ANCIEN CHEMIN DU PHARE 97420 LE PORT</td>\n",
       "      <td>647000122980517</td>\n",
       "      <td>262692293744</td>\n",
       "      <td>2024</td>\n",
       "      <td>DECEMBRE</td>\n",
       "      <td>17</td>\n",
       "      <td>JEUDI</td>\n",
       "      <td>LE PORT</td>\n",
       "    </tr>\n",
       "    <tr>\n",
       "      <th>1</th>\n",
       "      <td>2024-12-05 17:33:49</td>\n",
       "      <td>DATA</td>\n",
       "      <td>DATA</td>\n",
       "      <td>81</td>\n",
       "      <td>356415750069700</td>\n",
       "      <td>ANCIEN CHEMIN DU PHARE 97420 LE PORT</td>\n",
       "      <td>647000122980517</td>\n",
       "      <td>262692293744</td>\n",
       "      <td>2024</td>\n",
       "      <td>DECEMBRE</td>\n",
       "      <td>17</td>\n",
       "      <td>JEUDI</td>\n",
       "      <td>LE PORT</td>\n",
       "    </tr>\n",
       "    <tr>\n",
       "      <th>2</th>\n",
       "      <td>2024-12-05 17:35:10</td>\n",
       "      <td>DATA</td>\n",
       "      <td>DATA</td>\n",
       "      <td>18</td>\n",
       "      <td>356415750069700</td>\n",
       "      <td>RUE SALINS 97460 SAINT PAUL</td>\n",
       "      <td>647000122980517</td>\n",
       "      <td>262692293744</td>\n",
       "      <td>2024</td>\n",
       "      <td>DECEMBRE</td>\n",
       "      <td>17</td>\n",
       "      <td>JEUDI</td>\n",
       "      <td>ST PAUL</td>\n",
       "    </tr>\n",
       "    <tr>\n",
       "      <th>3</th>\n",
       "      <td>2024-12-05 17:35:28</td>\n",
       "      <td>DATA</td>\n",
       "      <td>DATA</td>\n",
       "      <td>0</td>\n",
       "      <td>356415750069700</td>\n",
       "      <td>RUE SALINS 97460 SAINT PAUL</td>\n",
       "      <td>647000122980517</td>\n",
       "      <td>262692293744</td>\n",
       "      <td>2024</td>\n",
       "      <td>DECEMBRE</td>\n",
       "      <td>17</td>\n",
       "      <td>JEUDI</td>\n",
       "      <td>ST PAUL</td>\n",
       "    </tr>\n",
       "    <tr>\n",
       "      <th>4</th>\n",
       "      <td>2024-12-05 17:35:28</td>\n",
       "      <td>DATA</td>\n",
       "      <td>DATA</td>\n",
       "      <td>180</td>\n",
       "      <td>356415750069700</td>\n",
       "      <td>RUE SALINS 97460 SAINT PAUL</td>\n",
       "      <td>647000122980517</td>\n",
       "      <td>262692293744</td>\n",
       "      <td>2024</td>\n",
       "      <td>DECEMBRE</td>\n",
       "      <td>17</td>\n",
       "      <td>JEUDI</td>\n",
       "      <td>ST PAUL</td>\n",
       "    </tr>\n",
       "  </tbody>\n",
       "</table>\n",
       "</div>"
      ],
      "text/plain": [
       "                 DATE TYPE D'APPEL CORRESPONDANT DUREE             IMEI  \\\n",
       "0 2024-12-05 17:33:49         DATA          DATA     0  356415750069700   \n",
       "1 2024-12-05 17:33:49         DATA          DATA    81  356415750069700   \n",
       "2 2024-12-05 17:35:10         DATA          DATA    18  356415750069700   \n",
       "3 2024-12-05 17:35:28         DATA          DATA     0  356415750069700   \n",
       "4 2024-12-05 17:35:28         DATA          DATA   180  356415750069700   \n",
       "\n",
       "                                ADRESSE             IMSI        ABONNE  ANNEE  \\\n",
       "0  ANCIEN CHEMIN DU PHARE 97420 LE PORT  647000122980517  262692293744   2024   \n",
       "1  ANCIEN CHEMIN DU PHARE 97420 LE PORT  647000122980517  262692293744   2024   \n",
       "2           RUE SALINS 97460 SAINT PAUL  647000122980517  262692293744   2024   \n",
       "3           RUE SALINS 97460 SAINT PAUL  647000122980517  262692293744   2024   \n",
       "4           RUE SALINS 97460 SAINT PAUL  647000122980517  262692293744   2024   \n",
       "\n",
       "       MOIS  HEURE JOUR DE LA SEMAINE    VILLE  \n",
       "0  DECEMBRE     17              JEUDI  LE PORT  \n",
       "1  DECEMBRE     17              JEUDI  LE PORT  \n",
       "2  DECEMBRE     17              JEUDI  ST PAUL  \n",
       "3  DECEMBRE     17              JEUDI  ST PAUL  \n",
       "4  DECEMBRE     17              JEUDI  ST PAUL  "
      ]
     },
     "execution_count": 13,
     "metadata": {},
     "output_type": "execute_result"
    }
   ],
   "source": [
    "df_mt20 = preprocess_data(\"/home/antoine/telephony_insight_project/streamlit/app/source/models_files/ORRE_MT20.csv\")\n",
    "\n",
    "df_mt20.head()"
   ]
  },
  {
   "cell_type": "code",
   "execution_count": 24,
   "metadata": {},
   "outputs": [
    {
     "name": "stdout",
     "output_type": "stream",
     "text": [
      "<class 'pandas.core.frame.DataFrame'>\n",
      "RangeIndex: 208 entries, 0 to 207\n",
      "Data columns (total 12 columns):\n",
      " #   Column              Non-Null Count  Dtype         \n",
      "---  ------              --------------  -----         \n",
      " 0   Correspondant       208 non-null    object        \n",
      " 1   Date                208 non-null    datetime64[ns]\n",
      " 2   Durée               208 non-null    object        \n",
      " 3   Type d'appel        208 non-null    object        \n",
      " 4   Abonné              208 non-null    object        \n",
      " 5   IMSI                208 non-null    object        \n",
      " 6   Adresse             208 non-null    object        \n",
      " 7   IMEI                208 non-null    object        \n",
      " 8   Années              208 non-null    int32         \n",
      " 9   Mois                208 non-null    object        \n",
      " 10  Jour de la semaine  208 non-null    object        \n",
      " 11  Ville               208 non-null    object        \n",
      "dtypes: datetime64[ns](1), int32(1), object(10)\n",
      "memory usage: 18.8+ KB\n"
     ]
    }
   ],
   "source": [
    "df_mt20.info()"
   ]
  },
  {
   "cell_type": "code",
   "execution_count": 7,
   "metadata": {},
   "outputs": [
    {
     "data": {
      "text/html": [
       "<div>\n",
       "<style scoped>\n",
       "    .dataframe tbody tr th:only-of-type {\n",
       "        vertical-align: middle;\n",
       "    }\n",
       "\n",
       "    .dataframe tbody tr th {\n",
       "        vertical-align: top;\n",
       "    }\n",
       "\n",
       "    .dataframe thead th {\n",
       "        text-align: right;\n",
       "    }\n",
       "</style>\n",
       "<table border=\"1\" class=\"dataframe\">\n",
       "  <thead>\n",
       "    <tr style=\"text-align: right;\">\n",
       "      <th></th>\n",
       "      <th>Correspondant</th>\n",
       "      <th>Date</th>\n",
       "      <th>Durée</th>\n",
       "      <th>Type d'appel</th>\n",
       "      <th>Abonné</th>\n",
       "      <th>IMSI</th>\n",
       "      <th>Adresse</th>\n",
       "      <th>IMEI</th>\n",
       "      <th>Années</th>\n",
       "      <th>Mois</th>\n",
       "      <th>Jour de la semaine</th>\n",
       "      <th>Ville</th>\n",
       "    </tr>\n",
       "  </thead>\n",
       "  <tbody>\n",
       "    <tr>\n",
       "      <th>0</th>\n",
       "      <td>262692144008</td>\n",
       "      <td>2023-03-17 12:34:17</td>\n",
       "      <td>1</td>\n",
       "      <td>FR-SMS-ENTR</td>\n",
       "      <td>262692082852</td>\n",
       "      <td>647049700144759</td>\n",
       "      <td>STADE JEAN IVOULA RUE DU STADE DE L'EST 97400 ...</td>\n",
       "      <td>867269036785390</td>\n",
       "      <td>2023</td>\n",
       "      <td>Mars</td>\n",
       "      <td>Vendredi</td>\n",
       "      <td>ST DENIS</td>\n",
       "    </tr>\n",
       "    <tr>\n",
       "      <th>1</th>\n",
       "      <td>262692144008</td>\n",
       "      <td>2023-03-17 12:42:29</td>\n",
       "      <td>60</td>\n",
       "      <td>FR-APP-SORT</td>\n",
       "      <td>262692082852</td>\n",
       "      <td>647049700144759</td>\n",
       "      <td>STADE JEAN IVOULA RUE DU STADE DE L'EST 97400 ...</td>\n",
       "      <td>867269036785390</td>\n",
       "      <td>2023</td>\n",
       "      <td>Mars</td>\n",
       "      <td>Vendredi</td>\n",
       "      <td>ST DENIS</td>\n",
       "    </tr>\n",
       "    <tr>\n",
       "      <th>2</th>\n",
       "      <td>262692144008</td>\n",
       "      <td>2023-03-17 12:59:00</td>\n",
       "      <td>104</td>\n",
       "      <td>FR-APP-ENTR</td>\n",
       "      <td>262692082852</td>\n",
       "      <td>647049700144759</td>\n",
       "      <td>STADE JEAN IVOULA RUE DU STADE DE L'EST 97400 ...</td>\n",
       "      <td>867269036785390</td>\n",
       "      <td>2023</td>\n",
       "      <td>Mars</td>\n",
       "      <td>Vendredi</td>\n",
       "      <td>ST DENIS</td>\n",
       "    </tr>\n",
       "    <tr>\n",
       "      <th>3</th>\n",
       "      <td>262692434962</td>\n",
       "      <td>2023-03-17 13:49:28</td>\n",
       "      <td>207</td>\n",
       "      <td>FR-APP-SORT</td>\n",
       "      <td>262692082852</td>\n",
       "      <td>647049700144759</td>\n",
       "      <td>CENTRE COMMERCIAL STE MARIE DUPARC ROND POINT ...</td>\n",
       "      <td>867269036785390</td>\n",
       "      <td>2023</td>\n",
       "      <td>Mars</td>\n",
       "      <td>Vendredi</td>\n",
       "      <td>STE MARIE</td>\n",
       "    </tr>\n",
       "    <tr>\n",
       "      <th>4</th>\n",
       "      <td>262692434962</td>\n",
       "      <td>2023-03-17 13:57:28</td>\n",
       "      <td>54</td>\n",
       "      <td>FR-APP-SORT</td>\n",
       "      <td>262692082852</td>\n",
       "      <td>647049700144759</td>\n",
       "      <td>CENTRE COMMERCIAL STE MARIE DUPARC ROND POINT ...</td>\n",
       "      <td>867269036785390</td>\n",
       "      <td>2023</td>\n",
       "      <td>Mars</td>\n",
       "      <td>Vendredi</td>\n",
       "      <td>STE MARIE</td>\n",
       "    </tr>\n",
       "  </tbody>\n",
       "</table>\n",
       "</div>"
      ],
      "text/plain": [
       "  Correspondant                Date Durée Type d'appel        Abonné  \\\n",
       "0  262692144008 2023-03-17 12:34:17     1  FR-SMS-ENTR  262692082852   \n",
       "1  262692144008 2023-03-17 12:42:29    60  FR-APP-SORT  262692082852   \n",
       "2  262692144008 2023-03-17 12:59:00   104  FR-APP-ENTR  262692082852   \n",
       "3  262692434962 2023-03-17 13:49:28   207  FR-APP-SORT  262692082852   \n",
       "4  262692434962 2023-03-17 13:57:28    54  FR-APP-SORT  262692082852   \n",
       "\n",
       "              IMSI                                            Adresse  \\\n",
       "0  647049700144759  STADE JEAN IVOULA RUE DU STADE DE L'EST 97400 ...   \n",
       "1  647049700144759  STADE JEAN IVOULA RUE DU STADE DE L'EST 97400 ...   \n",
       "2  647049700144759  STADE JEAN IVOULA RUE DU STADE DE L'EST 97400 ...   \n",
       "3  647049700144759  CENTRE COMMERCIAL STE MARIE DUPARC ROND POINT ...   \n",
       "4  647049700144759  CENTRE COMMERCIAL STE MARIE DUPARC ROND POINT ...   \n",
       "\n",
       "              IMEI  Années  Mois Jour de la semaine      Ville  \n",
       "0  867269036785390    2023  Mars           Vendredi   ST DENIS  \n",
       "1  867269036785390    2023  Mars           Vendredi   ST DENIS  \n",
       "2  867269036785390    2023  Mars           Vendredi   ST DENIS  \n",
       "3  867269036785390    2023  Mars           Vendredi  STE MARIE  \n",
       "4  867269036785390    2023  Mars           Vendredi  STE MARIE  "
      ]
     },
     "execution_count": 7,
     "metadata": {},
     "output_type": "execute_result"
    }
   ],
   "source": [
    "df_mt24 = preprocess_data(\"/home/antoine/telephony_insight_project/streamlit/app/source/models_files/ORRE_MT24.csv\")\n",
    "\n",
    "df_mt24.head()"
   ]
  },
  {
   "cell_type": "code",
   "execution_count": 23,
   "metadata": {},
   "outputs": [
    {
     "name": "stdout",
     "output_type": "stream",
     "text": [
      "<class 'pandas.core.frame.DataFrame'>\n",
      "RangeIndex: 138 entries, 0 to 137\n",
      "Data columns (total 12 columns):\n",
      " #   Column              Non-Null Count  Dtype         \n",
      "---  ------              --------------  -----         \n",
      " 0   Correspondant       138 non-null    object        \n",
      " 1   Date                138 non-null    datetime64[ns]\n",
      " 2   Durée               138 non-null    object        \n",
      " 3   Type d'appel        138 non-null    object        \n",
      " 4   Abonné              138 non-null    object        \n",
      " 5   IMSI                138 non-null    object        \n",
      " 6   Adresse             138 non-null    object        \n",
      " 7   IMEI                138 non-null    object        \n",
      " 8   Années              138 non-null    int32         \n",
      " 9   Mois                138 non-null    object        \n",
      " 10  Jour de la semaine  138 non-null    object        \n",
      " 11  Ville               138 non-null    object        \n",
      "dtypes: datetime64[ns](1), int32(1), object(10)\n",
      "memory usage: 12.5+ KB\n"
     ]
    }
   ],
   "source": [
    "df_mt24.info()"
   ]
  },
  {
   "cell_type": "code",
   "execution_count": 9,
   "metadata": {},
   "outputs": [
    {
     "data": {
      "text/html": [
       "<div>\n",
       "<style scoped>\n",
       "    .dataframe tbody tr th:only-of-type {\n",
       "        vertical-align: middle;\n",
       "    }\n",
       "\n",
       "    .dataframe tbody tr th {\n",
       "        vertical-align: top;\n",
       "    }\n",
       "\n",
       "    .dataframe thead th {\n",
       "        text-align: right;\n",
       "    }\n",
       "</style>\n",
       "<table border=\"1\" class=\"dataframe\">\n",
       "  <thead>\n",
       "    <tr style=\"text-align: right;\">\n",
       "      <th></th>\n",
       "      <th>Correspondant</th>\n",
       "      <th>Date</th>\n",
       "      <th>Durée</th>\n",
       "      <th>Type d'appel</th>\n",
       "      <th>Abonné</th>\n",
       "      <th>IMSI</th>\n",
       "      <th>IMEI</th>\n",
       "      <th>Années</th>\n",
       "      <th>Mois</th>\n",
       "      <th>Jour de la semaine</th>\n",
       "    </tr>\n",
       "  </thead>\n",
       "  <tbody>\n",
       "    <tr>\n",
       "      <th>0</th>\n",
       "      <td>Data</td>\n",
       "      <td>2023-12-13 00:37:53</td>\n",
       "      <td>3600</td>\n",
       "      <td>DATA</td>\n",
       "      <td>262693774358</td>\n",
       "      <td>647000122833247</td>\n",
       "      <td>865503059975160</td>\n",
       "      <td>2023</td>\n",
       "      <td>Décembre</td>\n",
       "      <td>Mercredi</td>\n",
       "    </tr>\n",
       "    <tr>\n",
       "      <th>1</th>\n",
       "      <td>Data</td>\n",
       "      <td>2023-12-13 00:59:16</td>\n",
       "      <td>3600</td>\n",
       "      <td>DATA</td>\n",
       "      <td>262693774358</td>\n",
       "      <td>647000122833247</td>\n",
       "      <td>865503059975160</td>\n",
       "      <td>2023</td>\n",
       "      <td>Décembre</td>\n",
       "      <td>Mercredi</td>\n",
       "    </tr>\n",
       "    <tr>\n",
       "      <th>2</th>\n",
       "      <td>Data</td>\n",
       "      <td>2023-12-13 01:37:53</td>\n",
       "      <td>3600</td>\n",
       "      <td>DATA</td>\n",
       "      <td>262693774358</td>\n",
       "      <td>647000122833247</td>\n",
       "      <td>865503059975160</td>\n",
       "      <td>2023</td>\n",
       "      <td>Décembre</td>\n",
       "      <td>Mercredi</td>\n",
       "    </tr>\n",
       "    <tr>\n",
       "      <th>3</th>\n",
       "      <td>Data</td>\n",
       "      <td>2023-12-13 01:59:16</td>\n",
       "      <td>3600</td>\n",
       "      <td>DATA</td>\n",
       "      <td>262693774358</td>\n",
       "      <td>647000122833247</td>\n",
       "      <td>865503059975160</td>\n",
       "      <td>2023</td>\n",
       "      <td>Décembre</td>\n",
       "      <td>Mercredi</td>\n",
       "    </tr>\n",
       "    <tr>\n",
       "      <th>4</th>\n",
       "      <td>Data</td>\n",
       "      <td>2023-12-13 02:37:53</td>\n",
       "      <td>3600</td>\n",
       "      <td>DATA</td>\n",
       "      <td>262693774358</td>\n",
       "      <td>647000122833247</td>\n",
       "      <td>865503059975160</td>\n",
       "      <td>2023</td>\n",
       "      <td>Décembre</td>\n",
       "      <td>Mercredi</td>\n",
       "    </tr>\n",
       "  </tbody>\n",
       "</table>\n",
       "</div>"
      ],
      "text/plain": [
       "  Correspondant                Date Durée Type d'appel        Abonné  \\\n",
       "0          Data 2023-12-13 00:37:53  3600         DATA  262693774358   \n",
       "1          Data 2023-12-13 00:59:16  3600         DATA  262693774358   \n",
       "2          Data 2023-12-13 01:37:53  3600         DATA  262693774358   \n",
       "3          Data 2023-12-13 01:59:16  3600         DATA  262693774358   \n",
       "4          Data 2023-12-13 02:37:53  3600         DATA  262693774358   \n",
       "\n",
       "              IMSI             IMEI  Années      Mois Jour de la semaine  \n",
       "0  647000122833247  865503059975160    2023  Décembre           Mercredi  \n",
       "1  647000122833247  865503059975160    2023  Décembre           Mercredi  \n",
       "2  647000122833247  865503059975160    2023  Décembre           Mercredi  \n",
       "3  647000122833247  865503059975160    2023  Décembre           Mercredi  \n",
       "4  647000122833247  865503059975160    2023  Décembre           Mercredi  "
      ]
     },
     "execution_count": 9,
     "metadata": {},
     "output_type": "execute_result"
    }
   ],
   "source": [
    "df_mt20_no_adress = preprocess_data(\"/home/antoine/telephony_insight_project/streamlit/app/source/models_files/ORRE_MT20_NO_ADRESSE.csv\")\n",
    "\n",
    "df_mt20_no_adress.head()"
   ]
  },
  {
   "cell_type": "code",
   "execution_count": 11,
   "metadata": {},
   "outputs": [],
   "source": [
    "# Compter le nombre de communications par correspondant\n",
    "def count_corr(df):\n",
    "    try:\n",
    "        # Compter le nombre de contacts par correspondant\n",
    "        correspondant_counts = df['Correspondant'].value_counts().reset_index()\n",
    "        correspondant_counts.columns = ['Correspondant', 'Nombre de communication']\n",
    "        # Filtrer pour garder uniquement les correspondants ayant 11 ou 12 caractères\n",
    "        correspondant_counts = correspondant_counts[correspondant_counts['Correspondant'].str.len().isin([11, 12])]\n",
    "        total_contacts = correspondant_counts['Nombre de communication'].sum()\n",
    "        # Calculer le pourcentage et arrondir à un chiffre après la virgule\n",
    "        correspondant_counts['Pourcentage'] = ((correspondant_counts['Nombre de communication'] / total_contacts) * 100).round(1)\n",
    "        # Trier par nombre de contacts du plus élevé au plus bas\n",
    "        correspondant_counts = correspondant_counts.sort_values(by='Nombre de communication', ascending=False)\n",
    "        return correspondant_counts\n",
    "    except Exception as e:\n",
    "        print(f\"Erreur lors du comptage des correspondants: {e}\")\n",
    "        return pd.DataFrame()  # Retourner un DataFrame vide en cas d'erreur\n",
    "\n",
    "# Compter le nombre de communications par IMEI\n",
    "def count_IMEI(df):\n",
    "    try:\n",
    "        imei_counts = df['IMEI'].value_counts().reset_index()\n",
    "        imei_counts.columns = ['IMEI', 'Nombre de communication']\n",
    "        return imei_counts\n",
    "    except Exception as e:\n",
    "        print(f\"Erreur lors du comptage des IMEI: {e}\")\n",
    "        return pd.DataFrame()\n",
    "\n",
    "# Compter le nombre de communications par IMSI\n",
    "def count_IMSI(df):\n",
    "    try:\n",
    "        imsi_counts = df['IMSI'].value_counts().reset_index()\n",
    "        imsi_counts.columns = ['IMSI', 'Nombre de communication']\n",
    "        return imsi_counts\n",
    "    except Exception as e:\n",
    "        print(f\"Erreur lors du comptage des IMSI: {e}\")\n",
    "        return pd.DataFrame()\n",
    "\n",
    "# Compter le nombre de types d'appel et créer un graphique en secteurs\n",
    "def count_phone_type(df):\n",
    "    try:\n",
    "        type_appel_counts = df[\"Type d'appel\"].value_counts().reset_index()\n",
    "        type_appel_counts.columns = ['Type d\\'appel', 'Nombre']\n",
    "        colors = ['gold', 'mediumturquoise', 'darkorange', 'lightgreen']  # Définir les couleurs pour le graphique\n",
    "        fig = go.Figure(data=[go.Pie(labels=type_appel_counts['Type d\\'appel'],\n",
    "                                       values=type_appel_counts['Nombre'])])\n",
    "        fig.update_traces(hoverinfo='label+percent', textinfo='value', textfont_size=20,\n",
    "                          marker=dict(colors=colors, line=dict(color='#000000', width=2)))\n",
    "        return fig  # Retourner la figure Plotly\n",
    "    except Exception as e:\n",
    "        print(f\"Erreur lors du comptage des types d'appel: {e}\")\n",
    "        return go.Figure()  # Retourner une figure vide en cas d'erreur\n",
    "\n",
    "# Créer un histogramme global du nombre de communications par jour\n",
    "def comm_histo_global(df):\n",
    "    try:\n",
    "        df['DateOnly'] = df['Date'].dt.date  # Extraire uniquement la date\n",
    "        daily_counts = df.groupby('DateOnly').size().reset_index(name='Nombre de communications')\n",
    "        daily_counts['DateOnly'] = pd.to_datetime(daily_counts['DateOnly'])  # Convertir en datetime\n",
    "        fig = go.Figure()\n",
    "        fig.add_trace(go.Bar(\n",
    "            x=daily_counts['DateOnly'],\n",
    "            y=daily_counts['Nombre de communications'],\n",
    "            marker=dict(line=dict(color='black', width=1))  # Bordure noire autour des barres\n",
    "        ))\n",
    "        fig.update_layout(\n",
    "            title='Nombre de communications par jour',\n",
    "            xaxis_title='Date',\n",
    "            yaxis_title='Nombre de communications',\n",
    "            xaxis=dict(tickformat='%Y-%m-%d'),  # Format des dates sur l'axe x\n",
    "            showlegend=False  # Masquer la légende si non nécessaire\n",
    "        )\n",
    "        return fig\n",
    "    except Exception as e:\n",
    "        print(f\"Erreur lors de la création de l'histogramme global: {e}\")\n",
    "        return go.Figure()\n",
    "\n",
    "# Créer un histogramme mensuel du nombre de communications par mois\n",
    "def comm_histo_monthly(df):\n",
    "    try:\n",
    "        fig_monthly = go.Figure()\n",
    "        fig_monthly.add_trace(go.Histogram(x=df['Mois'].dropna().astype(str),\n",
    "                                            histfunc='count',\n",
    "                                            name='Communications par mois',\n",
    "                                            marker=dict(line=dict(color='black', width=1))))\n",
    "        fig_monthly.update_layout(title='Nombre de communications par mois',\n",
    "                                   xaxis_title='Mois',\n",
    "                                   yaxis_title='Nombre de communications')\n",
    "        return fig_monthly\n",
    "    except Exception as e:\n",
    "        print(f\"Erreur lors de la création de l'histogramme mensuel: {e}\")\n",
    "        return go.Figure()\n",
    "\n",
    "# Créer un histogramme du nombre de communications par jour de la semaine\n",
    "def comm_histo_weekday(df):\n",
    "    try:\n",
    "        # Définir l'ordre des jours de la semaine\n",
    "        jours_semaine = ['Lundi', 'Mardi', 'Mercredi', 'Jeudi', 'Vendredi', 'Samedi', 'Dimanche']\n",
    "\n",
    "        # Compter le nombre de communications par jour\n",
    "        counts = df['Jour de la semaine'].value_counts().reindex(jours_semaine, fill_value=0)\n",
    "\n",
    "        # Créer l'histogramme\n",
    "        fig_weekday = go.Figure()\n",
    "        fig_weekday.add_trace(go.Bar(x=counts.index,\n",
    "                                      y=counts.values,\n",
    "                                      name='Communications par jour de la semaine',\n",
    "                                      marker=dict(line=dict(color='black', width=1))))\n",
    "\n",
    "        # Mettre à jour la mise en page\n",
    "        fig_weekday.update_layout(title='Nombre de communications par jour de la semaine',\n",
    "                                   xaxis_title='Jour de la semaine',\n",
    "                                   yaxis_title='Nombre de communications',\n",
    "                                   xaxis=dict(type='category'))  # Assurez-vous que l'axe X est traité comme une catégorie\n",
    "\n",
    "        return fig_weekday\n",
    "    except Exception as e:\n",
    "        print(f\"Erreur lors de la création de l'histogramme par jour de la semaine: {e}\")\n",
    "        return go.Figure()\n",
    "\n",
    "# Créer un histogramme du nombre de communications par heure\n",
    "def comm_histo_hour(df):\n",
    "    try:\n",
    "        df['Date'] = pd.to_datetime(df['Date'])  # Convertir en datetime\n",
    "        df['Hour'] = df['Date'].dt.hour  # Extraire l'heure\n",
    "        fig = px.histogram(df, x='Hour', title='Nombre de communications par heure de la journée',\n",
    "                           labels={'Hour': 'Heure', 'count': 'Nombre de communications'},\n",
    "                           histnorm='')\n",
    "        # Ajouter des bordures aux barres\n",
    "        fig.update_traces(marker=dict(line=dict(color='black', width=1)))\n",
    "        return fig\n",
    "    except Exception as e:\n",
    "        print(f\"Erreur lors de la création de l'histogramme par heure: {e}\")\n",
    "        return go.Figure()\n",
    "\n",
    "# Compter le nombre d'appels par adresse et calculer les pourcentages associés\n",
    "def adresse_count(df):\n",
    "    try:\n",
    "       adresse_counts = df['Adresse'].value_counts().reset_index()\n",
    "       adresse_counts.columns = ['Adresse', 'Nombre de déclenchement']\n",
    "       adresse_counts.dropna(axis=0, inplace=True)  # Supprimer les lignes sans adresse\n",
    "       total_contacts = adresse_counts['Nombre de déclenchement'].sum()\n",
    "       adresse_counts['Pourcentage'] = ((adresse_counts['Nombre de déclenchement'] / total_contacts) * 100).round(1)\n",
    "       adresse_counts.sort_values(by='Nombre de déclenchement', ascending=False, inplace=True)\n",
    "       return adresse_counts\n",
    "    except Exception as e:\n",
    "       print(f\"Erreur lors du comptage des adresses: {e}\")\n",
    "       return pd.DataFrame()\n",
    "\n",
    "# Créer un scatter plot basé sur les villes et les dates\n",
    "def scatter_plot_ville(df):\n",
    "    try:\n",
    "       fig = px.scatter(df, x='Date', y='Ville', color='Ville', title='Localisation en fonction de la date')\n",
    "       return fig\n",
    "    except Exception as e:\n",
    "       print(f\"Erreur lors de la création du scatter plot des villes: {e}\")\n",
    "       return go.Figure()  # Retourner une figure vide en cas d'erreur\n",
    "\n",
    "\n",
    "# Liste pour stocker les adresses non trouvées\n",
    "non_found_addresses = []\n",
    "\n",
    "# Fonction pour géocoder une adresse via un service externe (API)\n",
    "def geocode_address_datagouv(address):\n",
    "    try:\n",
    "        url = \"https://data.geopf.fr/geocodage/search\"\n",
    "        params = {\n",
    "            'q': address,\n",
    "            'limit': 1  # Limiter à 1 résultat\n",
    "        }\n",
    "        response = requests.get(url, params=params)\n",
    "\n",
    "        if response.status_code == 200:\n",
    "            data = response.json()\n",
    "            if data and 'features' in data and len(data['features']) > 0:\n",
    "                coords = data['features'][0]['geometry']['coordinates']\n",
    "                return (coords[1], coords[0])  # Retourner (latitude, longitude)\n",
    "            else:\n",
    "                non_found_addresses.append(address)  # Ajouter à la liste si non trouvé\n",
    "                return (None, None)\n",
    "        else:\n",
    "            print(f\"Erreur lors de la requête : {response.status_code}\")\n",
    "            non_found_addresses.append(address)  # Ajouter à la liste si erreur\n",
    "            return (None, None)\n",
    "    except Exception as e:\n",
    "        print(f\"Erreur lors du géocodage de l'adresse '{address}': {e}\")\n",
    "        non_found_addresses.append(address)  # Ajouter à la liste si exception\n",
    "        return (None, None)\n",
    "\n",
    "\n",
    "# Créer une carte des adresses pour l'opérateur ORRE.\n",
    "def carto_adresse_orre(df):\n",
    "    try:\n",
    "        fig = px.scatter_map(df,\n",
    "                            lat=\"Latitude\", lon=\"Longitude\",\n",
    "                            color=\"Pourcentage\", size=\"Nombre de déclenchement\",\n",
    "                            hover_name=\"Adresse\",\n",
    "                            size_max=60, zoom=10,\n",
    "                            color_continuous_scale=px.colors.sequential.Bluered,\n",
    "                            map_style=\"carto-positron\")\n",
    "        return fig\n",
    "    except Exception as e:\n",
    "        print(f\"Erreur lors de la création de la carte ORRE: {e}\")\n",
    "        return go.Figure()"
   ]
  },
  {
   "cell_type": "code",
   "execution_count": 26,
   "metadata": {},
   "outputs": [
    {
     "data": {
      "text/html": [
       "<div>\n",
       "<style scoped>\n",
       "    .dataframe tbody tr th:only-of-type {\n",
       "        vertical-align: middle;\n",
       "    }\n",
       "\n",
       "    .dataframe tbody tr th {\n",
       "        vertical-align: top;\n",
       "    }\n",
       "\n",
       "    .dataframe thead th {\n",
       "        text-align: right;\n",
       "    }\n",
       "</style>\n",
       "<table border=\"1\" class=\"dataframe\">\n",
       "  <thead>\n",
       "    <tr style=\"text-align: right;\">\n",
       "      <th></th>\n",
       "      <th>Correspondant</th>\n",
       "      <th>Nombre de communication</th>\n",
       "      <th>Pourcentage</th>\n",
       "    </tr>\n",
       "  </thead>\n",
       "  <tbody>\n",
       "    <tr>\n",
       "      <th>0</th>\n",
       "      <td>262692434962</td>\n",
       "      <td>44</td>\n",
       "      <td>55.0</td>\n",
       "    </tr>\n",
       "    <tr>\n",
       "      <th>1</th>\n",
       "      <td>262692144008</td>\n",
       "      <td>35</td>\n",
       "      <td>43.8</td>\n",
       "    </tr>\n",
       "    <tr>\n",
       "      <th>6</th>\n",
       "      <td>262693017384</td>\n",
       "      <td>1</td>\n",
       "      <td>1.2</td>\n",
       "    </tr>\n",
       "  </tbody>\n",
       "</table>\n",
       "</div>"
      ],
      "text/plain": [
       "  Correspondant  Nombre de communication  Pourcentage\n",
       "0  262692434962                       44         55.0\n",
       "1  262692144008                       35         43.8\n",
       "6  262693017384                        1          1.2"
      ]
     },
     "execution_count": 26,
     "metadata": {},
     "output_type": "execute_result"
    }
   ],
   "source": [
    "corr = count_corr(df_mt24)\n",
    "\n",
    "corr.head()"
   ]
  },
  {
   "cell_type": "code",
   "execution_count": 27,
   "metadata": {},
   "outputs": [
    {
     "data": {
      "text/html": [
       "<div>\n",
       "<style scoped>\n",
       "    .dataframe tbody tr th:only-of-type {\n",
       "        vertical-align: middle;\n",
       "    }\n",
       "\n",
       "    .dataframe tbody tr th {\n",
       "        vertical-align: top;\n",
       "    }\n",
       "\n",
       "    .dataframe thead th {\n",
       "        text-align: right;\n",
       "    }\n",
       "</style>\n",
       "<table border=\"1\" class=\"dataframe\">\n",
       "  <thead>\n",
       "    <tr style=\"text-align: right;\">\n",
       "      <th></th>\n",
       "      <th>IMSI</th>\n",
       "      <th>Nombre de communication</th>\n",
       "    </tr>\n",
       "  </thead>\n",
       "  <tbody>\n",
       "    <tr>\n",
       "      <th>0</th>\n",
       "      <td>647049700169491</td>\n",
       "      <td>133</td>\n",
       "    </tr>\n",
       "    <tr>\n",
       "      <th>1</th>\n",
       "      <td>647049700144759</td>\n",
       "      <td>5</td>\n",
       "    </tr>\n",
       "  </tbody>\n",
       "</table>\n",
       "</div>"
      ],
      "text/plain": [
       "              IMSI  Nombre de communication\n",
       "0  647049700169491                      133\n",
       "1  647049700144759                        5"
      ]
     },
     "execution_count": 27,
     "metadata": {},
     "output_type": "execute_result"
    }
   ],
   "source": [
    "imsi = count_IMSI(df_mt24)\n",
    "\n",
    "imsi.head()"
   ]
  },
  {
   "cell_type": "code",
   "execution_count": 29,
   "metadata": {},
   "outputs": [
    {
     "name": "stdout",
     "output_type": "stream",
     "text": [
      "2\n"
     ]
    }
   ],
   "source": [
    "print(imsi.shape[0])"
   ]
  },
  {
   "cell_type": "code",
   "execution_count": 34,
   "metadata": {},
   "outputs": [
    {
     "name": "stdout",
     "output_type": "stream",
     "text": [
      "Nombre total de jours: 11\n"
     ]
    }
   ],
   "source": [
    "total_days = (df_mt24['Date'].max() - df_mt24['Date'].min()).days\n",
    "print(f\"Nombre total de jours: {total_days}\")"
   ]
  },
  {
   "cell_type": "code",
   "execution_count": 35,
   "metadata": {},
   "outputs": [
    {
     "data": {
      "application/vnd.plotly.v1+json": {
       "config": {
        "plotlyServerURL": "https://plot.ly"
       },
       "data": [
        {
         "alignmentgroup": "True",
         "bingroup": "x",
         "hovertemplate": "IMSI=647049700144759<br>Date=%{x}<br>count=%{y}<extra></extra>",
         "legendgroup": "647049700144759",
         "marker": {
          "color": "#636efa",
          "pattern": {
           "shape": ""
          }
         },
         "name": "647049700144759",
         "nbinsx": 11,
         "offsetgroup": "647049700144759",
         "orientation": "v",
         "showlegend": true,
         "type": "histogram",
         "x": [
          "2023-03-17T12:34:17",
          "2023-03-17T12:42:29",
          "2023-03-17T12:59:00",
          "2023-03-17T13:49:28",
          "2023-03-17T13:57:28"
         ],
         "xaxis": "x",
         "yaxis": "y"
        },
        {
         "alignmentgroup": "True",
         "bingroup": "x",
         "hovertemplate": "IMSI=647049700169491<br>Date=%{x}<br>count=%{y}<extra></extra>",
         "legendgroup": "647049700169491",
         "marker": {
          "color": "#EF553B",
          "pattern": {
           "shape": ""
          }
         },
         "name": "647049700169491",
         "nbinsx": 11,
         "offsetgroup": "647049700169491",
         "orientation": "v",
         "showlegend": true,
         "type": "histogram",
         "x": [
          "2023-03-26T14:02:06",
          "2023-03-26T14:02:10",
          "2023-03-26T14:02:16",
          "2023-03-26T14:02:21",
          "2023-03-26T14:02:26",
          "2023-03-26T14:02:31",
          "2023-03-26T14:02:38",
          "2023-03-26T14:02:43",
          "2023-03-27T06:06:35",
          "2023-03-27T06:06:40",
          "2023-03-27T06:06:45",
          "2023-03-27T08:05:30",
          "2023-03-27T08:05:51",
          "2023-03-27T08:08:42",
          "2023-03-27T08:14:21",
          "2023-03-27T08:15:53",
          "2023-03-27T08:16:28",
          "2023-03-27T10:03:38",
          "2023-03-27T10:06:33",
          "2023-03-27T10:06:34",
          "2023-03-27T10:07:27",
          "2023-03-27T10:07:41",
          "2023-03-27T10:08:10",
          "2023-03-27T10:08:31",
          "2023-03-27T10:12:57",
          "2023-03-27T10:19:03",
          "2023-03-27T10:19:22",
          "2023-03-27T10:19:38",
          "2023-03-27T10:20:31",
          "2023-03-27T10:22:35",
          "2023-03-27T10:32:10",
          "2023-03-27T13:25:03",
          "2023-03-27T17:18:40",
          "2023-03-27T17:19:52",
          "2023-03-27T20:02:04",
          "2023-03-27T20:06:16",
          "2023-03-27T20:38:25",
          "2023-03-27T21:06:18",
          "2023-03-27T21:06:42",
          "2023-03-27T21:06:52",
          "2023-03-27T21:07:12",
          "2023-03-27T21:07:47",
          "2023-03-27T21:38:33",
          "2023-03-27T21:38:51",
          "2023-03-27T21:49:54",
          "2023-03-27T21:51:03",
          "2023-03-27T21:52:24",
          "2023-03-27T23:10:43",
          "2023-03-28T06:52:11",
          "2023-03-28T06:52:23",
          "2023-03-28T09:34:47",
          "2023-03-28T09:52:55",
          "2023-03-28T10:06:44",
          "2023-03-28T10:07:13",
          "2023-03-28T10:09:33",
          "2023-03-28T10:10:11",
          "2023-03-28T10:10:38",
          "2023-03-28T10:11:01",
          "2023-03-28T10:12:52",
          "2023-03-28T10:13:00",
          "2023-03-28T10:13:37",
          "2023-03-28T10:13:47",
          "2023-03-28T10:14:08",
          "2023-03-28T10:14:29",
          "2023-03-28T10:20:20",
          "2023-03-28T10:20:38",
          "2023-03-28T10:21:36",
          "2023-03-28T10:21:58",
          "2023-03-28T10:23:20",
          "2023-03-28T10:23:46",
          "2023-03-28T10:24:46",
          "2023-03-28T10:25:08",
          "2023-03-28T10:26:12",
          "2023-03-28T10:26:23",
          "2023-03-28T10:26:45",
          "2023-03-28T10:27:00",
          "2023-03-28T10:27:59",
          "2023-03-28T10:28:14",
          "2023-03-28T10:28:23",
          "2023-03-28T10:28:45",
          "2023-03-28T10:35:59",
          "2023-03-28T10:43:09",
          "2023-03-28T10:53:52",
          "2023-03-28T10:54:08",
          "2023-03-28T11:03:25",
          "2023-03-28T11:04:04",
          "2023-03-28T11:04:27",
          "2023-03-28T11:04:34",
          "2023-03-28T11:04:45",
          "2023-03-28T11:11:26",
          "2023-03-28T11:14:57",
          "2023-03-28T11:15:30",
          "2023-03-28T17:56:56",
          "2023-03-28T18:34:27",
          "2023-03-28T18:34:59",
          "2023-03-28T18:39:48",
          "2023-03-28T18:40:08",
          "2023-03-28T18:40:18",
          "2023-03-28T18:41:12",
          "2023-03-28T18:42:11",
          "2023-03-28T18:44:04",
          "2023-03-28T18:44:23",
          "2023-03-28T18:45:09",
          "2023-03-28T18:45:22",
          "2023-03-28T18:45:33",
          "2023-03-28T18:46:15",
          "2023-03-28T18:46:21",
          "2023-03-28T18:47:06",
          "2023-03-28T18:47:33",
          "2023-03-28T18:48:03",
          "2023-03-28T18:48:37",
          "2023-03-28T18:48:44",
          "2023-03-28T18:49:11",
          "2023-03-28T18:52:57",
          "2023-03-28T18:57:51",
          "2023-03-28T19:06:20",
          "2023-03-28T19:21:20",
          "2023-03-29T06:06:23",
          "2023-03-29T06:24:43",
          "2023-03-29T06:33:37",
          "2023-03-29T06:35:22",
          "2023-03-29T06:54:43",
          "2023-03-29T06:54:49",
          "2023-03-29T06:57:07",
          "2023-03-29T06:57:16",
          "2023-03-29T06:57:23",
          "2023-03-29T06:58:31",
          "2023-03-29T07:26:06",
          "2023-03-29T07:27:31",
          "2023-03-29T07:27:46",
          "2023-03-29T07:27:57",
          "2023-03-29T07:38:25",
          "2023-03-29T07:46:01"
         ],
         "xaxis": "x",
         "yaxis": "y"
        }
       ],
       "layout": {
        "bargap": 0.01,
        "barmode": "relative",
        "legend": {
         "title": {
          "text": "IMSI"
         },
         "tracegroupgap": 0
        },
        "template": {
         "data": {
          "bar": [
           {
            "error_x": {
             "color": "#2a3f5f"
            },
            "error_y": {
             "color": "#2a3f5f"
            },
            "marker": {
             "line": {
              "color": "#E5ECF6",
              "width": 0.5
             },
             "pattern": {
              "fillmode": "overlay",
              "size": 10,
              "solidity": 0.2
             }
            },
            "type": "bar"
           }
          ],
          "barpolar": [
           {
            "marker": {
             "line": {
              "color": "#E5ECF6",
              "width": 0.5
             },
             "pattern": {
              "fillmode": "overlay",
              "size": 10,
              "solidity": 0.2
             }
            },
            "type": "barpolar"
           }
          ],
          "carpet": [
           {
            "aaxis": {
             "endlinecolor": "#2a3f5f",
             "gridcolor": "white",
             "linecolor": "white",
             "minorgridcolor": "white",
             "startlinecolor": "#2a3f5f"
            },
            "baxis": {
             "endlinecolor": "#2a3f5f",
             "gridcolor": "white",
             "linecolor": "white",
             "minorgridcolor": "white",
             "startlinecolor": "#2a3f5f"
            },
            "type": "carpet"
           }
          ],
          "choropleth": [
           {
            "colorbar": {
             "outlinewidth": 0,
             "ticks": ""
            },
            "type": "choropleth"
           }
          ],
          "contour": [
           {
            "colorbar": {
             "outlinewidth": 0,
             "ticks": ""
            },
            "colorscale": [
             [
              0,
              "#0d0887"
             ],
             [
              0.1111111111111111,
              "#46039f"
             ],
             [
              0.2222222222222222,
              "#7201a8"
             ],
             [
              0.3333333333333333,
              "#9c179e"
             ],
             [
              0.4444444444444444,
              "#bd3786"
             ],
             [
              0.5555555555555556,
              "#d8576b"
             ],
             [
              0.6666666666666666,
              "#ed7953"
             ],
             [
              0.7777777777777778,
              "#fb9f3a"
             ],
             [
              0.8888888888888888,
              "#fdca26"
             ],
             [
              1,
              "#f0f921"
             ]
            ],
            "type": "contour"
           }
          ],
          "contourcarpet": [
           {
            "colorbar": {
             "outlinewidth": 0,
             "ticks": ""
            },
            "type": "contourcarpet"
           }
          ],
          "heatmap": [
           {
            "colorbar": {
             "outlinewidth": 0,
             "ticks": ""
            },
            "colorscale": [
             [
              0,
              "#0d0887"
             ],
             [
              0.1111111111111111,
              "#46039f"
             ],
             [
              0.2222222222222222,
              "#7201a8"
             ],
             [
              0.3333333333333333,
              "#9c179e"
             ],
             [
              0.4444444444444444,
              "#bd3786"
             ],
             [
              0.5555555555555556,
              "#d8576b"
             ],
             [
              0.6666666666666666,
              "#ed7953"
             ],
             [
              0.7777777777777778,
              "#fb9f3a"
             ],
             [
              0.8888888888888888,
              "#fdca26"
             ],
             [
              1,
              "#f0f921"
             ]
            ],
            "type": "heatmap"
           }
          ],
          "heatmapgl": [
           {
            "colorbar": {
             "outlinewidth": 0,
             "ticks": ""
            },
            "colorscale": [
             [
              0,
              "#0d0887"
             ],
             [
              0.1111111111111111,
              "#46039f"
             ],
             [
              0.2222222222222222,
              "#7201a8"
             ],
             [
              0.3333333333333333,
              "#9c179e"
             ],
             [
              0.4444444444444444,
              "#bd3786"
             ],
             [
              0.5555555555555556,
              "#d8576b"
             ],
             [
              0.6666666666666666,
              "#ed7953"
             ],
             [
              0.7777777777777778,
              "#fb9f3a"
             ],
             [
              0.8888888888888888,
              "#fdca26"
             ],
             [
              1,
              "#f0f921"
             ]
            ],
            "type": "heatmapgl"
           }
          ],
          "histogram": [
           {
            "marker": {
             "pattern": {
              "fillmode": "overlay",
              "size": 10,
              "solidity": 0.2
             }
            },
            "type": "histogram"
           }
          ],
          "histogram2d": [
           {
            "colorbar": {
             "outlinewidth": 0,
             "ticks": ""
            },
            "colorscale": [
             [
              0,
              "#0d0887"
             ],
             [
              0.1111111111111111,
              "#46039f"
             ],
             [
              0.2222222222222222,
              "#7201a8"
             ],
             [
              0.3333333333333333,
              "#9c179e"
             ],
             [
              0.4444444444444444,
              "#bd3786"
             ],
             [
              0.5555555555555556,
              "#d8576b"
             ],
             [
              0.6666666666666666,
              "#ed7953"
             ],
             [
              0.7777777777777778,
              "#fb9f3a"
             ],
             [
              0.8888888888888888,
              "#fdca26"
             ],
             [
              1,
              "#f0f921"
             ]
            ],
            "type": "histogram2d"
           }
          ],
          "histogram2dcontour": [
           {
            "colorbar": {
             "outlinewidth": 0,
             "ticks": ""
            },
            "colorscale": [
             [
              0,
              "#0d0887"
             ],
             [
              0.1111111111111111,
              "#46039f"
             ],
             [
              0.2222222222222222,
              "#7201a8"
             ],
             [
              0.3333333333333333,
              "#9c179e"
             ],
             [
              0.4444444444444444,
              "#bd3786"
             ],
             [
              0.5555555555555556,
              "#d8576b"
             ],
             [
              0.6666666666666666,
              "#ed7953"
             ],
             [
              0.7777777777777778,
              "#fb9f3a"
             ],
             [
              0.8888888888888888,
              "#fdca26"
             ],
             [
              1,
              "#f0f921"
             ]
            ],
            "type": "histogram2dcontour"
           }
          ],
          "mesh3d": [
           {
            "colorbar": {
             "outlinewidth": 0,
             "ticks": ""
            },
            "type": "mesh3d"
           }
          ],
          "parcoords": [
           {
            "line": {
             "colorbar": {
              "outlinewidth": 0,
              "ticks": ""
             }
            },
            "type": "parcoords"
           }
          ],
          "pie": [
           {
            "automargin": true,
            "type": "pie"
           }
          ],
          "scatter": [
           {
            "fillpattern": {
             "fillmode": "overlay",
             "size": 10,
             "solidity": 0.2
            },
            "type": "scatter"
           }
          ],
          "scatter3d": [
           {
            "line": {
             "colorbar": {
              "outlinewidth": 0,
              "ticks": ""
             }
            },
            "marker": {
             "colorbar": {
              "outlinewidth": 0,
              "ticks": ""
             }
            },
            "type": "scatter3d"
           }
          ],
          "scattercarpet": [
           {
            "marker": {
             "colorbar": {
              "outlinewidth": 0,
              "ticks": ""
             }
            },
            "type": "scattercarpet"
           }
          ],
          "scattergeo": [
           {
            "marker": {
             "colorbar": {
              "outlinewidth": 0,
              "ticks": ""
             }
            },
            "type": "scattergeo"
           }
          ],
          "scattergl": [
           {
            "marker": {
             "colorbar": {
              "outlinewidth": 0,
              "ticks": ""
             }
            },
            "type": "scattergl"
           }
          ],
          "scattermapbox": [
           {
            "marker": {
             "colorbar": {
              "outlinewidth": 0,
              "ticks": ""
             }
            },
            "type": "scattermapbox"
           }
          ],
          "scatterpolar": [
           {
            "marker": {
             "colorbar": {
              "outlinewidth": 0,
              "ticks": ""
             }
            },
            "type": "scatterpolar"
           }
          ],
          "scatterpolargl": [
           {
            "marker": {
             "colorbar": {
              "outlinewidth": 0,
              "ticks": ""
             }
            },
            "type": "scatterpolargl"
           }
          ],
          "scatterternary": [
           {
            "marker": {
             "colorbar": {
              "outlinewidth": 0,
              "ticks": ""
             }
            },
            "type": "scatterternary"
           }
          ],
          "surface": [
           {
            "colorbar": {
             "outlinewidth": 0,
             "ticks": ""
            },
            "colorscale": [
             [
              0,
              "#0d0887"
             ],
             [
              0.1111111111111111,
              "#46039f"
             ],
             [
              0.2222222222222222,
              "#7201a8"
             ],
             [
              0.3333333333333333,
              "#9c179e"
             ],
             [
              0.4444444444444444,
              "#bd3786"
             ],
             [
              0.5555555555555556,
              "#d8576b"
             ],
             [
              0.6666666666666666,
              "#ed7953"
             ],
             [
              0.7777777777777778,
              "#fb9f3a"
             ],
             [
              0.8888888888888888,
              "#fdca26"
             ],
             [
              1,
              "#f0f921"
             ]
            ],
            "type": "surface"
           }
          ],
          "table": [
           {
            "cells": {
             "fill": {
              "color": "#EBF0F8"
             },
             "line": {
              "color": "white"
             }
            },
            "header": {
             "fill": {
              "color": "#C8D4E3"
             },
             "line": {
              "color": "white"
             }
            },
            "type": "table"
           }
          ]
         },
         "layout": {
          "annotationdefaults": {
           "arrowcolor": "#2a3f5f",
           "arrowhead": 0,
           "arrowwidth": 1
          },
          "autotypenumbers": "strict",
          "coloraxis": {
           "colorbar": {
            "outlinewidth": 0,
            "ticks": ""
           }
          },
          "colorscale": {
           "diverging": [
            [
             0,
             "#8e0152"
            ],
            [
             0.1,
             "#c51b7d"
            ],
            [
             0.2,
             "#de77ae"
            ],
            [
             0.3,
             "#f1b6da"
            ],
            [
             0.4,
             "#fde0ef"
            ],
            [
             0.5,
             "#f7f7f7"
            ],
            [
             0.6,
             "#e6f5d0"
            ],
            [
             0.7,
             "#b8e186"
            ],
            [
             0.8,
             "#7fbc41"
            ],
            [
             0.9,
             "#4d9221"
            ],
            [
             1,
             "#276419"
            ]
           ],
           "sequential": [
            [
             0,
             "#0d0887"
            ],
            [
             0.1111111111111111,
             "#46039f"
            ],
            [
             0.2222222222222222,
             "#7201a8"
            ],
            [
             0.3333333333333333,
             "#9c179e"
            ],
            [
             0.4444444444444444,
             "#bd3786"
            ],
            [
             0.5555555555555556,
             "#d8576b"
            ],
            [
             0.6666666666666666,
             "#ed7953"
            ],
            [
             0.7777777777777778,
             "#fb9f3a"
            ],
            [
             0.8888888888888888,
             "#fdca26"
            ],
            [
             1,
             "#f0f921"
            ]
           ],
           "sequentialminus": [
            [
             0,
             "#0d0887"
            ],
            [
             0.1111111111111111,
             "#46039f"
            ],
            [
             0.2222222222222222,
             "#7201a8"
            ],
            [
             0.3333333333333333,
             "#9c179e"
            ],
            [
             0.4444444444444444,
             "#bd3786"
            ],
            [
             0.5555555555555556,
             "#d8576b"
            ],
            [
             0.6666666666666666,
             "#ed7953"
            ],
            [
             0.7777777777777778,
             "#fb9f3a"
            ],
            [
             0.8888888888888888,
             "#fdca26"
            ],
            [
             1,
             "#f0f921"
            ]
           ]
          },
          "colorway": [
           "#636efa",
           "#EF553B",
           "#00cc96",
           "#ab63fa",
           "#FFA15A",
           "#19d3f3",
           "#FF6692",
           "#B6E880",
           "#FF97FF",
           "#FECB52"
          ],
          "font": {
           "color": "#2a3f5f"
          },
          "geo": {
           "bgcolor": "white",
           "lakecolor": "white",
           "landcolor": "#E5ECF6",
           "showlakes": true,
           "showland": true,
           "subunitcolor": "white"
          },
          "hoverlabel": {
           "align": "left"
          },
          "hovermode": "closest",
          "mapbox": {
           "style": "light"
          },
          "paper_bgcolor": "white",
          "plot_bgcolor": "#E5ECF6",
          "polar": {
           "angularaxis": {
            "gridcolor": "white",
            "linecolor": "white",
            "ticks": ""
           },
           "bgcolor": "#E5ECF6",
           "radialaxis": {
            "gridcolor": "white",
            "linecolor": "white",
            "ticks": ""
           }
          },
          "scene": {
           "xaxis": {
            "backgroundcolor": "#E5ECF6",
            "gridcolor": "white",
            "gridwidth": 2,
            "linecolor": "white",
            "showbackground": true,
            "ticks": "",
            "zerolinecolor": "white"
           },
           "yaxis": {
            "backgroundcolor": "#E5ECF6",
            "gridcolor": "white",
            "gridwidth": 2,
            "linecolor": "white",
            "showbackground": true,
            "ticks": "",
            "zerolinecolor": "white"
           },
           "zaxis": {
            "backgroundcolor": "#E5ECF6",
            "gridcolor": "white",
            "gridwidth": 2,
            "linecolor": "white",
            "showbackground": true,
            "ticks": "",
            "zerolinecolor": "white"
           }
          },
          "shapedefaults": {
           "line": {
            "color": "#2a3f5f"
           }
          },
          "ternary": {
           "aaxis": {
            "gridcolor": "white",
            "linecolor": "white",
            "ticks": ""
           },
           "baxis": {
            "gridcolor": "white",
            "linecolor": "white",
            "ticks": ""
           },
           "bgcolor": "#E5ECF6",
           "caxis": {
            "gridcolor": "white",
            "linecolor": "white",
            "ticks": ""
           }
          },
          "title": {
           "x": 0.05
          },
          "xaxis": {
           "automargin": true,
           "gridcolor": "white",
           "linecolor": "white",
           "ticks": "",
           "title": {
            "standoff": 15
           },
           "zerolinecolor": "white",
           "zerolinewidth": 2
          },
          "yaxis": {
           "automargin": true,
           "gridcolor": "white",
           "linecolor": "white",
           "ticks": "",
           "title": {
            "standoff": 15
           },
           "zerolinecolor": "white",
           "zerolinewidth": 2
          }
         }
        },
        "title": {
         "text": "Nombre de communications par jour"
        },
        "xaxis": {
         "anchor": "y",
         "domain": [
          0,
          1
         ],
         "title": {
          "text": "Date"
         }
        },
        "yaxis": {
         "anchor": "x",
         "domain": [
          0,
          1
         ],
         "title": {
          "text": "count"
         }
        }
       }
      },
      "text/html": [
       "<div>                            <div id=\"a723e0ad-0c58-4911-bd00-4d3f2b303205\" class=\"plotly-graph-div\" style=\"height:525px; width:100%;\"></div>            <script type=\"text/javascript\">                require([\"plotly\"], function(Plotly) {                    window.PLOTLYENV=window.PLOTLYENV || {};                                    if (document.getElementById(\"a723e0ad-0c58-4911-bd00-4d3f2b303205\")) {                    Plotly.newPlot(                        \"a723e0ad-0c58-4911-bd00-4d3f2b303205\",                        [{\"alignmentgroup\":\"True\",\"bingroup\":\"x\",\"hovertemplate\":\"IMSI=647049700144759\\u003cbr\\u003eDate=%{x}\\u003cbr\\u003ecount=%{y}\\u003cextra\\u003e\\u003c\\u002fextra\\u003e\",\"legendgroup\":\"647049700144759\",\"marker\":{\"color\":\"#636efa\",\"pattern\":{\"shape\":\"\"}},\"name\":\"647049700144759\",\"nbinsx\":11,\"offsetgroup\":\"647049700144759\",\"orientation\":\"v\",\"showlegend\":true,\"x\":[\"2023-03-17T12:34:17\",\"2023-03-17T12:42:29\",\"2023-03-17T12:59:00\",\"2023-03-17T13:49:28\",\"2023-03-17T13:57:28\"],\"xaxis\":\"x\",\"yaxis\":\"y\",\"type\":\"histogram\"},{\"alignmentgroup\":\"True\",\"bingroup\":\"x\",\"hovertemplate\":\"IMSI=647049700169491\\u003cbr\\u003eDate=%{x}\\u003cbr\\u003ecount=%{y}\\u003cextra\\u003e\\u003c\\u002fextra\\u003e\",\"legendgroup\":\"647049700169491\",\"marker\":{\"color\":\"#EF553B\",\"pattern\":{\"shape\":\"\"}},\"name\":\"647049700169491\",\"nbinsx\":11,\"offsetgroup\":\"647049700169491\",\"orientation\":\"v\",\"showlegend\":true,\"x\":[\"2023-03-26T14:02:06\",\"2023-03-26T14:02:10\",\"2023-03-26T14:02:16\",\"2023-03-26T14:02:21\",\"2023-03-26T14:02:26\",\"2023-03-26T14:02:31\",\"2023-03-26T14:02:38\",\"2023-03-26T14:02:43\",\"2023-03-27T06:06:35\",\"2023-03-27T06:06:40\",\"2023-03-27T06:06:45\",\"2023-03-27T08:05:30\",\"2023-03-27T08:05:51\",\"2023-03-27T08:08:42\",\"2023-03-27T08:14:21\",\"2023-03-27T08:15:53\",\"2023-03-27T08:16:28\",\"2023-03-27T10:03:38\",\"2023-03-27T10:06:33\",\"2023-03-27T10:06:34\",\"2023-03-27T10:07:27\",\"2023-03-27T10:07:41\",\"2023-03-27T10:08:10\",\"2023-03-27T10:08:31\",\"2023-03-27T10:12:57\",\"2023-03-27T10:19:03\",\"2023-03-27T10:19:22\",\"2023-03-27T10:19:38\",\"2023-03-27T10:20:31\",\"2023-03-27T10:22:35\",\"2023-03-27T10:32:10\",\"2023-03-27T13:25:03\",\"2023-03-27T17:18:40\",\"2023-03-27T17:19:52\",\"2023-03-27T20:02:04\",\"2023-03-27T20:06:16\",\"2023-03-27T20:38:25\",\"2023-03-27T21:06:18\",\"2023-03-27T21:06:42\",\"2023-03-27T21:06:52\",\"2023-03-27T21:07:12\",\"2023-03-27T21:07:47\",\"2023-03-27T21:38:33\",\"2023-03-27T21:38:51\",\"2023-03-27T21:49:54\",\"2023-03-27T21:51:03\",\"2023-03-27T21:52:24\",\"2023-03-27T23:10:43\",\"2023-03-28T06:52:11\",\"2023-03-28T06:52:23\",\"2023-03-28T09:34:47\",\"2023-03-28T09:52:55\",\"2023-03-28T10:06:44\",\"2023-03-28T10:07:13\",\"2023-03-28T10:09:33\",\"2023-03-28T10:10:11\",\"2023-03-28T10:10:38\",\"2023-03-28T10:11:01\",\"2023-03-28T10:12:52\",\"2023-03-28T10:13:00\",\"2023-03-28T10:13:37\",\"2023-03-28T10:13:47\",\"2023-03-28T10:14:08\",\"2023-03-28T10:14:29\",\"2023-03-28T10:20:20\",\"2023-03-28T10:20:38\",\"2023-03-28T10:21:36\",\"2023-03-28T10:21:58\",\"2023-03-28T10:23:20\",\"2023-03-28T10:23:46\",\"2023-03-28T10:24:46\",\"2023-03-28T10:25:08\",\"2023-03-28T10:26:12\",\"2023-03-28T10:26:23\",\"2023-03-28T10:26:45\",\"2023-03-28T10:27:00\",\"2023-03-28T10:27:59\",\"2023-03-28T10:28:14\",\"2023-03-28T10:28:23\",\"2023-03-28T10:28:45\",\"2023-03-28T10:35:59\",\"2023-03-28T10:43:09\",\"2023-03-28T10:53:52\",\"2023-03-28T10:54:08\",\"2023-03-28T11:03:25\",\"2023-03-28T11:04:04\",\"2023-03-28T11:04:27\",\"2023-03-28T11:04:34\",\"2023-03-28T11:04:45\",\"2023-03-28T11:11:26\",\"2023-03-28T11:14:57\",\"2023-03-28T11:15:30\",\"2023-03-28T17:56:56\",\"2023-03-28T18:34:27\",\"2023-03-28T18:34:59\",\"2023-03-28T18:39:48\",\"2023-03-28T18:40:08\",\"2023-03-28T18:40:18\",\"2023-03-28T18:41:12\",\"2023-03-28T18:42:11\",\"2023-03-28T18:44:04\",\"2023-03-28T18:44:23\",\"2023-03-28T18:45:09\",\"2023-03-28T18:45:22\",\"2023-03-28T18:45:33\",\"2023-03-28T18:46:15\",\"2023-03-28T18:46:21\",\"2023-03-28T18:47:06\",\"2023-03-28T18:47:33\",\"2023-03-28T18:48:03\",\"2023-03-28T18:48:37\",\"2023-03-28T18:48:44\",\"2023-03-28T18:49:11\",\"2023-03-28T18:52:57\",\"2023-03-28T18:57:51\",\"2023-03-28T19:06:20\",\"2023-03-28T19:21:20\",\"2023-03-29T06:06:23\",\"2023-03-29T06:24:43\",\"2023-03-29T06:33:37\",\"2023-03-29T06:35:22\",\"2023-03-29T06:54:43\",\"2023-03-29T06:54:49\",\"2023-03-29T06:57:07\",\"2023-03-29T06:57:16\",\"2023-03-29T06:57:23\",\"2023-03-29T06:58:31\",\"2023-03-29T07:26:06\",\"2023-03-29T07:27:31\",\"2023-03-29T07:27:46\",\"2023-03-29T07:27:57\",\"2023-03-29T07:38:25\",\"2023-03-29T07:46:01\"],\"xaxis\":\"x\",\"yaxis\":\"y\",\"type\":\"histogram\"}],                        {\"template\":{\"data\":{\"histogram2dcontour\":[{\"type\":\"histogram2dcontour\",\"colorbar\":{\"outlinewidth\":0,\"ticks\":\"\"},\"colorscale\":[[0.0,\"#0d0887\"],[0.1111111111111111,\"#46039f\"],[0.2222222222222222,\"#7201a8\"],[0.3333333333333333,\"#9c179e\"],[0.4444444444444444,\"#bd3786\"],[0.5555555555555556,\"#d8576b\"],[0.6666666666666666,\"#ed7953\"],[0.7777777777777778,\"#fb9f3a\"],[0.8888888888888888,\"#fdca26\"],[1.0,\"#f0f921\"]]}],\"choropleth\":[{\"type\":\"choropleth\",\"colorbar\":{\"outlinewidth\":0,\"ticks\":\"\"}}],\"histogram2d\":[{\"type\":\"histogram2d\",\"colorbar\":{\"outlinewidth\":0,\"ticks\":\"\"},\"colorscale\":[[0.0,\"#0d0887\"],[0.1111111111111111,\"#46039f\"],[0.2222222222222222,\"#7201a8\"],[0.3333333333333333,\"#9c179e\"],[0.4444444444444444,\"#bd3786\"],[0.5555555555555556,\"#d8576b\"],[0.6666666666666666,\"#ed7953\"],[0.7777777777777778,\"#fb9f3a\"],[0.8888888888888888,\"#fdca26\"],[1.0,\"#f0f921\"]]}],\"heatmap\":[{\"type\":\"heatmap\",\"colorbar\":{\"outlinewidth\":0,\"ticks\":\"\"},\"colorscale\":[[0.0,\"#0d0887\"],[0.1111111111111111,\"#46039f\"],[0.2222222222222222,\"#7201a8\"],[0.3333333333333333,\"#9c179e\"],[0.4444444444444444,\"#bd3786\"],[0.5555555555555556,\"#d8576b\"],[0.6666666666666666,\"#ed7953\"],[0.7777777777777778,\"#fb9f3a\"],[0.8888888888888888,\"#fdca26\"],[1.0,\"#f0f921\"]]}],\"heatmapgl\":[{\"type\":\"heatmapgl\",\"colorbar\":{\"outlinewidth\":0,\"ticks\":\"\"},\"colorscale\":[[0.0,\"#0d0887\"],[0.1111111111111111,\"#46039f\"],[0.2222222222222222,\"#7201a8\"],[0.3333333333333333,\"#9c179e\"],[0.4444444444444444,\"#bd3786\"],[0.5555555555555556,\"#d8576b\"],[0.6666666666666666,\"#ed7953\"],[0.7777777777777778,\"#fb9f3a\"],[0.8888888888888888,\"#fdca26\"],[1.0,\"#f0f921\"]]}],\"contourcarpet\":[{\"type\":\"contourcarpet\",\"colorbar\":{\"outlinewidth\":0,\"ticks\":\"\"}}],\"contour\":[{\"type\":\"contour\",\"colorbar\":{\"outlinewidth\":0,\"ticks\":\"\"},\"colorscale\":[[0.0,\"#0d0887\"],[0.1111111111111111,\"#46039f\"],[0.2222222222222222,\"#7201a8\"],[0.3333333333333333,\"#9c179e\"],[0.4444444444444444,\"#bd3786\"],[0.5555555555555556,\"#d8576b\"],[0.6666666666666666,\"#ed7953\"],[0.7777777777777778,\"#fb9f3a\"],[0.8888888888888888,\"#fdca26\"],[1.0,\"#f0f921\"]]}],\"surface\":[{\"type\":\"surface\",\"colorbar\":{\"outlinewidth\":0,\"ticks\":\"\"},\"colorscale\":[[0.0,\"#0d0887\"],[0.1111111111111111,\"#46039f\"],[0.2222222222222222,\"#7201a8\"],[0.3333333333333333,\"#9c179e\"],[0.4444444444444444,\"#bd3786\"],[0.5555555555555556,\"#d8576b\"],[0.6666666666666666,\"#ed7953\"],[0.7777777777777778,\"#fb9f3a\"],[0.8888888888888888,\"#fdca26\"],[1.0,\"#f0f921\"]]}],\"mesh3d\":[{\"type\":\"mesh3d\",\"colorbar\":{\"outlinewidth\":0,\"ticks\":\"\"}}],\"scatter\":[{\"fillpattern\":{\"fillmode\":\"overlay\",\"size\":10,\"solidity\":0.2},\"type\":\"scatter\"}],\"parcoords\":[{\"type\":\"parcoords\",\"line\":{\"colorbar\":{\"outlinewidth\":0,\"ticks\":\"\"}}}],\"scatterpolargl\":[{\"type\":\"scatterpolargl\",\"marker\":{\"colorbar\":{\"outlinewidth\":0,\"ticks\":\"\"}}}],\"bar\":[{\"error_x\":{\"color\":\"#2a3f5f\"},\"error_y\":{\"color\":\"#2a3f5f\"},\"marker\":{\"line\":{\"color\":\"#E5ECF6\",\"width\":0.5},\"pattern\":{\"fillmode\":\"overlay\",\"size\":10,\"solidity\":0.2}},\"type\":\"bar\"}],\"scattergeo\":[{\"type\":\"scattergeo\",\"marker\":{\"colorbar\":{\"outlinewidth\":0,\"ticks\":\"\"}}}],\"scatterpolar\":[{\"type\":\"scatterpolar\",\"marker\":{\"colorbar\":{\"outlinewidth\":0,\"ticks\":\"\"}}}],\"histogram\":[{\"marker\":{\"pattern\":{\"fillmode\":\"overlay\",\"size\":10,\"solidity\":0.2}},\"type\":\"histogram\"}],\"scattergl\":[{\"type\":\"scattergl\",\"marker\":{\"colorbar\":{\"outlinewidth\":0,\"ticks\":\"\"}}}],\"scatter3d\":[{\"type\":\"scatter3d\",\"line\":{\"colorbar\":{\"outlinewidth\":0,\"ticks\":\"\"}},\"marker\":{\"colorbar\":{\"outlinewidth\":0,\"ticks\":\"\"}}}],\"scattermapbox\":[{\"type\":\"scattermapbox\",\"marker\":{\"colorbar\":{\"outlinewidth\":0,\"ticks\":\"\"}}}],\"scatterternary\":[{\"type\":\"scatterternary\",\"marker\":{\"colorbar\":{\"outlinewidth\":0,\"ticks\":\"\"}}}],\"scattercarpet\":[{\"type\":\"scattercarpet\",\"marker\":{\"colorbar\":{\"outlinewidth\":0,\"ticks\":\"\"}}}],\"carpet\":[{\"aaxis\":{\"endlinecolor\":\"#2a3f5f\",\"gridcolor\":\"white\",\"linecolor\":\"white\",\"minorgridcolor\":\"white\",\"startlinecolor\":\"#2a3f5f\"},\"baxis\":{\"endlinecolor\":\"#2a3f5f\",\"gridcolor\":\"white\",\"linecolor\":\"white\",\"minorgridcolor\":\"white\",\"startlinecolor\":\"#2a3f5f\"},\"type\":\"carpet\"}],\"table\":[{\"cells\":{\"fill\":{\"color\":\"#EBF0F8\"},\"line\":{\"color\":\"white\"}},\"header\":{\"fill\":{\"color\":\"#C8D4E3\"},\"line\":{\"color\":\"white\"}},\"type\":\"table\"}],\"barpolar\":[{\"marker\":{\"line\":{\"color\":\"#E5ECF6\",\"width\":0.5},\"pattern\":{\"fillmode\":\"overlay\",\"size\":10,\"solidity\":0.2}},\"type\":\"barpolar\"}],\"pie\":[{\"automargin\":true,\"type\":\"pie\"}]},\"layout\":{\"autotypenumbers\":\"strict\",\"colorway\":[\"#636efa\",\"#EF553B\",\"#00cc96\",\"#ab63fa\",\"#FFA15A\",\"#19d3f3\",\"#FF6692\",\"#B6E880\",\"#FF97FF\",\"#FECB52\"],\"font\":{\"color\":\"#2a3f5f\"},\"hovermode\":\"closest\",\"hoverlabel\":{\"align\":\"left\"},\"paper_bgcolor\":\"white\",\"plot_bgcolor\":\"#E5ECF6\",\"polar\":{\"bgcolor\":\"#E5ECF6\",\"angularaxis\":{\"gridcolor\":\"white\",\"linecolor\":\"white\",\"ticks\":\"\"},\"radialaxis\":{\"gridcolor\":\"white\",\"linecolor\":\"white\",\"ticks\":\"\"}},\"ternary\":{\"bgcolor\":\"#E5ECF6\",\"aaxis\":{\"gridcolor\":\"white\",\"linecolor\":\"white\",\"ticks\":\"\"},\"baxis\":{\"gridcolor\":\"white\",\"linecolor\":\"white\",\"ticks\":\"\"},\"caxis\":{\"gridcolor\":\"white\",\"linecolor\":\"white\",\"ticks\":\"\"}},\"coloraxis\":{\"colorbar\":{\"outlinewidth\":0,\"ticks\":\"\"}},\"colorscale\":{\"sequential\":[[0.0,\"#0d0887\"],[0.1111111111111111,\"#46039f\"],[0.2222222222222222,\"#7201a8\"],[0.3333333333333333,\"#9c179e\"],[0.4444444444444444,\"#bd3786\"],[0.5555555555555556,\"#d8576b\"],[0.6666666666666666,\"#ed7953\"],[0.7777777777777778,\"#fb9f3a\"],[0.8888888888888888,\"#fdca26\"],[1.0,\"#f0f921\"]],\"sequentialminus\":[[0.0,\"#0d0887\"],[0.1111111111111111,\"#46039f\"],[0.2222222222222222,\"#7201a8\"],[0.3333333333333333,\"#9c179e\"],[0.4444444444444444,\"#bd3786\"],[0.5555555555555556,\"#d8576b\"],[0.6666666666666666,\"#ed7953\"],[0.7777777777777778,\"#fb9f3a\"],[0.8888888888888888,\"#fdca26\"],[1.0,\"#f0f921\"]],\"diverging\":[[0,\"#8e0152\"],[0.1,\"#c51b7d\"],[0.2,\"#de77ae\"],[0.3,\"#f1b6da\"],[0.4,\"#fde0ef\"],[0.5,\"#f7f7f7\"],[0.6,\"#e6f5d0\"],[0.7,\"#b8e186\"],[0.8,\"#7fbc41\"],[0.9,\"#4d9221\"],[1,\"#276419\"]]},\"xaxis\":{\"gridcolor\":\"white\",\"linecolor\":\"white\",\"ticks\":\"\",\"title\":{\"standoff\":15},\"zerolinecolor\":\"white\",\"automargin\":true,\"zerolinewidth\":2},\"yaxis\":{\"gridcolor\":\"white\",\"linecolor\":\"white\",\"ticks\":\"\",\"title\":{\"standoff\":15},\"zerolinecolor\":\"white\",\"automargin\":true,\"zerolinewidth\":2},\"scene\":{\"xaxis\":{\"backgroundcolor\":\"#E5ECF6\",\"gridcolor\":\"white\",\"linecolor\":\"white\",\"showbackground\":true,\"ticks\":\"\",\"zerolinecolor\":\"white\",\"gridwidth\":2},\"yaxis\":{\"backgroundcolor\":\"#E5ECF6\",\"gridcolor\":\"white\",\"linecolor\":\"white\",\"showbackground\":true,\"ticks\":\"\",\"zerolinecolor\":\"white\",\"gridwidth\":2},\"zaxis\":{\"backgroundcolor\":\"#E5ECF6\",\"gridcolor\":\"white\",\"linecolor\":\"white\",\"showbackground\":true,\"ticks\":\"\",\"zerolinecolor\":\"white\",\"gridwidth\":2}},\"shapedefaults\":{\"line\":{\"color\":\"#2a3f5f\"}},\"annotationdefaults\":{\"arrowcolor\":\"#2a3f5f\",\"arrowhead\":0,\"arrowwidth\":1},\"geo\":{\"bgcolor\":\"white\",\"landcolor\":\"#E5ECF6\",\"subunitcolor\":\"white\",\"showland\":true,\"showlakes\":true,\"lakecolor\":\"white\"},\"title\":{\"x\":0.05},\"mapbox\":{\"style\":\"light\"}}},\"xaxis\":{\"anchor\":\"y\",\"domain\":[0.0,1.0],\"title\":{\"text\":\"Date\"}},\"yaxis\":{\"anchor\":\"x\",\"domain\":[0.0,1.0],\"title\":{\"text\":\"count\"}},\"legend\":{\"title\":{\"text\":\"IMSI\"},\"tracegroupgap\":0},\"title\":{\"text\":\"Nombre de communications par jour\"},\"barmode\":\"relative\",\"bargap\":0.01},                        {\"responsive\": true}                    ).then(function(){\n",
       "                            \n",
       "var gd = document.getElementById('a723e0ad-0c58-4911-bd00-4d3f2b303205');\n",
       "var x = new MutationObserver(function (mutations, observer) {{\n",
       "        var display = window.getComputedStyle(gd).display;\n",
       "        if (!display || display === 'none') {{\n",
       "            console.log([gd, 'removed!']);\n",
       "            Plotly.purge(gd);\n",
       "            observer.disconnect();\n",
       "        }}\n",
       "}});\n",
       "\n",
       "// Listen for the removal of the full notebook cells\n",
       "var notebookContainer = gd.closest('#notebook-container');\n",
       "if (notebookContainer) {{\n",
       "    x.observe(notebookContainer, {childList: true});\n",
       "}}\n",
       "\n",
       "// Listen for the clearing of the current output cell\n",
       "var outputEl = gd.closest('.output');\n",
       "if (outputEl) {{\n",
       "    x.observe(outputEl, {childList: true});\n",
       "}}\n",
       "\n",
       "                        })                };                });            </script>        </div>"
      ]
     },
     "metadata": {},
     "output_type": "display_data"
    }
   ],
   "source": [
    "fig = px.histogram(df_mt24, x=\"Date\", color = \"IMSI\", nbins=total_days, title=\"Nombre de communications par jour\")\n",
    "fig.update_layout(bargap=0.01)\n",
    "fig.show()"
   ]
  },
  {
   "cell_type": "code",
   "execution_count": null,
   "metadata": {},
   "outputs": [],
   "source": []
  }
 ],
 "metadata": {
  "kernelspec": {
   "display_name": "telephony",
   "language": "python",
   "name": "python3"
  },
  "language_info": {
   "codemirror_mode": {
    "name": "ipython",
    "version": 3
   },
   "file_extension": ".py",
   "mimetype": "text/x-python",
   "name": "python",
   "nbconvert_exporter": "python",
   "pygments_lexer": "ipython3",
   "version": "3.9.21"
  }
 },
 "nbformat": 4,
 "nbformat_minor": 2
}
